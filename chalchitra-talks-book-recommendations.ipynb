{
 "cells": [
  {
   "cell_type": "markdown",
   "id": "1ce87bc0",
   "metadata": {
    "papermill": {
     "duration": 0.010272,
     "end_time": "2025-05-21T06:18:04.915255",
     "exception": false,
     "start_time": "2025-05-21T06:18:04.904983",
     "status": "completed"
    },
    "tags": []
   },
   "source": [
    "# Chalchitra Talks Book Recommendations"
   ]
  },
  {
   "cell_type": "markdown",
   "id": "1da3132a",
   "metadata": {
    "papermill": {
     "duration": 0.009014,
     "end_time": "2025-05-21T06:18:04.933675",
     "exception": false,
     "start_time": "2025-05-21T06:18:04.924661",
     "status": "completed"
    },
    "tags": []
   },
   "source": [
    "## Library/Package Import"
   ]
  },
  {
   "cell_type": "code",
   "execution_count": 1,
   "id": "0d8cdb72",
   "metadata": {
    "_cell_guid": "b1076dfc-b9ad-4769-8c92-a6c4dae69d19",
    "_uuid": "8f2839f25d086af736a60e9eeb907d3b93b6e0e5",
    "execution": {
     "iopub.execute_input": "2025-05-21T06:18:04.953686Z",
     "iopub.status.busy": "2025-05-21T06:18:04.953317Z",
     "iopub.status.idle": "2025-05-21T06:18:08.663841Z",
     "shell.execute_reply": "2025-05-21T06:18:08.662739Z"
    },
    "papermill": {
     "duration": 3.722548,
     "end_time": "2025-05-21T06:18:08.665531",
     "exception": false,
     "start_time": "2025-05-21T06:18:04.942983",
     "status": "completed"
    },
    "tags": []
   },
   "outputs": [
    {
     "name": "stdout",
     "output_type": "stream",
     "text": [
      "/kaggle/input/chalchitra-talks-book-recommendations/guests.csv\n",
      "/kaggle/input/chalchitra-talks-book-recommendations/books.csv\n",
      "/kaggle/input/chalchitra-talks-book-recommendations/recommendations.csv\n"
     ]
    }
   ],
   "source": [
    "import numpy as np \n",
    "import pandas as pd \n",
    "import os\n",
    "import matplotlib.pyplot as plt\n",
    "import seaborn as sns\n",
    "\n",
    "for dirname, _, filenames in os.walk('/kaggle/input'):\n",
    "    for filename in filenames:\n",
    "        print(os.path.join(dirname, filename))"
   ]
  },
  {
   "cell_type": "markdown",
   "id": "50f23575",
   "metadata": {
    "papermill": {
     "duration": 0.009112,
     "end_time": "2025-05-21T06:18:08.684611",
     "exception": false,
     "start_time": "2025-05-21T06:18:08.675499",
     "status": "completed"
    },
    "tags": []
   },
   "source": [
    "## Business Understanding"
   ]
  },
  {
   "cell_type": "markdown",
   "id": "9331a9b7",
   "metadata": {
    "papermill": {
     "duration": 0.010784,
     "end_time": "2025-05-21T06:18:08.705315",
     "exception": false,
     "start_time": "2025-05-21T06:18:08.694531",
     "status": "completed"
    },
    "tags": []
   },
   "source": [
    "**Tujuan**\n",
    "\n",
    "Membuat sistem yang dapat merekomendasikan buku kepada pengguna (dalam konteks ini, \"pengguna\" bisa jadi adalah tamu lain, atau audiens Chalchitra Talks yang mencari rekomendasi).\n",
    "Menyediakan dua jenis rekomendasi:\n",
    "- **Content-Based Filtering**: Merekomendasikan buku berdasarkan kemiripan konten buku (deskripsi, genre, penulis) dengan buku yang disukai atau direkomendasikan sebelumnya.\n",
    "- **Collaborative Filtering**: Merekomendasikan buku berdasarkan pola rekomendasi dari para tamu (misalnya, jika Tamu A dan Tamu B menyukai buku yang sama, buku lain yang disukai Tamu A mungkin juga disukai Tamu B).\n",
    "\n",
    "**Target Keberhasilan**\n",
    "\n",
    "Kemampuan sistem menghasilkan rekomendasi yang relevan.\n",
    "Peningkatan engagement (misalnya, jika ini platform online, jumlah klik pada buku yang direkomendasikan).\n",
    "Untuk evaluasi offline, kita bisa menggunakan metrik seperti presisi, recall, atau RMSE jika kita memodelkannya sebagai prediksi rating."
   ]
  },
  {
   "cell_type": "markdown",
   "id": "245eb428",
   "metadata": {
    "papermill": {
     "duration": 0.010169,
     "end_time": "2025-05-21T06:18:08.726310",
     "exception": false,
     "start_time": "2025-05-21T06:18:08.716141",
     "status": "completed"
    },
    "tags": []
   },
   "source": [
    "## Data Understanding"
   ]
  },
  {
   "cell_type": "markdown",
   "id": "5e7999cd",
   "metadata": {
    "papermill": {
     "duration": 0.009251,
     "end_time": "2025-05-21T06:18:08.746143",
     "exception": false,
     "start_time": "2025-05-21T06:18:08.736892",
     "status": "completed"
    },
    "tags": []
   },
   "source": [
    "### Data Loading"
   ]
  },
  {
   "cell_type": "code",
   "execution_count": 2,
   "id": "10fb848d",
   "metadata": {
    "execution": {
     "iopub.execute_input": "2025-05-21T06:18:08.768706Z",
     "iopub.status.busy": "2025-05-21T06:18:08.767589Z",
     "iopub.status.idle": "2025-05-21T06:18:08.772047Z",
     "shell.execute_reply": "2025-05-21T06:18:08.771110Z"
    },
    "papermill": {
     "duration": 0.016461,
     "end_time": "2025-05-21T06:18:08.773542",
     "exception": false,
     "start_time": "2025-05-21T06:18:08.757081",
     "status": "completed"
    },
    "tags": []
   },
   "outputs": [],
   "source": [
    "# import os\n",
    "# print(f\"Current Working Directory: {os.getcwd()}\")"
   ]
  },
  {
   "cell_type": "code",
   "execution_count": 3,
   "id": "9e175e82",
   "metadata": {
    "execution": {
     "iopub.execute_input": "2025-05-21T06:18:08.793912Z",
     "iopub.status.busy": "2025-05-21T06:18:08.793043Z",
     "iopub.status.idle": "2025-05-21T06:18:08.848022Z",
     "shell.execute_reply": "2025-05-21T06:18:08.846985Z"
    },
    "papermill": {
     "duration": 0.066679,
     "end_time": "2025-05-21T06:18:08.849688",
     "exception": false,
     "start_time": "2025-05-21T06:18:08.783009",
     "status": "completed"
    },
    "tags": []
   },
   "outputs": [
    {
     "name": "stdout",
     "output_type": "stream",
     "text": [
      "File berhasil dimuat!\n"
     ]
    }
   ],
   "source": [
    "try:\n",
    "    guests_df = pd.read_csv('/kaggle/input/chalchitra-talks-book-recommendations/guests.csv')\n",
    "    books_df = pd.read_csv('/kaggle/input/chalchitra-talks-book-recommendations/books.csv')\n",
    "    recommendations_df = pd.read_csv('/kaggle/input/chalchitra-talks-book-recommendations/recommendations.csv')\n",
    "    print(\"File berhasil dimuat!\")\n",
    "except FileNotFoundError as e:\n",
    "    print(f\"Error: File tidak ditemukan. {e}\")\n",
    "    print(\"Periksa kembali nama dataset di Kaggle dan pastikan path sudah benar.\")\n",
    "    print(\"Path yang diharapkan: /kaggle/input/NAMA-DATASET-ANDA-DI-KAGGLE/nama_file.csv\")"
   ]
  },
  {
   "cell_type": "markdown",
   "id": "2ea73ffd",
   "metadata": {
    "papermill": {
     "duration": 0.009689,
     "end_time": "2025-05-21T06:18:08.869375",
     "exception": false,
     "start_time": "2025-05-21T06:18:08.859686",
     "status": "completed"
    },
    "tags": []
   },
   "source": [
    "### Data Inspection"
   ]
  },
  {
   "cell_type": "markdown",
   "id": "eb18233b",
   "metadata": {
    "papermill": {
     "duration": 0.009462,
     "end_time": "2025-05-21T06:18:08.888901",
     "exception": false,
     "start_time": "2025-05-21T06:18:08.879439",
     "status": "completed"
    },
    "tags": []
   },
   "source": [
    "#### Guest Data"
   ]
  },
  {
   "cell_type": "markdown",
   "id": "be7fc10c",
   "metadata": {
    "papermill": {
     "duration": 0.009616,
     "end_time": "2025-05-21T06:18:08.907940",
     "exception": false,
     "start_time": "2025-05-21T06:18:08.898324",
     "status": "completed"
    },
    "tags": []
   },
   "source": [
    "`guests.csv` berisi informasi mengenai para tamu yang memberikan rekomendasi sejumlah 28 entri tamu unik."
   ]
  },
  {
   "cell_type": "code",
   "execution_count": 4,
   "id": "18bfadae",
   "metadata": {
    "execution": {
     "iopub.execute_input": "2025-05-21T06:18:08.928307Z",
     "iopub.status.busy": "2025-05-21T06:18:08.927995Z",
     "iopub.status.idle": "2025-05-21T06:18:08.953765Z",
     "shell.execute_reply": "2025-05-21T06:18:08.952823Z"
    },
    "papermill": {
     "duration": 0.03768,
     "end_time": "2025-05-21T06:18:08.955278",
     "exception": false,
     "start_time": "2025-05-21T06:18:08.917598",
     "status": "completed"
    },
    "tags": []
   },
   "outputs": [
    {
     "data": {
      "text/html": [
       "<div>\n",
       "<style scoped>\n",
       "    .dataframe tbody tr th:only-of-type {\n",
       "        vertical-align: middle;\n",
       "    }\n",
       "\n",
       "    .dataframe tbody tr th {\n",
       "        vertical-align: top;\n",
       "    }\n",
       "\n",
       "    .dataframe thead th {\n",
       "        text-align: right;\n",
       "    }\n",
       "</style>\n",
       "<table border=\"1\" class=\"dataframe\">\n",
       "  <thead>\n",
       "    <tr style=\"text-align: right;\">\n",
       "      <th></th>\n",
       "      <th>guest_id</th>\n",
       "      <th>guest_name</th>\n",
       "      <th>guest_profession_or_org</th>\n",
       "      <th>guest_info</th>\n",
       "      <th>guest_page_url</th>\n",
       "    </tr>\n",
       "  </thead>\n",
       "  <tbody>\n",
       "    <tr>\n",
       "      <th>0</th>\n",
       "      <td>0</td>\n",
       "      <td>Ratna Pathak Shah</td>\n",
       "      <td>Actor</td>\n",
       "      <td>Ratna Pathak Shah is an actress and director b...</td>\n",
       "      <td>https://www.chalchitratalks.com/ratnapathakshah</td>\n",
       "    </tr>\n",
       "    <tr>\n",
       "      <th>1</th>\n",
       "      <td>1</td>\n",
       "      <td>Peter Gould</td>\n",
       "      <td>Filmmaker</td>\n",
       "      <td>Peter Gould is an American television writer, ...</td>\n",
       "      <td>https://www.chalchitratalks.com/petergould</td>\n",
       "    </tr>\n",
       "    <tr>\n",
       "      <th>2</th>\n",
       "      <td>2</td>\n",
       "      <td>Ashish Shakya</td>\n",
       "      <td>Comedian</td>\n",
       "      <td>Ashish is an Indian comedian, writer, actor, p...</td>\n",
       "      <td>https://www.chalchitratalks.com/ashishshakya</td>\n",
       "    </tr>\n",
       "    <tr>\n",
       "      <th>3</th>\n",
       "      <td>3</td>\n",
       "      <td>Gulshan Devaiah</td>\n",
       "      <td>Actor</td>\n",
       "      <td>Gulshan Devaiah is an Indian actor who appears...</td>\n",
       "      <td>https://www.chalchitratalks.com/gulshandevaiah</td>\n",
       "    </tr>\n",
       "    <tr>\n",
       "      <th>4</th>\n",
       "      <td>4</td>\n",
       "      <td>Nikhil Taneja</td>\n",
       "      <td>Yuvaa</td>\n",
       "      <td>Nikhil Taneja is a Mumbai-based entrepreneur, ...</td>\n",
       "      <td>https://www.chalchitratalks.com/nikhiltaneja</td>\n",
       "    </tr>\n",
       "    <tr>\n",
       "      <th>5</th>\n",
       "      <td>5</td>\n",
       "      <td>Baradwaj Rangan</td>\n",
       "      <td>Film Critic</td>\n",
       "      <td>Baradwaj Rangan is an Indian film critic, writ...</td>\n",
       "      <td>https://www.chalchitratalks.com/baradwajrangan</td>\n",
       "    </tr>\n",
       "    <tr>\n",
       "      <th>6</th>\n",
       "      <td>6</td>\n",
       "      <td>Kumar Varun</td>\n",
       "      <td>Comedian</td>\n",
       "      <td>Kumar Varun is a stand up comic, actor and a q...</td>\n",
       "      <td>https://www.chalchitratalks.com/kumarvarun</td>\n",
       "    </tr>\n",
       "    <tr>\n",
       "      <th>7</th>\n",
       "      <td>7</td>\n",
       "      <td>Shreya Dhanwantary</td>\n",
       "      <td>Actor</td>\n",
       "      <td>Shreya Dhanwanthary is an Indian actress assoc...</td>\n",
       "      <td>https://www.chalchitratalks.com/shreyad</td>\n",
       "    </tr>\n",
       "    <tr>\n",
       "      <th>8</th>\n",
       "      <td>8</td>\n",
       "      <td>Sahil Shah</td>\n",
       "      <td>Comedian</td>\n",
       "      <td>Sahil Shah is an Indian comedian, writer, acto...</td>\n",
       "      <td>https://www.chalchitratalks.com/sahil-shah</td>\n",
       "    </tr>\n",
       "    <tr>\n",
       "      <th>9</th>\n",
       "      <td>9</td>\n",
       "      <td>Anand Gandhi</td>\n",
       "      <td>Filmmaker</td>\n",
       "      <td>Anand Gandhi is an Indian filmmaker, entrepren...</td>\n",
       "      <td>https://www.chalchitratalks.com/anand-gandhi</td>\n",
       "    </tr>\n",
       "    <tr>\n",
       "      <th>10</th>\n",
       "      <td>10</td>\n",
       "      <td>Sheeba Chaddha</td>\n",
       "      <td>Actor</td>\n",
       "      <td>Sheeba Chaddha is an Indian film, stage, and t...</td>\n",
       "      <td>https://www.chalchitratalks.com/sheebachaddha</td>\n",
       "    </tr>\n",
       "    <tr>\n",
       "      <th>11</th>\n",
       "      <td>11</td>\n",
       "      <td>Varun Duggirala</td>\n",
       "      <td>Podcast Host</td>\n",
       "      <td>Varun Duggirala is the content chief &amp; co-foun...</td>\n",
       "      <td>https://www.chalchitratalks.com/varunduggirala</td>\n",
       "    </tr>\n",
       "    <tr>\n",
       "      <th>12</th>\n",
       "      <td>12</td>\n",
       "      <td>Yahya Bootwala</td>\n",
       "      <td>Writer</td>\n",
       "      <td>Yahya Bootwala is an actor and writer, known f...</td>\n",
       "      <td>https://www.chalchitratalks.com/yahyabootwala</td>\n",
       "    </tr>\n",
       "    <tr>\n",
       "      <th>13</th>\n",
       "      <td>13</td>\n",
       "      <td>Vivek Tejuja</td>\n",
       "      <td>Writer</td>\n",
       "      <td>Vivek Tejuja is an Author who has written a bo...</td>\n",
       "      <td>https://www.chalchitratalks.com/vivektejuja</td>\n",
       "    </tr>\n",
       "    <tr>\n",
       "      <th>14</th>\n",
       "      <td>14</td>\n",
       "      <td>Neville Shah</td>\n",
       "      <td>Comedian</td>\n",
       "      <td>Neville Shah is an Indian standup comic, write...</td>\n",
       "      <td>https://www.chalchitratalks.com/nevilleshah</td>\n",
       "    </tr>\n",
       "    <tr>\n",
       "      <th>15</th>\n",
       "      <td>15</td>\n",
       "      <td>Abhinandan Sekhri</td>\n",
       "      <td>Newslaundry</td>\n",
       "      <td>Abhinandan Sekhri is the co-founder and CEO of...</td>\n",
       "      <td>https://www.chalchitratalks.com/abhinandansekhri</td>\n",
       "    </tr>\n",
       "    <tr>\n",
       "      <th>16</th>\n",
       "      <td>16</td>\n",
       "      <td>Amit Varma</td>\n",
       "      <td>Writer</td>\n",
       "      <td>Amit Varma is a writer and podcaster based in ...</td>\n",
       "      <td>https://www.chalchitratalks.com/amitvarma</td>\n",
       "    </tr>\n",
       "    <tr>\n",
       "      <th>17</th>\n",
       "      <td>17</td>\n",
       "      <td>Manu Joseph</td>\n",
       "      <td>Writer</td>\n",
       "      <td>Manu Joseph is an Indian journalist and writer...</td>\n",
       "      <td>https://www.chalchitratalks.com/manujoseph</td>\n",
       "    </tr>\n",
       "    <tr>\n",
       "      <th>18</th>\n",
       "      <td>18</td>\n",
       "      <td>Manav Kaul</td>\n",
       "      <td>Actor</td>\n",
       "      <td>Manav Kaul is an Indian theatre director, play...</td>\n",
       "      <td>https://www.chalchitratalks.com/manavkaul</td>\n",
       "    </tr>\n",
       "    <tr>\n",
       "      <th>19</th>\n",
       "      <td>19</td>\n",
       "      <td>Manisha Pandey</td>\n",
       "      <td>Newslaundry</td>\n",
       "      <td>Manisha Pande is the executive editor at Newsl...</td>\n",
       "      <td>https://www.chalchitratalks.com/manishapandey</td>\n",
       "    </tr>\n",
       "    <tr>\n",
       "      <th>20</th>\n",
       "      <td>20</td>\n",
       "      <td>Anupama Chopra</td>\n",
       "      <td>Film Companion</td>\n",
       "      <td>Anupama Chopra is an Indian author, journalist...</td>\n",
       "      <td>https://www.chalchitratalks.com/anupamachopra</td>\n",
       "    </tr>\n",
       "    <tr>\n",
       "      <th>21</th>\n",
       "      <td>21</td>\n",
       "      <td>Devashish Makhija</td>\n",
       "      <td>Filmmaker</td>\n",
       "      <td>Devashish Makhija is an Indian filmmaker, scre...</td>\n",
       "      <td>https://www.chalchitratalks.com/devashishmakhija</td>\n",
       "    </tr>\n",
       "    <tr>\n",
       "      <th>22</th>\n",
       "      <td>22</td>\n",
       "      <td>Ashwiny Iyer Tiwari</td>\n",
       "      <td>Filmmaker</td>\n",
       "      <td>Ashwiny Iyer Tiwari is an Indian filmmaker and...</td>\n",
       "      <td>https://www.chalchitratalks.com/ashwinyiyertiwari</td>\n",
       "    </tr>\n",
       "    <tr>\n",
       "      <th>23</th>\n",
       "      <td>23</td>\n",
       "      <td>Zuni Chopra</td>\n",
       "      <td>Writer</td>\n",
       "      <td>Zuni Chopra is an Indian author best known for...</td>\n",
       "      <td>https://www.chalchitratalks.com/zunichopra</td>\n",
       "    </tr>\n",
       "    <tr>\n",
       "      <th>24</th>\n",
       "      <td>24</td>\n",
       "      <td>Ranveer Allahbadia</td>\n",
       "      <td>Podcast Host</td>\n",
       "      <td>Ranveer Allahbadia is an entrepreneur, YouTube...</td>\n",
       "      <td>https://www.chalchitratalks.com/ranveerallahbadia</td>\n",
       "    </tr>\n",
       "    <tr>\n",
       "      <th>25</th>\n",
       "      <td>25</td>\n",
       "      <td>Namita Dubey</td>\n",
       "      <td>Actor</td>\n",
       "      <td>Namita Dubey who is an actor and an avid book ...</td>\n",
       "      <td>https://www.chalchitratalks.com/namitadubey</td>\n",
       "    </tr>\n",
       "    <tr>\n",
       "      <th>26</th>\n",
       "      <td>26</td>\n",
       "      <td>Dhruv Sehgal</td>\n",
       "      <td>Writer</td>\n",
       "      <td>Dhruv Sehgal is a writer, director and an acto...</td>\n",
       "      <td>https://www.chalchitratalks.com/dhruvsehgal</td>\n",
       "    </tr>\n",
       "    <tr>\n",
       "      <th>27</th>\n",
       "      <td>27</td>\n",
       "      <td>Rohan Joshi</td>\n",
       "      <td>Comedian</td>\n",
       "      <td>Rohan Joshi is an Indian comedian, writer, act...</td>\n",
       "      <td>https://www.chalchitratalks.com/rohanjoshi</td>\n",
       "    </tr>\n",
       "  </tbody>\n",
       "</table>\n",
       "</div>"
      ],
      "text/plain": [
       "    guest_id           guest_name guest_profession_or_org  \\\n",
       "0          0    Ratna Pathak Shah                   Actor   \n",
       "1          1          Peter Gould               Filmmaker   \n",
       "2          2        Ashish Shakya                Comedian   \n",
       "3          3      Gulshan Devaiah                   Actor   \n",
       "4          4        Nikhil Taneja                   Yuvaa   \n",
       "5          5      Baradwaj Rangan             Film Critic   \n",
       "6          6          Kumar Varun                Comedian   \n",
       "7          7   Shreya Dhanwantary                   Actor   \n",
       "8          8           Sahil Shah                Comedian   \n",
       "9          9         Anand Gandhi               Filmmaker   \n",
       "10        10       Sheeba Chaddha                   Actor   \n",
       "11        11      Varun Duggirala            Podcast Host   \n",
       "12        12       Yahya Bootwala                  Writer   \n",
       "13        13         Vivek Tejuja                  Writer   \n",
       "14        14         Neville Shah                Comedian   \n",
       "15        15    Abhinandan Sekhri             Newslaundry   \n",
       "16        16           Amit Varma                  Writer   \n",
       "17        17          Manu Joseph                  Writer   \n",
       "18        18           Manav Kaul                   Actor   \n",
       "19        19       Manisha Pandey             Newslaundry   \n",
       "20        20       Anupama Chopra          Film Companion   \n",
       "21        21    Devashish Makhija               Filmmaker   \n",
       "22        22  Ashwiny Iyer Tiwari               Filmmaker   \n",
       "23        23          Zuni Chopra                  Writer   \n",
       "24        24   Ranveer Allahbadia            Podcast Host   \n",
       "25        25         Namita Dubey                   Actor   \n",
       "26        26         Dhruv Sehgal                  Writer   \n",
       "27        27          Rohan Joshi                Comedian   \n",
       "\n",
       "                                           guest_info  \\\n",
       "0   Ratna Pathak Shah is an actress and director b...   \n",
       "1   Peter Gould is an American television writer, ...   \n",
       "2   Ashish is an Indian comedian, writer, actor, p...   \n",
       "3   Gulshan Devaiah is an Indian actor who appears...   \n",
       "4   Nikhil Taneja is a Mumbai-based entrepreneur, ...   \n",
       "5   Baradwaj Rangan is an Indian film critic, writ...   \n",
       "6   Kumar Varun is a stand up comic, actor and a q...   \n",
       "7   Shreya Dhanwanthary is an Indian actress assoc...   \n",
       "8   Sahil Shah is an Indian comedian, writer, acto...   \n",
       "9   Anand Gandhi is an Indian filmmaker, entrepren...   \n",
       "10  Sheeba Chaddha is an Indian film, stage, and t...   \n",
       "11  Varun Duggirala is the content chief & co-foun...   \n",
       "12  Yahya Bootwala is an actor and writer, known f...   \n",
       "13  Vivek Tejuja is an Author who has written a bo...   \n",
       "14  Neville Shah is an Indian standup comic, write...   \n",
       "15  Abhinandan Sekhri is the co-founder and CEO of...   \n",
       "16  Amit Varma is a writer and podcaster based in ...   \n",
       "17  Manu Joseph is an Indian journalist and writer...   \n",
       "18  Manav Kaul is an Indian theatre director, play...   \n",
       "19  Manisha Pande is the executive editor at Newsl...   \n",
       "20  Anupama Chopra is an Indian author, journalist...   \n",
       "21  Devashish Makhija is an Indian filmmaker, scre...   \n",
       "22  Ashwiny Iyer Tiwari is an Indian filmmaker and...   \n",
       "23  Zuni Chopra is an Indian author best known for...   \n",
       "24  Ranveer Allahbadia is an entrepreneur, YouTube...   \n",
       "25  Namita Dubey who is an actor and an avid book ...   \n",
       "26  Dhruv Sehgal is a writer, director and an acto...   \n",
       "27  Rohan Joshi is an Indian comedian, writer, act...   \n",
       "\n",
       "                                       guest_page_url  \n",
       "0     https://www.chalchitratalks.com/ratnapathakshah  \n",
       "1          https://www.chalchitratalks.com/petergould  \n",
       "2        https://www.chalchitratalks.com/ashishshakya  \n",
       "3      https://www.chalchitratalks.com/gulshandevaiah  \n",
       "4        https://www.chalchitratalks.com/nikhiltaneja  \n",
       "5      https://www.chalchitratalks.com/baradwajrangan  \n",
       "6          https://www.chalchitratalks.com/kumarvarun  \n",
       "7             https://www.chalchitratalks.com/shreyad  \n",
       "8          https://www.chalchitratalks.com/sahil-shah  \n",
       "9        https://www.chalchitratalks.com/anand-gandhi  \n",
       "10      https://www.chalchitratalks.com/sheebachaddha  \n",
       "11     https://www.chalchitratalks.com/varunduggirala  \n",
       "12      https://www.chalchitratalks.com/yahyabootwala  \n",
       "13        https://www.chalchitratalks.com/vivektejuja  \n",
       "14        https://www.chalchitratalks.com/nevilleshah  \n",
       "15   https://www.chalchitratalks.com/abhinandansekhri  \n",
       "16          https://www.chalchitratalks.com/amitvarma  \n",
       "17         https://www.chalchitratalks.com/manujoseph  \n",
       "18          https://www.chalchitratalks.com/manavkaul  \n",
       "19      https://www.chalchitratalks.com/manishapandey  \n",
       "20      https://www.chalchitratalks.com/anupamachopra  \n",
       "21   https://www.chalchitratalks.com/devashishmakhija  \n",
       "22  https://www.chalchitratalks.com/ashwinyiyertiwari  \n",
       "23         https://www.chalchitratalks.com/zunichopra  \n",
       "24  https://www.chalchitratalks.com/ranveerallahbadia  \n",
       "25        https://www.chalchitratalks.com/namitadubey  \n",
       "26        https://www.chalchitratalks.com/dhruvsehgal  \n",
       "27         https://www.chalchitratalks.com/rohanjoshi  "
      ]
     },
     "execution_count": 4,
     "metadata": {},
     "output_type": "execute_result"
    }
   ],
   "source": [
    "guests_df"
   ]
  },
  {
   "cell_type": "code",
   "execution_count": 5,
   "id": "1b7078e8",
   "metadata": {
    "execution": {
     "iopub.execute_input": "2025-05-21T06:18:08.976629Z",
     "iopub.status.busy": "2025-05-21T06:18:08.976341Z",
     "iopub.status.idle": "2025-05-21T06:18:09.003911Z",
     "shell.execute_reply": "2025-05-21T06:18:09.002780Z"
    },
    "papermill": {
     "duration": 0.040195,
     "end_time": "2025-05-21T06:18:09.005419",
     "exception": false,
     "start_time": "2025-05-21T06:18:08.965224",
     "status": "completed"
    },
    "tags": []
   },
   "outputs": [
    {
     "name": "stdout",
     "output_type": "stream",
     "text": [
      "<class 'pandas.core.frame.DataFrame'>\n",
      "RangeIndex: 28 entries, 0 to 27\n",
      "Data columns (total 5 columns):\n",
      " #   Column                   Non-Null Count  Dtype \n",
      "---  ------                   --------------  ----- \n",
      " 0   guest_id                 28 non-null     int64 \n",
      " 1   guest_name               28 non-null     object\n",
      " 2   guest_profession_or_org  28 non-null     object\n",
      " 3   guest_info               28 non-null     object\n",
      " 4   guest_page_url           28 non-null     object\n",
      "dtypes: int64(1), object(4)\n",
      "memory usage: 1.2+ KB\n",
      "\n",
      "Unique Values:\n",
      "guest_id                   28\n",
      "guest_name                 28\n",
      "guest_profession_or_org     9\n",
      "guest_info                 28\n",
      "guest_page_url             28\n",
      "dtype: int64\n",
      "\n",
      "Missing values:\n",
      "guest_id                   0\n",
      "guest_name                 0\n",
      "guest_profession_or_org    0\n",
      "guest_info                 0\n",
      "guest_page_url             0\n",
      "dtype: int64\n"
     ]
    }
   ],
   "source": [
    "if not guests_df.empty:\n",
    "    guests_df.info()\n",
    "    print(\"\\nUnique Values:\")\n",
    "    print(guests_df.nunique())\n",
    "    print(\"\\nMissing values:\")\n",
    "    print(guests_df.isnull().sum())\n",
    "else:\n",
    "    print(\"guests_df kosong atau tidak dapat dimuat.\")"
   ]
  },
  {
   "cell_type": "markdown",
   "id": "5fa9368d",
   "metadata": {
    "papermill": {
     "duration": 0.009608,
     "end_time": "2025-05-21T06:18:09.025155",
     "exception": false,
     "start_time": "2025-05-21T06:18:09.015547",
     "status": "completed"
    },
    "tags": []
   },
   "source": [
    "**Keterangan:**\n",
    "- `guest_id`: identitias unik untuk setiap tamu (Tipe: numerik/string)\n",
    "- `guest_name`: Nama tamu (Tipe: string)\n",
    "- `guest_profession_or_org`: Profesi atau organisasi tamu (Tipe: string)\n",
    "- `guest_info`: Informasi tambahan mengenai tamu dari chalchitra.com (Tipe: string)\n",
    "- `guest_page_url`: URL halaman tamu di chalchitra.com (Tipe: string)\n"
   ]
  },
  {
   "cell_type": "markdown",
   "id": "afc3069e",
   "metadata": {
    "papermill": {
     "duration": 0.014348,
     "end_time": "2025-05-21T06:18:09.052595",
     "exception": false,
     "start_time": "2025-05-21T06:18:09.038247",
     "status": "completed"
    },
    "tags": []
   },
   "source": [
    "#### Books Data"
   ]
  },
  {
   "cell_type": "markdown",
   "id": "d4a6b069",
   "metadata": {
    "papermill": {
     "duration": 0.076871,
     "end_time": "2025-05-21T06:18:09.141042",
     "exception": false,
     "start_time": "2025-05-21T06:18:09.064171",
     "status": "completed"
    },
    "tags": []
   },
   "source": [
    "`books.csv`berisi detail mengenai buku-buku yang direkomendasikan."
   ]
  },
  {
   "cell_type": "code",
   "execution_count": 6,
   "id": "56c8bc49",
   "metadata": {
    "execution": {
     "iopub.execute_input": "2025-05-21T06:18:09.163253Z",
     "iopub.status.busy": "2025-05-21T06:18:09.162542Z",
     "iopub.status.idle": "2025-05-21T06:18:09.185189Z",
     "shell.execute_reply": "2025-05-21T06:18:09.184249Z"
    },
    "papermill": {
     "duration": 0.03553,
     "end_time": "2025-05-21T06:18:09.186774",
     "exception": false,
     "start_time": "2025-05-21T06:18:09.151244",
     "status": "completed"
    },
    "tags": []
   },
   "outputs": [
    {
     "name": "stderr",
     "output_type": "stream",
     "text": [
      "/usr/local/lib/python3.11/dist-packages/pandas/io/formats/format.py:1458: RuntimeWarning: invalid value encountered in greater\n",
      "  has_large_values = (abs_vals > 1e6).any()\n",
      "/usr/local/lib/python3.11/dist-packages/pandas/io/formats/format.py:1459: RuntimeWarning: invalid value encountered in less\n",
      "  has_small_values = ((abs_vals < 10 ** (-self.digits)) & (abs_vals > 0)).any()\n",
      "/usr/local/lib/python3.11/dist-packages/pandas/io/formats/format.py:1459: RuntimeWarning: invalid value encountered in greater\n",
      "  has_small_values = ((abs_vals < 10 ** (-self.digits)) & (abs_vals > 0)).any()\n"
     ]
    },
    {
     "data": {
      "text/html": [
       "<div>\n",
       "<style scoped>\n",
       "    .dataframe tbody tr th:only-of-type {\n",
       "        vertical-align: middle;\n",
       "    }\n",
       "\n",
       "    .dataframe tbody tr th {\n",
       "        vertical-align: top;\n",
       "    }\n",
       "\n",
       "    .dataframe thead th {\n",
       "        text-align: right;\n",
       "    }\n",
       "</style>\n",
       "<table border=\"1\" class=\"dataframe\">\n",
       "  <thead>\n",
       "    <tr style=\"text-align: right;\">\n",
       "      <th></th>\n",
       "      <th>book_id</th>\n",
       "      <th>book_name</th>\n",
       "      <th>book_description_from_chalchitra</th>\n",
       "      <th>authors</th>\n",
       "      <th>publisher</th>\n",
       "      <th>publishedDate</th>\n",
       "      <th>pageCount</th>\n",
       "      <th>categories</th>\n",
       "      <th>averageRating</th>\n",
       "      <th>ratingsCount</th>\n",
       "      <th>language</th>\n",
       "      <th>description</th>\n",
       "      <th>synopsis</th>\n",
       "    </tr>\n",
       "  </thead>\n",
       "  <tbody>\n",
       "    <tr>\n",
       "      <th>0</th>\n",
       "      <td>0</td>\n",
       "      <td>Charles Laughton: A Difficult Actor</td>\n",
       "      <td>This is the fullest biography yet on the actor...</td>\n",
       "      <td>['Simon Callow']</td>\n",
       "      <td>Fromm International</td>\n",
       "      <td>1997</td>\n",
       "      <td>318.0</td>\n",
       "      <td>['Biography &amp; Autobiography']</td>\n",
       "      <td>NaN</td>\n",
       "      <td>NaN</td>\n",
       "      <td>en</td>\n",
       "      <td>NaN</td>\n",
       "      <td>NaN</td>\n",
       "    </tr>\n",
       "    <tr>\n",
       "      <th>1</th>\n",
       "      <td>1</td>\n",
       "      <td>Gone with the Wind</td>\n",
       "      <td>A historical novel by Margaret Mitchell.</td>\n",
       "      <td>['Margaret Mitchell']</td>\n",
       "      <td>Random House</td>\n",
       "      <td>2020-01-02</td>\n",
       "      <td>1072.0</td>\n",
       "      <td>['Fiction']</td>\n",
       "      <td>4.5</td>\n",
       "      <td>5.0</td>\n",
       "      <td>en</td>\n",
       "      <td>'My dear, I don't give a damn.' Margaret Mitch...</td>\n",
       "      <td>'My dear, I don't give a damn.'\\n\\nMargaret Mi...</td>\n",
       "    </tr>\n",
       "    <tr>\n",
       "      <th>2</th>\n",
       "      <td>2</td>\n",
       "      <td>Hayvadan</td>\n",
       "      <td>It is based on Kathasaritsagara and Thomas Man...</td>\n",
       "      <td>['Girish Karnad']</td>\n",
       "      <td>Radhakrishna Prakashan</td>\n",
       "      <td>2021-07-29</td>\n",
       "      <td>132.0</td>\n",
       "      <td>NaN</td>\n",
       "      <td>NaN</td>\n",
       "      <td>NaN</td>\n",
       "      <td>hi</td>\n",
       "      <td>NaN</td>\n",
       "      <td>NaN</td>\n",
       "    </tr>\n",
       "    <tr>\n",
       "      <th>3</th>\n",
       "      <td>3</td>\n",
       "      <td>The London Jungle Book</td>\n",
       "      <td>A visual travelogue by Bhajju Shyam</td>\n",
       "      <td>['Bhajju Shyam', 'Sirish Rao', 'Gita Wolf-Samp...</td>\n",
       "      <td>Tara Publishing</td>\n",
       "      <td>2004</td>\n",
       "      <td>48.0</td>\n",
       "      <td>['Art']</td>\n",
       "      <td>5.0</td>\n",
       "      <td>1.0</td>\n",
       "      <td>en</td>\n",
       "      <td>Bhajju Shyam, of the Gond tribe of central Ind...</td>\n",
       "      <td>“A beautiful book. I would like to give it to ...</td>\n",
       "    </tr>\n",
       "    <tr>\n",
       "      <th>4</th>\n",
       "      <td>4</td>\n",
       "      <td>The Private Life of Plants</td>\n",
       "      <td>This book reveals hidden events and phenomena ...</td>\n",
       "      <td>['David Attenborough']</td>\n",
       "      <td>NaN</td>\n",
       "      <td>1995</td>\n",
       "      <td>320.0</td>\n",
       "      <td>['Botany']</td>\n",
       "      <td>4.0</td>\n",
       "      <td>3.0</td>\n",
       "      <td>en</td>\n",
       "      <td>Without plants, there would be no food, no ani...</td>\n",
       "      <td>Without plants, there would be no food, no ani...</td>\n",
       "    </tr>\n",
       "    <tr>\n",
       "      <th>...</th>\n",
       "      <td>...</td>\n",
       "      <td>...</td>\n",
       "      <td>...</td>\n",
       "      <td>...</td>\n",
       "      <td>...</td>\n",
       "      <td>...</td>\n",
       "      <td>...</td>\n",
       "      <td>...</td>\n",
       "      <td>...</td>\n",
       "      <td>...</td>\n",
       "      <td>...</td>\n",
       "      <td>...</td>\n",
       "      <td>...</td>\n",
       "    </tr>\n",
       "    <tr>\n",
       "      <th>314</th>\n",
       "      <td>314</td>\n",
       "      <td>Anathem</td>\n",
       "      <td>It is a science fiction novel by American writ...</td>\n",
       "      <td>['Neal Stephenson']</td>\n",
       "      <td>Harper Collins</td>\n",
       "      <td>2009-08-25</td>\n",
       "      <td>1008.0</td>\n",
       "      <td>['Fiction']</td>\n",
       "      <td>4.0</td>\n",
       "      <td>175.0</td>\n",
       "      <td>en</td>\n",
       "      <td>For ten years Fraa Erasmas, a young avout, has...</td>\n",
       "      <td>For ten years Fraa Erasmas, a young avout, ha...</td>\n",
       "    </tr>\n",
       "    <tr>\n",
       "      <th>315</th>\n",
       "      <td>315</td>\n",
       "      <td>Cloud Atlas</td>\n",
       "      <td>It is a work combining metafiction, historical...</td>\n",
       "      <td>['David Mitchell']</td>\n",
       "      <td>Vintage Canada</td>\n",
       "      <td>2010-07-16</td>\n",
       "      <td>528.0</td>\n",
       "      <td>['Fiction']</td>\n",
       "      <td>4.0</td>\n",
       "      <td>508.0</td>\n",
       "      <td>en</td>\n",
       "      <td>By the New York Times bestselling author of Th...</td>\n",
       "      <td>By the New York Times bestselling author of Th...</td>\n",
       "    </tr>\n",
       "    <tr>\n",
       "      <th>316</th>\n",
       "      <td>316</td>\n",
       "      <td>Watchmen</td>\n",
       "      <td>It is an American comic book maxiseries by Ala...</td>\n",
       "      <td>['Alan Moore', 'Dave Gibbons', 'John Higgins']</td>\n",
       "      <td>Dc Comics</td>\n",
       "      <td>1987</td>\n",
       "      <td>413.0</td>\n",
       "      <td>['Comics &amp; Graphic Novels']</td>\n",
       "      <td>4.0</td>\n",
       "      <td>3898.0</td>\n",
       "      <td>en</td>\n",
       "      <td>As former members of a disbanded group of supe...</td>\n",
       "      <td>\"Following two generations of masked superhero...</td>\n",
       "    </tr>\n",
       "    <tr>\n",
       "      <th>317</th>\n",
       "      <td>317</td>\n",
       "      <td>Matterhorn</td>\n",
       "      <td>An incredible publishing story written over th...</td>\n",
       "      <td>['Karl Marlantes']</td>\n",
       "      <td>Grove/Atlantic, Inc.</td>\n",
       "      <td>2010-04-01</td>\n",
       "      <td>592.0</td>\n",
       "      <td>['Fiction']</td>\n",
       "      <td>4.5</td>\n",
       "      <td>93.0</td>\n",
       "      <td>en</td>\n",
       "      <td>Intense, powerful, and compelling, Matterhorn ...</td>\n",
       "      <td>Intense, powerful, and compelling, Matterhorn ...</td>\n",
       "    </tr>\n",
       "    <tr>\n",
       "      <th>318</th>\n",
       "      <td>318</td>\n",
       "      <td>The Ascent of Money</td>\n",
       "      <td>It takes us on a historical adventure through ...</td>\n",
       "      <td>['Niall Ferguson']</td>\n",
       "      <td>Penguin</td>\n",
       "      <td>2008-11-13</td>\n",
       "      <td>496.0</td>\n",
       "      <td>['History']</td>\n",
       "      <td>4.5</td>\n",
       "      <td>5.0</td>\n",
       "      <td>en</td>\n",
       "      <td>The 10th anniversary edition, with new chapter...</td>\n",
       "      <td>The 10th anniversary edition, with new chapter...</td>\n",
       "    </tr>\n",
       "  </tbody>\n",
       "</table>\n",
       "<p>319 rows × 13 columns</p>\n",
       "</div>"
      ],
      "text/plain": [
       "     book_id                            book_name  \\\n",
       "0          0  Charles Laughton: A Difficult Actor   \n",
       "1          1                   Gone with the Wind   \n",
       "2          2                             Hayvadan   \n",
       "3          3               The London Jungle Book   \n",
       "4          4           The Private Life of Plants   \n",
       "..       ...                                  ...   \n",
       "314      314                              Anathem   \n",
       "315      315                          Cloud Atlas   \n",
       "316      316                             Watchmen   \n",
       "317      317                           Matterhorn   \n",
       "318      318                  The Ascent of Money   \n",
       "\n",
       "                      book_description_from_chalchitra  \\\n",
       "0    This is the fullest biography yet on the actor...   \n",
       "1             A historical novel by Margaret Mitchell.   \n",
       "2    It is based on Kathasaritsagara and Thomas Man...   \n",
       "3                  A visual travelogue by Bhajju Shyam   \n",
       "4    This book reveals hidden events and phenomena ...   \n",
       "..                                                 ...   \n",
       "314  It is a science fiction novel by American writ...   \n",
       "315  It is a work combining metafiction, historical...   \n",
       "316  It is an American comic book maxiseries by Ala...   \n",
       "317  An incredible publishing story written over th...   \n",
       "318  It takes us on a historical adventure through ...   \n",
       "\n",
       "                                               authors  \\\n",
       "0                                     ['Simon Callow']   \n",
       "1                                ['Margaret Mitchell']   \n",
       "2                                    ['Girish Karnad']   \n",
       "3    ['Bhajju Shyam', 'Sirish Rao', 'Gita Wolf-Samp...   \n",
       "4                               ['David Attenborough']   \n",
       "..                                                 ...   \n",
       "314                                ['Neal Stephenson']   \n",
       "315                                 ['David Mitchell']   \n",
       "316     ['Alan Moore', 'Dave Gibbons', 'John Higgins']   \n",
       "317                                 ['Karl Marlantes']   \n",
       "318                                 ['Niall Ferguson']   \n",
       "\n",
       "                  publisher publishedDate  pageCount  \\\n",
       "0       Fromm International          1997      318.0   \n",
       "1              Random House    2020-01-02     1072.0   \n",
       "2    Radhakrishna Prakashan    2021-07-29      132.0   \n",
       "3           Tara Publishing          2004       48.0   \n",
       "4                       NaN          1995      320.0   \n",
       "..                      ...           ...        ...   \n",
       "314          Harper Collins    2009-08-25     1008.0   \n",
       "315          Vintage Canada    2010-07-16      528.0   \n",
       "316               Dc Comics          1987      413.0   \n",
       "317    Grove/Atlantic, Inc.    2010-04-01      592.0   \n",
       "318                 Penguin    2008-11-13      496.0   \n",
       "\n",
       "                        categories  averageRating  ratingsCount language  \\\n",
       "0    ['Biography & Autobiography']            NaN           NaN       en   \n",
       "1                      ['Fiction']            4.5           5.0       en   \n",
       "2                              NaN            NaN           NaN       hi   \n",
       "3                          ['Art']            5.0           1.0       en   \n",
       "4                       ['Botany']            4.0           3.0       en   \n",
       "..                             ...            ...           ...      ...   \n",
       "314                    ['Fiction']            4.0         175.0       en   \n",
       "315                    ['Fiction']            4.0         508.0       en   \n",
       "316    ['Comics & Graphic Novels']            4.0        3898.0       en   \n",
       "317                    ['Fiction']            4.5          93.0       en   \n",
       "318                    ['History']            4.5           5.0       en   \n",
       "\n",
       "                                           description  \\\n",
       "0                                                  NaN   \n",
       "1    'My dear, I don't give a damn.' Margaret Mitch...   \n",
       "2                                                  NaN   \n",
       "3    Bhajju Shyam, of the Gond tribe of central Ind...   \n",
       "4    Without plants, there would be no food, no ani...   \n",
       "..                                                 ...   \n",
       "314  For ten years Fraa Erasmas, a young avout, has...   \n",
       "315  By the New York Times bestselling author of Th...   \n",
       "316  As former members of a disbanded group of supe...   \n",
       "317  Intense, powerful, and compelling, Matterhorn ...   \n",
       "318  The 10th anniversary edition, with new chapter...   \n",
       "\n",
       "                                              synopsis  \n",
       "0                                                  NaN  \n",
       "1    'My dear, I don't give a damn.'\\n\\nMargaret Mi...  \n",
       "2                                                  NaN  \n",
       "3    “A beautiful book. I would like to give it to ...  \n",
       "4    Without plants, there would be no food, no ani...  \n",
       "..                                                 ...  \n",
       "314   For ten years Fraa Erasmas, a young avout, ha...  \n",
       "315  By the New York Times bestselling author of Th...  \n",
       "316  \"Following two generations of masked superhero...  \n",
       "317  Intense, powerful, and compelling, Matterhorn ...  \n",
       "318  The 10th anniversary edition, with new chapter...  \n",
       "\n",
       "[319 rows x 13 columns]"
      ]
     },
     "execution_count": 6,
     "metadata": {},
     "output_type": "execute_result"
    }
   ],
   "source": [
    "books_df"
   ]
  },
  {
   "cell_type": "code",
   "execution_count": 7,
   "id": "c63be6f0",
   "metadata": {
    "execution": {
     "iopub.execute_input": "2025-05-21T06:18:09.210061Z",
     "iopub.status.busy": "2025-05-21T06:18:09.209702Z",
     "iopub.status.idle": "2025-05-21T06:18:09.256350Z",
     "shell.execute_reply": "2025-05-21T06:18:09.255354Z"
    },
    "papermill": {
     "duration": 0.060287,
     "end_time": "2025-05-21T06:18:09.258284",
     "exception": false,
     "start_time": "2025-05-21T06:18:09.197997",
     "status": "completed"
    },
    "tags": []
   },
   "outputs": [
    {
     "name": "stdout",
     "output_type": "stream",
     "text": [
      "<class 'pandas.core.frame.DataFrame'>\n",
      "RangeIndex: 319 entries, 0 to 318\n",
      "Data columns (total 13 columns):\n",
      " #   Column                            Non-Null Count  Dtype  \n",
      "---  ------                            --------------  -----  \n",
      " 0   book_id                           319 non-null    int64  \n",
      " 1   book_name                         319 non-null    object \n",
      " 2   book_description_from_chalchitra  319 non-null    object \n",
      " 3   authors                           308 non-null    object \n",
      " 4   publisher                         278 non-null    object \n",
      " 5   publishedDate                     311 non-null    object \n",
      " 6   pageCount                         290 non-null    float64\n",
      " 7   categories                        294 non-null    object \n",
      " 8   averageRating                     212 non-null    float64\n",
      " 9   ratingsCount                      212 non-null    float64\n",
      " 10  language                          313 non-null    object \n",
      " 11  description                       281 non-null    object \n",
      " 12  synopsis                          287 non-null    object \n",
      "dtypes: float64(3), int64(1), object(9)\n",
      "memory usage: 32.5+ KB\n",
      "\n",
      "Deskripsi Statistik:\n",
      "           book_id                            book_name  \\\n",
      "count   319.000000                                  319   \n",
      "unique         NaN                                  319   \n",
      "top            NaN  Charles Laughton: A Difficult Actor   \n",
      "freq           NaN                                    1   \n",
      "mean    159.000000                                  NaN   \n",
      "std      92.231593                                  NaN   \n",
      "min       0.000000                                  NaN   \n",
      "25%      79.500000                                  NaN   \n",
      "50%     159.000000                                  NaN   \n",
      "75%     238.500000                                  NaN   \n",
      "max     318.000000                                  NaN   \n",
      "\n",
      "       book_description_from_chalchitra          authors publisher  \\\n",
      "count                               319              308       278   \n",
      "unique                              306              267       159   \n",
      "top                                   ​  ['Neil Gaiman']   Penguin   \n",
      "freq                                 12                5        23   \n",
      "mean                                NaN              NaN       NaN   \n",
      "std                                 NaN              NaN       NaN   \n",
      "min                                 NaN              NaN       NaN   \n",
      "25%                                 NaN              NaN       NaN   \n",
      "50%                                 NaN              NaN       NaN   \n",
      "75%                                 NaN              NaN       NaN   \n",
      "max                                 NaN              NaN       NaN   \n",
      "\n",
      "       publishedDate    pageCount   categories  averageRating  ratingsCount  \\\n",
      "count            311   290.000000          294     212.000000    212.000000   \n",
      "unique           251          NaN           73            NaN           NaN   \n",
      "top             2017          NaN  ['Fiction']            NaN           NaN   \n",
      "freq               6          NaN          101            NaN           NaN   \n",
      "mean             NaN   349.417241          NaN       3.849057    353.820755   \n",
      "std              NaN   205.388808          NaN       0.705999    885.116136   \n",
      "min              NaN    24.000000          NaN       1.000000      1.000000   \n",
      "25%              NaN   220.250000          NaN       3.500000      4.000000   \n",
      "50%              NaN   320.000000          NaN       4.000000     22.500000   \n",
      "75%              NaN   432.000000          NaN       4.000000    116.000000   \n",
      "max              NaN  1368.000000          NaN       5.000000   3972.000000   \n",
      "\n",
      "       language                                        description  \\\n",
      "count       313                                                281   \n",
      "unique        3                                                273   \n",
      "top          en  #1 NEW YORK TIMES BESTSELLER If you want to bu...   \n",
      "freq        309                                                  2   \n",
      "mean        NaN                                                NaN   \n",
      "std         NaN                                                NaN   \n",
      "min         NaN                                                NaN   \n",
      "25%         NaN                                                NaN   \n",
      "50%         NaN                                                NaN   \n",
      "75%         NaN                                                NaN   \n",
      "max         NaN                                                NaN   \n",
      "\n",
      "                                                 synopsis  \n",
      "count                                                 287  \n",
      "unique                                                276  \n",
      "top     You will be able to read this book on the web ...  \n",
      "freq                                                    5  \n",
      "mean                                                  NaN  \n",
      "std                                                   NaN  \n",
      "min                                                   NaN  \n",
      "25%                                                   NaN  \n",
      "50%                                                   NaN  \n",
      "75%                                                   NaN  \n",
      "max                                                   NaN  \n",
      "\n",
      "Unique Values:\n",
      "book_id                             319\n",
      "book_name                           319\n",
      "book_description_from_chalchitra    306\n",
      "authors                             267\n",
      "publisher                           159\n",
      "publishedDate                       251\n",
      "pageCount                           135\n",
      "categories                           73\n",
      "averageRating                         8\n",
      "ratingsCount                        108\n",
      "language                              3\n",
      "description                         273\n",
      "synopsis                            276\n",
      "dtype: int64\n",
      "\n",
      "Missing Values:\n",
      "book_id                               0\n",
      "book_name                             0\n",
      "book_description_from_chalchitra      0\n",
      "authors                              11\n",
      "publisher                            41\n",
      "publishedDate                         8\n",
      "pageCount                            29\n",
      "categories                           25\n",
      "averageRating                       107\n",
      "ratingsCount                        107\n",
      "language                              6\n",
      "description                          38\n",
      "synopsis                             32\n",
      "dtype: int64\n"
     ]
    },
    {
     "name": "stderr",
     "output_type": "stream",
     "text": [
      "/usr/local/lib/python3.11/dist-packages/pandas/io/formats/format.py:1458: RuntimeWarning: invalid value encountered in greater\n",
      "  has_large_values = (abs_vals > 1e6).any()\n",
      "/usr/local/lib/python3.11/dist-packages/pandas/io/formats/format.py:1459: RuntimeWarning: invalid value encountered in less\n",
      "  has_small_values = ((abs_vals < 10 ** (-self.digits)) & (abs_vals > 0)).any()\n",
      "/usr/local/lib/python3.11/dist-packages/pandas/io/formats/format.py:1459: RuntimeWarning: invalid value encountered in greater\n",
      "  has_small_values = ((abs_vals < 10 ** (-self.digits)) & (abs_vals > 0)).any()\n"
     ]
    }
   ],
   "source": [
    "if not books_df.empty:\n",
    "    books_df.info()\n",
    "    print(\"\\nDeskripsi Statistik:\")\n",
    "    print(books_df.describe(include='all'))\n",
    "    print(\"\\nUnique Values:\")\n",
    "    print(books_df.nunique())\n",
    "    print(\"\\nMissing Values:\")\n",
    "    print(books_df.isnull().sum())\n",
    "else:\n",
    "    print(\"books_df kosong atau tidak dapat dimuat.\")"
   ]
  },
  {
   "cell_type": "markdown",
   "id": "5b7530d0",
   "metadata": {
    "papermill": {
     "duration": 0.010733,
     "end_time": "2025-05-21T06:18:09.280060",
     "exception": false,
     "start_time": "2025-05-21T06:18:09.269327",
     "status": "completed"
    },
    "tags": []
   },
   "source": [
    "- `book_id`: Identitas unik untuk buku (Tipe: numerik/string)\n",
    "- `book_name`: Judul buku (Tipe: string)\n",
    "- `book_description`: Deskripsi buku dari chalchitra.com (Tipe: string)\n",
    "- `authors`: Penulis buku (Tipe: string, merepresentasikan list)\n",
    "- `publisher`: Nama penerbit (Tipe: string)\n",
    "- `publishedDate`: Tanggal publikasi (Tipe: string/datetime)\n",
    "- `pageCount`: Jumlah halaman buku (Tipe: numerik)\n",
    "- `categories`: Kategori atau genre buku (Tipe: string, merepresentasikan list)\n",
    "- `averageRating`: Rata-rata rating dari Google Books (Tipe: numerik)\n",
    "- `ratingsCount`: Jumlah rating di Google Books (Tipe: numerik)\n",
    "- `language`: Bahasa buku (Tipe: string)\n",
    "- `description`: Deskripsi buku dari Google Books (Tipe: string)\n",
    "- `synopsis`: Sinopsis buku dari Google Books (Tipe: string)\n"
   ]
  },
  {
   "cell_type": "markdown",
   "id": "e19ad8fd",
   "metadata": {
    "papermill": {
     "duration": 0.010639,
     "end_time": "2025-05-21T06:18:09.301571",
     "exception": false,
     "start_time": "2025-05-21T06:18:09.290932",
     "status": "completed"
    },
    "tags": []
   },
   "source": [
    "#### Recommendations Data"
   ]
  },
  {
   "cell_type": "code",
   "execution_count": 8,
   "id": "aebbebbc",
   "metadata": {
    "execution": {
     "iopub.execute_input": "2025-05-21T06:18:09.324340Z",
     "iopub.status.busy": "2025-05-21T06:18:09.323733Z",
     "iopub.status.idle": "2025-05-21T06:18:09.332833Z",
     "shell.execute_reply": "2025-05-21T06:18:09.331974Z"
    },
    "papermill": {
     "duration": 0.021916,
     "end_time": "2025-05-21T06:18:09.334221",
     "exception": false,
     "start_time": "2025-05-21T06:18:09.312305",
     "status": "completed"
    },
    "tags": []
   },
   "outputs": [
    {
     "data": {
      "text/html": [
       "<div>\n",
       "<style scoped>\n",
       "    .dataframe tbody tr th:only-of-type {\n",
       "        vertical-align: middle;\n",
       "    }\n",
       "\n",
       "    .dataframe tbody tr th {\n",
       "        vertical-align: top;\n",
       "    }\n",
       "\n",
       "    .dataframe thead th {\n",
       "        text-align: right;\n",
       "    }\n",
       "</style>\n",
       "<table border=\"1\" class=\"dataframe\">\n",
       "  <thead>\n",
       "    <tr style=\"text-align: right;\">\n",
       "      <th></th>\n",
       "      <th>book_id</th>\n",
       "      <th>guest_id</th>\n",
       "    </tr>\n",
       "  </thead>\n",
       "  <tbody>\n",
       "    <tr>\n",
       "      <th>0</th>\n",
       "      <td>0</td>\n",
       "      <td>0</td>\n",
       "    </tr>\n",
       "    <tr>\n",
       "      <th>1</th>\n",
       "      <td>1</td>\n",
       "      <td>0</td>\n",
       "    </tr>\n",
       "    <tr>\n",
       "      <th>2</th>\n",
       "      <td>2</td>\n",
       "      <td>0</td>\n",
       "    </tr>\n",
       "    <tr>\n",
       "      <th>3</th>\n",
       "      <td>3</td>\n",
       "      <td>0</td>\n",
       "    </tr>\n",
       "    <tr>\n",
       "      <th>4</th>\n",
       "      <td>4</td>\n",
       "      <td>0</td>\n",
       "    </tr>\n",
       "    <tr>\n",
       "      <th>...</th>\n",
       "      <td>...</td>\n",
       "      <td>...</td>\n",
       "    </tr>\n",
       "    <tr>\n",
       "      <th>330</th>\n",
       "      <td>91</td>\n",
       "      <td>27</td>\n",
       "    </tr>\n",
       "    <tr>\n",
       "      <th>331</th>\n",
       "      <td>315</td>\n",
       "      <td>27</td>\n",
       "    </tr>\n",
       "    <tr>\n",
       "      <th>332</th>\n",
       "      <td>316</td>\n",
       "      <td>27</td>\n",
       "    </tr>\n",
       "    <tr>\n",
       "      <th>333</th>\n",
       "      <td>317</td>\n",
       "      <td>27</td>\n",
       "    </tr>\n",
       "    <tr>\n",
       "      <th>334</th>\n",
       "      <td>318</td>\n",
       "      <td>27</td>\n",
       "    </tr>\n",
       "  </tbody>\n",
       "</table>\n",
       "<p>335 rows × 2 columns</p>\n",
       "</div>"
      ],
      "text/plain": [
       "     book_id  guest_id\n",
       "0          0         0\n",
       "1          1         0\n",
       "2          2         0\n",
       "3          3         0\n",
       "4          4         0\n",
       "..       ...       ...\n",
       "330       91        27\n",
       "331      315        27\n",
       "332      316        27\n",
       "333      317        27\n",
       "334      318        27\n",
       "\n",
       "[335 rows x 2 columns]"
      ]
     },
     "execution_count": 8,
     "metadata": {},
     "output_type": "execute_result"
    }
   ],
   "source": [
    "recommendations_df"
   ]
  },
  {
   "cell_type": "code",
   "execution_count": 9,
   "id": "964ac5c0",
   "metadata": {
    "execution": {
     "iopub.execute_input": "2025-05-21T06:18:09.358045Z",
     "iopub.status.busy": "2025-05-21T06:18:09.357291Z",
     "iopub.status.idle": "2025-05-21T06:18:09.369775Z",
     "shell.execute_reply": "2025-05-21T06:18:09.368728Z"
    },
    "papermill": {
     "duration": 0.026116,
     "end_time": "2025-05-21T06:18:09.371491",
     "exception": false,
     "start_time": "2025-05-21T06:18:09.345375",
     "status": "completed"
    },
    "tags": []
   },
   "outputs": [
    {
     "name": "stdout",
     "output_type": "stream",
     "text": [
      "   book_id  guest_id\n",
      "0        0         0\n",
      "1        1         0\n",
      "2        2         0\n",
      "3        3         0\n",
      "4        4         0\n",
      "\n",
      "Info:\n",
      "<class 'pandas.core.frame.DataFrame'>\n",
      "RangeIndex: 335 entries, 0 to 334\n",
      "Data columns (total 2 columns):\n",
      " #   Column    Non-Null Count  Dtype\n",
      "---  ------    --------------  -----\n",
      " 0   book_id   335 non-null    int64\n",
      " 1   guest_id  335 non-null    int64\n",
      "dtypes: int64(2)\n",
      "memory usage: 5.4 KB\n",
      "\n",
      "Jumlah rekomendasi unik:\n",
      "335\n",
      "\n",
      "Jumlah tamu unik yang memberi rekomendasi:\n",
      "28\n",
      "\n",
      "Jumlah buku unik yang direkomendasikan:\n",
      "319\n",
      "\n",
      "Missing Values:\n",
      "book_id     0\n",
      "guest_id    0\n",
      "dtype: int64\n"
     ]
    }
   ],
   "source": [
    "if not recommendations_df.empty:\n",
    "    print(recommendations_df.head())\n",
    "    print(\"\\nInfo:\")\n",
    "    recommendations_df.info()\n",
    "    print(\"\\nJumlah rekomendasi unik:\")\n",
    "    print(len(recommendations_df))\n",
    "    print(\"\\nJumlah tamu unik yang memberi rekomendasi:\")\n",
    "    print(recommendations_df['guest_id'].nunique())\n",
    "    print(\"\\nJumlah buku unik yang direkomendasikan:\")\n",
    "    print(recommendations_df['book_id'].nunique())\n",
    "    print(\"\\nMissing Values:\")\n",
    "    print(recommendations_df.isnull().sum())\n",
    "else:\n",
    "    print(\"recommendations_df kosong atau tidak dapat dimuat.\")"
   ]
  },
  {
   "cell_type": "markdown",
   "id": "18cda866",
   "metadata": {
    "papermill": {
     "duration": 0.010781,
     "end_time": "2025-05-21T06:18:09.394049",
     "exception": false,
     "start_time": "2025-05-21T06:18:09.383268",
     "status": "completed"
    },
    "tags": []
   },
   "source": [
    "### Exploratory Data Analysis"
   ]
  },
  {
   "cell_type": "code",
   "execution_count": 10,
   "id": "dfa59e70",
   "metadata": {
    "execution": {
     "iopub.execute_input": "2025-05-21T06:18:09.419410Z",
     "iopub.status.busy": "2025-05-21T06:18:09.419116Z",
     "iopub.status.idle": "2025-05-21T06:18:09.424709Z",
     "shell.execute_reply": "2025-05-21T06:18:09.423771Z"
    },
    "papermill": {
     "duration": 0.019384,
     "end_time": "2025-05-21T06:18:09.426306",
     "exception": false,
     "start_time": "2025-05-21T06:18:09.406922",
     "status": "completed"
    },
    "tags": []
   },
   "outputs": [],
   "source": [
    "plt.style.use('seaborn-v0_8-whitegrid')\n",
    "sns.set_palette(\"viridis\")"
   ]
  },
  {
   "cell_type": "markdown",
   "id": "f3ae1c69",
   "metadata": {
    "papermill": {
     "duration": 0.011206,
     "end_time": "2025-05-21T06:18:09.448885",
     "exception": false,
     "start_time": "2025-05-21T06:18:09.437679",
     "status": "completed"
    },
    "tags": []
   },
   "source": [
    "#### Guest Data"
   ]
  },
  {
   "cell_type": "markdown",
   "id": "03368cbb",
   "metadata": {
    "papermill": {
     "duration": 0.010792,
     "end_time": "2025-05-21T06:18:09.470926",
     "exception": false,
     "start_time": "2025-05-21T06:18:09.460134",
     "status": "completed"
    },
    "tags": []
   },
   "source": [
    "**Distribusi Profesi/Organisasi Tamu**"
   ]
  },
  {
   "cell_type": "code",
   "execution_count": 11,
   "id": "6bfaa19d",
   "metadata": {
    "execution": {
     "iopub.execute_input": "2025-05-21T06:18:09.494355Z",
     "iopub.status.busy": "2025-05-21T06:18:09.494086Z",
     "iopub.status.idle": "2025-05-21T06:18:09.923912Z",
     "shell.execute_reply": "2025-05-21T06:18:09.922956Z"
    },
    "papermill": {
     "duration": 0.443687,
     "end_time": "2025-05-21T06:18:09.925657",
     "exception": false,
     "start_time": "2025-05-21T06:18:09.481970",
     "status": "completed"
    },
    "tags": []
   },
   "outputs": [
    {
     "data": {
      "image/png": "[encoded data removed]",
      "text/plain": [
       "<Figure size 1200x700 with 1 Axes>"
      ]
     },
     "metadata": {},
     "output_type": "display_data"
    }
   ],
   "source": [
    "if 'guest_profession_or_org' in guests_df.columns:\n",
    "    plt.figure(figsize=(12, 7))\n",
    "    profession_counts = guests_df['guest_profession_or_org'].value_counts()\n",
    "    \n",
    "    # Jika jumlah kategori terlalu banyak, tampilkan N teratas saja\n",
    "    top_n_professions = 15\n",
    "    if len(profession_counts) > top_n_professions:\n",
    "        profession_counts = profession_counts.head(top_n_professions)\n",
    "        plt.title(f'Top {top_n_professions} Distribusi Profesi/Organisasi Tamu')\n",
    "    else:\n",
    "        plt.title('Distribusi Profesi/Organisasi Tamu')\n",
    "\n",
    "    sns.barplot(x=profession_counts.index, y=profession_counts.values, palette=\"viridis\")\n",
    "    plt.xlabel('Profesi / Organisasi')\n",
    "    plt.ylabel('Jumlah Tamu')\n",
    "    plt.xticks(rotation=45, ha='right', fontsize=10)\n",
    "    plt.yticks(fontsize=10)\n",
    "    plt.tight_layout() # Menyesuaikan layout agar label tidak terpotong\n",
    "    plt.show()\n",
    "else:\n",
    "    print(\"Kolom 'guest_profession_or_org' tidak ditemukan.\")"
   ]
  },
  {
   "cell_type": "markdown",
   "id": "c05a9ef7",
   "metadata": {
    "papermill": {
     "duration": 0.012236,
     "end_time": "2025-05-21T06:18:09.950350",
     "exception": false,
     "start_time": "2025-05-21T06:18:09.938114",
     "status": "completed"
    },
    "tags": []
   },
   "source": [
    "#### Books Data"
   ]
  },
  {
   "cell_type": "markdown",
   "id": "2778ed4e",
   "metadata": {
    "papermill": {
     "duration": 0.011487,
     "end_time": "2025-05-21T06:18:09.974149",
     "exception": false,
     "start_time": "2025-05-21T06:18:09.962662",
     "status": "completed"
    },
    "tags": []
   },
   "source": [
    "**Distribusi Fitur Numerik**"
   ]
  },
  {
   "cell_type": "markdown",
   "id": "d3539c7e",
   "metadata": {
    "papermill": {
     "duration": 0.011493,
     "end_time": "2025-05-21T06:18:09.997606",
     "exception": false,
     "start_time": "2025-05-21T06:18:09.986113",
     "status": "completed"
    },
    "tags": []
   },
   "source": [
    "Sebaran `pageCount` dan `averageRating`"
   ]
  },
  {
   "cell_type": "code",
   "execution_count": 12,
   "id": "b95c5f4d",
   "metadata": {
    "execution": {
     "iopub.execute_input": "2025-05-21T06:18:10.022430Z",
     "iopub.status.busy": "2025-05-21T06:18:10.022132Z",
     "iopub.status.idle": "2025-05-21T06:18:10.674514Z",
     "shell.execute_reply": "2025-05-21T06:18:10.673603Z"
    },
    "papermill": {
     "duration": 0.667292,
     "end_time": "2025-05-21T06:18:10.676709",
     "exception": false,
     "start_time": "2025-05-21T06:18:10.009417",
     "status": "completed"
    },
    "tags": []
   },
   "outputs": [
    {
     "name": "stderr",
     "output_type": "stream",
     "text": [
      "/usr/local/lib/python3.11/dist-packages/seaborn/_oldcore.py:1119: FutureWarning: use_inf_as_na option is deprecated and will be removed in a future version. Convert inf values to NaN before operating instead.\n",
      "  with pd.option_context('mode.use_inf_as_na', True):\n",
      "/usr/local/lib/python3.11/dist-packages/seaborn/_oldcore.py:1119: FutureWarning: use_inf_as_na option is deprecated and will be removed in a future version. Convert inf values to NaN before operating instead.\n",
      "  with pd.option_context('mode.use_inf_as_na', True):\n"
     ]
    },
    {
     "data": {
      "image/png": "[encoded data removed]",
      "text/plain": [
       "<Figure size 2000x500 with 2 Axes>"
      ]
     },
     "metadata": {},
     "output_type": "display_data"
    }
   ],
   "source": [
    "if not books_df.empty and all(col in books_df.columns for col in ['pageCount', 'averageRating']):\n",
    "    fig, axes = plt.subplots(1, 2, figsize=(20, 5))\n",
    "    fig.suptitle('Distribusi Fitur Numerik Buku', fontsize=16)\n",
    "\n",
    "    sns.histplot(books_df['pageCount'], kde=True, ax=axes[0], bins=30)\n",
    "    axes[0].set_title('Distribusi Jumlah Halaman (pageCount)')\n",
    "    axes[0].set_xlabel('Jumlah Halaman')\n",
    "    axes[0].set_ylabel('Frekuensi')\n",
    "\n",
    "    sns.histplot(books_df['averageRating'], kde=True, ax=axes[1], bins=10)\n",
    "    axes[1].set_title('Distribusi Rata-rata Rating (averageRating)')\n",
    "    axes[1].set_xlabel('Rata-rata Rating')\n",
    "    axes[1].set_ylabel('Frekuensi')\n",
    "\n",
    "    plt.tight_layout(rect=[0, 0, 1, 0.96])\n",
    "    plt.show()\n",
    "else:\n",
    "    print(\"Kolom numerik 'pageCount', 'averageRating', atau 'ratingsCount' tidak ditemukan atau DataFrame kosong.\")"
   ]
  },
  {
   "cell_type": "markdown",
   "id": "473166ec",
   "metadata": {
    "papermill": {
     "duration": 0.01328,
     "end_time": "2025-05-21T06:18:10.704270",
     "exception": false,
     "start_time": "2025-05-21T06:18:10.690990",
     "status": "completed"
    },
    "tags": []
   },
   "source": [
    "Heatmap fitur numerik"
   ]
  },
  {
   "cell_type": "code",
   "execution_count": 13,
   "id": "c9c2aa1b",
   "metadata": {
    "execution": {
     "iopub.execute_input": "2025-05-21T06:18:10.733223Z",
     "iopub.status.busy": "2025-05-21T06:18:10.732395Z",
     "iopub.status.idle": "2025-05-21T06:18:10.943576Z",
     "shell.execute_reply": "2025-05-21T06:18:10.942489Z"
    },
    "papermill": {
     "duration": 0.227537,
     "end_time": "2025-05-21T06:18:10.945354",
     "exception": false,
     "start_time": "2025-05-21T06:18:10.717817",
     "status": "completed"
    },
    "tags": []
   },
   "outputs": [
    {
     "data": {
      "image/png": "[encoded data removed]",
      "text/plain": [
       "<Figure size 800x600 with 2 Axes>"
      ]
     },
     "metadata": {},
     "output_type": "display_data"
    }
   ],
   "source": [
    "if not books_df.empty and all(col in books_df.columns for col in ['pageCount', 'averageRating', 'ratingsCount']):\n",
    "    numerical_features = books_df[['pageCount', 'averageRating', 'ratingsCount']]\n",
    "\n",
    "    plt.figure(figsize=(8, 6))\n",
    "    correlation_matrix = numerical_features.corr()\n",
    "    sns.heatmap(correlation_matrix, annot=True, cmap='coolwarm', fmt=\".2f\", linewidths=.5)\n",
    "    plt.title('Heatmap Korelasi Fitur Numerik Buku')\n",
    "    plt.show()\n",
    "else:\n",
    "    print(\"Tidak semua kolom numerik ('pageCount', 'averageRating', 'ratingsCount') ditemukan untuk analisis korelasi.\")"
   ]
  },
  {
   "cell_type": "markdown",
   "id": "563df2e0",
   "metadata": {
    "papermill": {
     "duration": 0.013918,
     "end_time": "2025-05-21T06:18:10.973981",
     "exception": false,
     "start_time": "2025-05-21T06:18:10.960063",
     "status": "completed"
    },
    "tags": []
   },
   "source": [
    "**Distribusi Fitur Kategorik**"
   ]
  },
  {
   "cell_type": "markdown",
   "id": "4aaa755f",
   "metadata": {
    "papermill": {
     "duration": 0.013943,
     "end_time": "2025-05-21T06:18:11.002092",
     "exception": false,
     "start_time": "2025-05-21T06:18:10.988149",
     "status": "completed"
    },
    "tags": []
   },
   "source": [
    "Kategori Buku Terpopuler"
   ]
  },
  {
   "cell_type": "code",
   "execution_count": 14,
   "id": "087dc129",
   "metadata": {
    "execution": {
     "iopub.execute_input": "2025-05-21T06:18:11.032138Z",
     "iopub.status.busy": "2025-05-21T06:18:11.031326Z",
     "iopub.status.idle": "2025-05-21T06:18:11.300740Z",
     "shell.execute_reply": "2025-05-21T06:18:11.299710Z"
    },
    "papermill": {
     "duration": 0.286425,
     "end_time": "2025-05-21T06:18:11.302429",
     "exception": false,
     "start_time": "2025-05-21T06:18:11.016004",
     "status": "completed"
    },
    "tags": []
   },
   "outputs": [
    {
     "data": {
      "image/png": "[encoded data removed]",
      "text/plain": [
       "<Figure size 1200x600 with 1 Axes>"
      ]
     },
     "metadata": {},
     "output_type": "display_data"
    }
   ],
   "source": [
    "if not books_df.empty and 'categories' in books_df.columns:\n",
    "    try:\n",
    "        # Fungsi untuk mem-parsing string list dan menghitung frekuensi kategori\n",
    "        def get_category_counts(series):\n",
    "            from collections import Counter\n",
    "            import ast # Untuk evaluasi string list literal dengan aman\n",
    "\n",
    "            all_categories = []\n",
    "            for item_list_str in series.dropna():\n",
    "                try:\n",
    "                    # Coba evaluasi sebagai Python literal jika formatnya ['Cat A', 'Cat B']\n",
    "                    # Ini bisa berisiko jika string tidak terformat dengan baik.\n",
    "                    # Pertimbangkan regex jika format lebih bebas.\n",
    "                    item_list = ast.literal_eval(item_list_str)\n",
    "                    if isinstance(item_list, list):\n",
    "                        all_categories.extend([cat.strip() for cat in item_list])\n",
    "                    elif isinstance(item_list, str): # Jika hanya satu kategori tanpa list\n",
    "                         all_categories.append(item_list.strip())\n",
    "                except (ValueError, SyntaxError):\n",
    "                    # Jika gagal di-eval, anggap sebagai satu kategori string biasa\n",
    "                    # atau pisahkan berdasarkan koma jika ada\n",
    "                    all_categories.extend([cat.strip() for cat in item_list_str.split(',')])\n",
    "            return Counter(all_categories)\n",
    "\n",
    "        category_counts = get_category_counts(books_df['categories'])\n",
    "        if category_counts:\n",
    "            top_categories = pd.Series(category_counts).sort_values(ascending=False).head(10)\n",
    "\n",
    "            plt.figure(figsize=(12, 6))\n",
    "            sns.barplot(x=top_categories.index, y=top_categories.values)\n",
    "            plt.title('Top 10 Kategori Buku')\n",
    "            plt.xlabel('Kategori')\n",
    "            plt.ylabel('Jumlah Kemunculan')\n",
    "            plt.xticks(rotation=45, ha='right')\n",
    "            plt.tight_layout()\n",
    "            plt.show()\n",
    "        else:\n",
    "            print(\"Tidak ada data kategori yang bisa diproses.\")\n",
    "    except Exception as e:\n",
    "        print(f\"Error saat memproses kategori: {e}. Pastikan format kolom 'categories' sesuai.\")\n",
    "else:\n",
    "    print(\"Kolom 'categories' tidak ditemukan atau DataFrame kosong.\")\n"
   ]
  },
  {
   "cell_type": "markdown",
   "id": "51b40c77",
   "metadata": {
    "papermill": {
     "duration": 0.015211,
     "end_time": "2025-05-21T06:18:11.334026",
     "exception": false,
     "start_time": "2025-05-21T06:18:11.318815",
     "status": "completed"
    },
    "tags": []
   },
   "source": [
    "Penulis Buku Terpopuler"
   ]
  },
  {
   "cell_type": "code",
   "execution_count": 15,
   "id": "f6a5697b",
   "metadata": {
    "execution": {
     "iopub.execute_input": "2025-05-21T06:18:11.366375Z",
     "iopub.status.busy": "2025-05-21T06:18:11.366042Z",
     "iopub.status.idle": "2025-05-21T06:18:11.649205Z",
     "shell.execute_reply": "2025-05-21T06:18:11.648150Z"
    },
    "papermill": {
     "duration": 0.301437,
     "end_time": "2025-05-21T06:18:11.651038",
     "exception": false,
     "start_time": "2025-05-21T06:18:11.349601",
     "status": "completed"
    },
    "tags": []
   },
   "outputs": [
    {
     "data": {
      "image/png": "[encoded data removed]",
      "text/plain": [
       "<Figure size 1200x600 with 1 Axes>"
      ]
     },
     "metadata": {},
     "output_type": "display_data"
    }
   ],
   "source": [
    "if not books_df.empty and 'authors' in books_df.columns:\n",
    "    try:\n",
    "        # Fungsi parsing bisa disamakan dengan kategori atau disesuaikan\n",
    "        author_counts = get_category_counts(books_df['authors']) # Menggunakan fungsi yang sama\n",
    "        if author_counts:\n",
    "            top_authors = pd.Series(author_counts).sort_values(ascending=False).head(10)\n",
    "            if 'Unknown' in top_authors.index and len(top_authors) > 1: # Jangan hanya tampilkan 'Unknown'\n",
    "                top_authors = top_authors[top_authors.index != 'Unknown'].head(10)\n",
    "\n",
    "\n",
    "            plt.figure(figsize=(12, 6))\n",
    "            sns.barplot(x=top_authors.index, y=top_authors.values)\n",
    "            plt.title('Top 10 Penulis dengan Rekomendasi Terbanyak')\n",
    "            plt.xlabel('Penulis')\n",
    "            plt.ylabel('Jumlah Kemunculan')\n",
    "            plt.xticks(rotation=45, ha='right')\n",
    "            plt.tight_layout()\n",
    "            plt.show()\n",
    "        else:\n",
    "            print(\"Tidak ada data penulis yang bisa diproses.\")\n",
    "    except Exception as e:\n",
    "        print(f\"Error saat memproses penulis: {e}. Pastikan format kolom 'authors' sesuai.\")\n",
    "\n",
    "else:\n",
    "    print(\"Kolom 'authors' tidak ditemukan atau DataFrame kosong.\")\n"
   ]
  },
  {
   "cell_type": "markdown",
   "id": "1de68fe5",
   "metadata": {
    "papermill": {
     "duration": 0.01602,
     "end_time": "2025-05-21T06:18:11.683929",
     "exception": false,
     "start_time": "2025-05-21T06:18:11.667909",
     "status": "completed"
    },
    "tags": []
   },
   "source": [
    "#### Recommendations Data"
   ]
  },
  {
   "cell_type": "markdown",
   "id": "cb061294",
   "metadata": {
    "papermill": {
     "duration": 0.016121,
     "end_time": "2025-05-21T06:18:11.716000",
     "exception": false,
     "start_time": "2025-05-21T06:18:11.699879",
     "status": "completed"
    },
    "tags": []
   },
   "source": [
    "Distribusi Rekomendasi per Tamu"
   ]
  },
  {
   "cell_type": "code",
   "execution_count": 16,
   "id": "66e81905",
   "metadata": {
    "execution": {
     "iopub.execute_input": "2025-05-21T06:18:11.750096Z",
     "iopub.status.busy": "2025-05-21T06:18:11.749406Z",
     "iopub.status.idle": "2025-05-21T06:18:11.961686Z",
     "shell.execute_reply": "2025-05-21T06:18:11.960818Z"
    },
    "papermill": {
     "duration": 0.231249,
     "end_time": "2025-05-21T06:18:11.963291",
     "exception": false,
     "start_time": "2025-05-21T06:18:11.732042",
     "status": "completed"
    },
    "tags": []
   },
   "outputs": [
    {
     "name": "stderr",
     "output_type": "stream",
     "text": [
      "/usr/local/lib/python3.11/dist-packages/seaborn/_oldcore.py:1119: FutureWarning: use_inf_as_na option is deprecated and will be removed in a future version. Convert inf values to NaN before operating instead.\n",
      "  with pd.option_context('mode.use_inf_as_na', True):\n"
     ]
    },
    {
     "data": {
      "image/png": "[encoded data removed]",
      "text/plain": [
       "<Figure size 1000x600 with 1 Axes>"
      ]
     },
     "metadata": {},
     "output_type": "display_data"
    }
   ],
   "source": [
    "recommendations_per_guest = recommendations_df['guest_id'].value_counts()\n",
    "\n",
    "plt.figure(figsize=(10, 6))\n",
    "sns.histplot(recommendations_per_guest, bins=max(10, min(30, recommendations_per_guest.nunique())), kde=False) # Sesuaikan bins\n",
    "plt.title('Distribusi Jumlah Rekomendasi per Tamu')\n",
    "plt.xlabel('Jumlah Buku yang Direkomendasikan')\n",
    "plt.ylabel('Jumlah Tamu')\n",
    "# Pertimbangkan skala log pada sumbu y jika distribusinya sangat miring\n",
    "# plt.yscale('log')\n",
    "plt.grid(True, which=\"both\", ls=\"-\", alpha=0.5)\n",
    "plt.show()\n"
   ]
  },
  {
   "cell_type": "markdown",
   "id": "8860bcb7",
   "metadata": {
    "papermill": {
     "duration": 0.017353,
     "end_time": "2025-05-21T06:18:11.998260",
     "exception": false,
     "start_time": "2025-05-21T06:18:11.980907",
     "status": "completed"
    },
    "tags": []
   },
   "source": [
    "Tamu dengan Rekomendasi Terbanyak"
   ]
  },
  {
   "cell_type": "code",
   "execution_count": 17,
   "id": "01ddb215",
   "metadata": {
    "execution": {
     "iopub.execute_input": "2025-05-21T06:18:12.034337Z",
     "iopub.status.busy": "2025-05-21T06:18:12.034047Z",
     "iopub.status.idle": "2025-05-21T06:18:12.341197Z",
     "shell.execute_reply": "2025-05-21T06:18:12.340339Z"
    },
    "papermill": {
     "duration": 0.3271,
     "end_time": "2025-05-21T06:18:12.342690",
     "exception": false,
     "start_time": "2025-05-21T06:18:12.015590",
     "status": "completed"
    },
    "tags": []
   },
   "outputs": [
    {
     "data": {
      "image/png": "[encoded data removed]",
      "text/plain": [
       "<Figure size 1400x700 with 1 Axes>"
      ]
     },
     "metadata": {},
     "output_type": "display_data"
    }
   ],
   "source": [
    "top_n_guests = 10\n",
    "if len(recommendations_per_guest) > 0:\n",
    "    plt.figure(figsize=(14, 7))\n",
    "    recommendations_per_guest.head(top_n_guests).plot(kind='bar')\n",
    "    plt.xlabel('Guest ID')\n",
    "\n",
    "    plt.title(f'Top {top_n_guests} Tamu dengan Rekomendasi Terbanyak')\n",
    "    plt.ylabel('Jumlah Buku yang Direkomendasikan')\n",
    "    plt.xticks(rotation=45, ha='right')\n",
    "    plt.tight_layout()\n",
    "    plt.show()\n",
    "else:\n",
    "    print(\"Tidak ada data rekomendasi per tamu untuk ditampilkan pada bar chart.\")"
   ]
  },
  {
   "cell_type": "code",
   "execution_count": 18,
   "id": "55a38318",
   "metadata": {
    "execution": {
     "iopub.execute_input": "2025-05-21T06:18:12.379511Z",
     "iopub.status.busy": "2025-05-21T06:18:12.378658Z",
     "iopub.status.idle": "2025-05-21T06:18:12.563249Z",
     "shell.execute_reply": "2025-05-21T06:18:12.562368Z"
    },
    "papermill": {
     "duration": 0.204239,
     "end_time": "2025-05-21T06:18:12.564779",
     "exception": false,
     "start_time": "2025-05-21T06:18:12.360540",
     "status": "completed"
    },
    "tags": []
   },
   "outputs": [
    {
     "name": "stdout",
     "output_type": "stream",
     "text": [
      "Top 1 tamu (3.6%) menyumbang 9.55% dari total rekomendasi.\n",
      "Top 2 tamu (7.1%) menyumbang 19.10% dari total rekomendasi.\n",
      "Top 5 tamu (17.9%) menyumbang 40.60% dari total rekomendasi.\n",
      "Top 10 tamu (35.7%) menyumbang 63.28% dari total rekomendasi.\n"
     ]
    },
    {
     "data": {
      "image/png": "[encoded data removed]",
      "text/plain": [
       "<Figure size 1000x500 with 1 Axes>"
      ]
     },
     "metadata": {},
     "output_type": "display_data"
    }
   ],
   "source": [
    "total_recommendations = len(recommendations_df)\n",
    "if total_recommendations > 0 and len(recommendations_per_guest) > 0:\n",
    "    cumulative_percentage = []\n",
    "    num_top_guests_to_check = [1, 5, 10, int(len(recommendations_per_guest) * 0.1), int(len(recommendations_per_guest) * 0.2)] # Cek top 1, 5, 10, 10%, 20% tamu\n",
    "    num_top_guests_to_check = sorted(list(set([n for n in num_top_guests_to_check if n > 0 and n <= len(recommendations_per_guest)]))) # Pastikan valid\n",
    "\n",
    "    for n in num_top_guests_to_check:\n",
    "        recs_by_top_n = recommendations_per_guest.head(n).sum()\n",
    "        percentage = (recs_by_top_n / total_recommendations) * 100\n",
    "        cumulative_percentage.append(percentage)\n",
    "        print(f\"Top {n} tamu ({n/len(recommendations_per_guest)*100:.1f}%) menyumbang {percentage:.2f}% dari total rekomendasi.\")\n",
    "\n",
    "    if cumulative_percentage:\n",
    "        plt.figure(figsize=(10, 5))\n",
    "        plt.plot(num_top_guests_to_check, cumulative_percentage, marker='o')\n",
    "        plt.title('Persentase Kumulatif Rekomendasi dari Top N Tamu')\n",
    "        plt.xlabel('Jumlah Tamu Teratas (N)')\n",
    "        plt.ylabel('Persentase Kumulatif Rekomendasi (%)')\n",
    "        plt.grid(True)\n",
    "        plt.show()\n",
    "else:\n",
    "    print(\"Tidak dapat menghitung persentase kumulatif, total rekomendasi atau jumlah tamu unik adalah nol.\")"
   ]
  },
  {
   "cell_type": "markdown",
   "id": "d46128f0",
   "metadata": {
    "papermill": {
     "duration": 0.018023,
     "end_time": "2025-05-21T06:18:12.602248",
     "exception": false,
     "start_time": "2025-05-21T06:18:12.584225",
     "status": "completed"
    },
    "tags": []
   },
   "source": [
    "## Data Preparation"
   ]
  },
  {
   "cell_type": "markdown",
   "id": "fba266fe",
   "metadata": {
    "papermill": {
     "duration": 0.017888,
     "end_time": "2025-05-21T06:18:12.638435",
     "exception": false,
     "start_time": "2025-05-21T06:18:12.620547",
     "status": "completed"
    },
    "tags": []
   },
   "source": [
    "Proses persiapan data dilakukan untuk memastikan data bersih, konsisten, dan dalam format yang sesuai untuk pemodelan."
   ]
  },
  {
   "cell_type": "markdown",
   "id": "9fe7ffae",
   "metadata": {
    "papermill": {
     "duration": 0.01779,
     "end_time": "2025-05-21T06:18:12.674321",
     "exception": false,
     "start_time": "2025-05-21T06:18:12.656531",
     "status": "completed"
    },
    "tags": []
   },
   "source": [
    "## Missing Values Treatment"
   ]
  },
  {
   "cell_type": "markdown",
   "id": "5e42772a",
   "metadata": {
    "papermill": {
     "duration": 0.017705,
     "end_time": "2025-05-21T06:18:12.710308",
     "exception": false,
     "start_time": "2025-05-21T06:18:12.692603",
     "status": "completed"
    },
    "tags": []
   },
   "source": [
    "- Untuk kolom tekstual di books_df (book_description, description, synopsis, categories, authors, publisher, language, publishedDate): Nilai NaN diisi dengan string kosong ('') atau nilai placeholder seperti 'Unknown'. Ini dilakukan agar operasi string berikutnya tidak error.\n",
    "- Untuk kolom numerik di books_df (averageRating, pageCount): Nilai NaN diisi dengan nilai median dari kolom tersebut. Median dipilih karena lebih robust terhadap outlier dibandingkan mean. ratingsCount diisi dengan 0.\n",
    "- Untuk kolom tekstual di guests_df (guest_profession_or_org, guest_info): Nilai NaN diisi dengan 'Unknown' atau string kosong.\n",
    "- Untuk recommendations_df: Baris dengan guest_id atau book_id yang hilang (jika ada) akan dihapus karena merupakan informasi krusial untuk interaksi."
   ]
  },
  {
   "cell_type": "code",
   "execution_count": 19,
   "id": "70478372",
   "metadata": {
    "execution": {
     "iopub.execute_input": "2025-05-21T06:18:12.747443Z",
     "iopub.status.busy": "2025-05-21T06:18:12.746883Z",
     "iopub.status.idle": "2025-05-21T06:18:12.761199Z",
     "shell.execute_reply": "2025-05-21T06:18:12.760318Z"
    },
    "papermill": {
     "duration": 0.034315,
     "end_time": "2025-05-21T06:18:12.762472",
     "exception": false,
     "start_time": "2025-05-21T06:18:12.728157",
     "status": "completed"
    },
    "tags": []
   },
   "outputs": [
    {
     "name": "stdout",
     "output_type": "stream",
     "text": [
      "Fillna applied using for missing values.\n"
     ]
    }
   ],
   "source": [
    "if not books_df.empty:\n",
    "    books_df['book_description_from_chalchitra'] = books_df['book_description_from_chalchitra'].fillna('')\n",
    "    # For other text columns in books_df (assuming they exist based on previous context)\n",
    "    books_df['description'] = books_df['description'].fillna('')\n",
    "    books_df['synopsis'] = books_df['synopsis'].fillna('')\n",
    "    books_df['categories'] = books_df['categories'].fillna('Unknown')\n",
    "    books_df['authors'] = books_df['authors'].fillna('Unknown')\n",
    "    books_df['publisher'] = books_df['publisher'].fillna('Unknown')\n",
    "\n",
    "    if 'averageRating' in books_df.columns:\n",
    "        median_avg_rating = books_df['averageRating'].median() # Calculate median once\n",
    "        books_df['averageRating'] = books_df['averageRating'].fillna(median_avg_rating)\n",
    "    if 'ratingsCount' in books_df.columns:\n",
    "        books_df['ratingsCount'] = books_df['ratingsCount'].fillna(0) # Atau median\n",
    "    if 'pageCount' in books_df.columns:\n",
    "        median_page_count = books_df['pageCount'].median() # Calculate median once\n",
    "        books_df['pageCount'] = books_df['pageCount'].fillna(median_page_count)\n",
    "\n",
    "if not guests_df.empty:\n",
    "    guests_df['guest_profession_or_org'] = guests_df['guest_profession_or_org'].fillna('Unknown')\n",
    "    guests_df['guest_info'] = guests_df['guest_info'].fillna('')\n",
    "\n",
    "if not recommendations_df.empty:\n",
    "    if recommendations_df.isnull().values.any():\n",
    "        print(\"Menghapus baris dengan NaN di recommendations_df...\")\n",
    "        recommendations_df.dropna(inplace=True)\n",
    "        \n",
    "print(\"Fillna applied using for missing values.\")"
   ]
  },
  {
   "cell_type": "markdown",
   "id": "04aff76a",
   "metadata": {
    "papermill": {
     "duration": 0.017808,
     "end_time": "2025-05-21T06:18:12.798384",
     "exception": false,
     "start_time": "2025-05-21T06:18:12.780576",
     "status": "completed"
    },
    "tags": []
   },
   "source": [
    "#### Feature Engineering"
   ]
  },
  {
   "cell_type": "code",
   "execution_count": 20,
   "id": "5d18ba1e",
   "metadata": {
    "execution": {
     "iopub.execute_input": "2025-05-21T06:18:12.836906Z",
     "iopub.status.busy": "2025-05-21T06:18:12.836528Z",
     "iopub.status.idle": "2025-05-21T06:18:12.910096Z",
     "shell.execute_reply": "2025-05-21T06:18:12.909077Z"
    },
    "papermill": {
     "duration": 0.095039,
     "end_time": "2025-05-21T06:18:12.911574",
     "exception": false,
     "start_time": "2025-05-21T06:18:12.816535",
     "status": "completed"
    },
    "tags": []
   },
   "outputs": [
    {
     "name": "stdout",
     "output_type": "stream",
     "text": [
      "\n",
      "Contoh content_features setelah perbaikan:\n",
      "                             book_name  \\\n",
      "0  Charles Laughton: A Difficult Actor   \n",
      "1                   Gone with the Wind   \n",
      "2                             Hayvadan   \n",
      "3               The London Jungle Book   \n",
      "4           The Private Life of Plants   \n",
      "\n",
      "                                    content_features  \n",
      "0  charles laughton: a difficult actor this is th...  \n",
      "1  gone with the wind a historical novel by marga...  \n",
      "2  hayvadan it is based on kathasaritsagara and t...  \n",
      "3  the london jungle book a visual travelogue by ...  \n",
      "4  the private life of plants this book reveals h...  \n"
     ]
    }
   ],
   "source": [
    "if not books_df.empty:\n",
    "    cols_for_content = {\n",
    "        'book_name': 'text',\n",
    "        'book_description_from_chalchitra': 'text',\n",
    "        'authors': 'list_like_text', \n",
    "        'categories': 'list_like_text',\n",
    "        'description': 'text',\n",
    "        'synopsis': 'text',\n",
    "        'publisher': 'text', \n",
    "        'language': 'text'  \n",
    "    }\n",
    "\n",
    "    books_df['content_features'] = ''\n",
    "\n",
    "    for col, col_type in cols_for_content.items():\n",
    "        if col in books_df.columns:\n",
    "            # Isi NaN dengan string kosong untuk kolom teks atau 'Unknown' untuk kategori jika perlu\n",
    "            # Untuk kolom yang akan diproses, pastikan semuanya string dulu\n",
    "            series_to_process = books_df[col].fillna('').astype(str)\n",
    "\n",
    "            if col_type == 'list_like_text':\n",
    "                # Membersihkan karakter list dan tanda kutip dari string\n",
    "                # Ini adalah asumsi umum, mungkin perlu disesuaikan jika format list berbeda\n",
    "                # Contoh: \"['Author A', 'Author B']\" -> \"Author A Author B\"\n",
    "                # Contoh: \"['Fiction']\" -> \"Fiction\"\n",
    "                processed_series = series_to_process.str.replace(r\"[\\[\\]',]\", '', regex=True)\n",
    "                # Hapus spasi berlebih yang mungkin muncul setelah replace\n",
    "                processed_series = processed_series.str.replace(r'\\s+', ' ', regex=True).str.strip()\n",
    "                books_df['content_features'] += processed_series + ' '\n",
    "            else: # col_type == 'text'\n",
    "                books_df['content_features'] += series_to_process + ' '\n",
    "        else:\n",
    "            print(f\"Peringatan: Kolom '{col}' tidak ditemukan di books_df untuk feature engineering.\")\n",
    "\n",
    "    # Hapus spasi berlebih di awal/akhir dan ubah ke lowercase\n",
    "    books_df['content_features'] = books_df['content_features'].str.strip().str.lower()\n",
    "    # Hapus spasi ganda yang mungkin terbentuk\n",
    "    books_df['content_features'] = books_df['content_features'].str.replace(r'\\s+', ' ', regex=True)\n",
    "\n",
    "    print(\"\\nContoh content_features setelah perbaikan:\")\n",
    "    if 'content_features' in books_df.columns and not books_df.empty:\n",
    "        print(books_df[['book_name', 'content_features']].head())\n",
    "    else:\n",
    "        print(\"Kolom 'content_features' tidak dapat dibuat atau books_df kosong.\")"
   ]
  },
  {
   "cell_type": "code",
   "execution_count": 21,
   "id": "6e0ac529",
   "metadata": {
    "execution": {
     "iopub.execute_input": "2025-05-21T06:18:12.950141Z",
     "iopub.status.busy": "2025-05-21T06:18:12.949477Z",
     "iopub.status.idle": "2025-05-21T06:18:12.968922Z",
     "shell.execute_reply": "2025-05-21T06:18:12.968087Z"
    },
    "papermill": {
     "duration": 0.040204,
     "end_time": "2025-05-21T06:18:12.970277",
     "exception": false,
     "start_time": "2025-05-21T06:18:12.930073",
     "status": "completed"
    },
    "tags": []
   },
   "outputs": [
    {
     "data": {
      "text/html": [
       "<div>\n",
       "<style scoped>\n",
       "    .dataframe tbody tr th:only-of-type {\n",
       "        vertical-align: middle;\n",
       "    }\n",
       "\n",
       "    .dataframe tbody tr th {\n",
       "        vertical-align: top;\n",
       "    }\n",
       "\n",
       "    .dataframe thead th {\n",
       "        text-align: right;\n",
       "    }\n",
       "</style>\n",
       "<table border=\"1\" class=\"dataframe\">\n",
       "  <thead>\n",
       "    <tr style=\"text-align: right;\">\n",
       "      <th></th>\n",
       "      <th>book_id</th>\n",
       "      <th>book_name</th>\n",
       "      <th>book_description_from_chalchitra</th>\n",
       "      <th>authors</th>\n",
       "      <th>publisher</th>\n",
       "      <th>publishedDate</th>\n",
       "      <th>pageCount</th>\n",
       "      <th>categories</th>\n",
       "      <th>averageRating</th>\n",
       "      <th>ratingsCount</th>\n",
       "      <th>language</th>\n",
       "      <th>description</th>\n",
       "      <th>synopsis</th>\n",
       "      <th>content_features</th>\n",
       "    </tr>\n",
       "  </thead>\n",
       "  <tbody>\n",
       "    <tr>\n",
       "      <th>0</th>\n",
       "      <td>0</td>\n",
       "      <td>Charles Laughton: A Difficult Actor</td>\n",
       "      <td>This is the fullest biography yet on the actor...</td>\n",
       "      <td>['Simon Callow']</td>\n",
       "      <td>Fromm International</td>\n",
       "      <td>1997</td>\n",
       "      <td>318.0</td>\n",
       "      <td>['Biography &amp; Autobiography']</td>\n",
       "      <td>4.0</td>\n",
       "      <td>0.0</td>\n",
       "      <td>en</td>\n",
       "      <td></td>\n",
       "      <td></td>\n",
       "      <td>charles laughton: a difficult actor this is th...</td>\n",
       "    </tr>\n",
       "    <tr>\n",
       "      <th>1</th>\n",
       "      <td>1</td>\n",
       "      <td>Gone with the Wind</td>\n",
       "      <td>A historical novel by Margaret Mitchell.</td>\n",
       "      <td>['Margaret Mitchell']</td>\n",
       "      <td>Random House</td>\n",
       "      <td>2020-01-02</td>\n",
       "      <td>1072.0</td>\n",
       "      <td>['Fiction']</td>\n",
       "      <td>4.5</td>\n",
       "      <td>5.0</td>\n",
       "      <td>en</td>\n",
       "      <td>'My dear, I don't give a damn.' Margaret Mitch...</td>\n",
       "      <td>'My dear, I don't give a damn.'\\n\\nMargaret Mi...</td>\n",
       "      <td>gone with the wind a historical novel by marga...</td>\n",
       "    </tr>\n",
       "    <tr>\n",
       "      <th>2</th>\n",
       "      <td>2</td>\n",
       "      <td>Hayvadan</td>\n",
       "      <td>It is based on Kathasaritsagara and Thomas Man...</td>\n",
       "      <td>['Girish Karnad']</td>\n",
       "      <td>Radhakrishna Prakashan</td>\n",
       "      <td>2021-07-29</td>\n",
       "      <td>132.0</td>\n",
       "      <td>Unknown</td>\n",
       "      <td>4.0</td>\n",
       "      <td>0.0</td>\n",
       "      <td>hi</td>\n",
       "      <td></td>\n",
       "      <td></td>\n",
       "      <td>hayvadan it is based on kathasaritsagara and t...</td>\n",
       "    </tr>\n",
       "    <tr>\n",
       "      <th>3</th>\n",
       "      <td>3</td>\n",
       "      <td>The London Jungle Book</td>\n",
       "      <td>A visual travelogue by Bhajju Shyam</td>\n",
       "      <td>['Bhajju Shyam', 'Sirish Rao', 'Gita Wolf-Samp...</td>\n",
       "      <td>Tara Publishing</td>\n",
       "      <td>2004</td>\n",
       "      <td>48.0</td>\n",
       "      <td>['Art']</td>\n",
       "      <td>5.0</td>\n",
       "      <td>1.0</td>\n",
       "      <td>en</td>\n",
       "      <td>Bhajju Shyam, of the Gond tribe of central Ind...</td>\n",
       "      <td>“A beautiful book. I would like to give it to ...</td>\n",
       "      <td>the london jungle book a visual travelogue by ...</td>\n",
       "    </tr>\n",
       "    <tr>\n",
       "      <th>4</th>\n",
       "      <td>4</td>\n",
       "      <td>The Private Life of Plants</td>\n",
       "      <td>This book reveals hidden events and phenomena ...</td>\n",
       "      <td>['David Attenborough']</td>\n",
       "      <td>Unknown</td>\n",
       "      <td>1995</td>\n",
       "      <td>320.0</td>\n",
       "      <td>['Botany']</td>\n",
       "      <td>4.0</td>\n",
       "      <td>3.0</td>\n",
       "      <td>en</td>\n",
       "      <td>Without plants, there would be no food, no ani...</td>\n",
       "      <td>Without plants, there would be no food, no ani...</td>\n",
       "      <td>the private life of plants this book reveals h...</td>\n",
       "    </tr>\n",
       "    <tr>\n",
       "      <th>...</th>\n",
       "      <td>...</td>\n",
       "      <td>...</td>\n",
       "      <td>...</td>\n",
       "      <td>...</td>\n",
       "      <td>...</td>\n",
       "      <td>...</td>\n",
       "      <td>...</td>\n",
       "      <td>...</td>\n",
       "      <td>...</td>\n",
       "      <td>...</td>\n",
       "      <td>...</td>\n",
       "      <td>...</td>\n",
       "      <td>...</td>\n",
       "      <td>...</td>\n",
       "    </tr>\n",
       "    <tr>\n",
       "      <th>314</th>\n",
       "      <td>314</td>\n",
       "      <td>Anathem</td>\n",
       "      <td>It is a science fiction novel by American writ...</td>\n",
       "      <td>['Neal Stephenson']</td>\n",
       "      <td>Harper Collins</td>\n",
       "      <td>2009-08-25</td>\n",
       "      <td>1008.0</td>\n",
       "      <td>['Fiction']</td>\n",
       "      <td>4.0</td>\n",
       "      <td>175.0</td>\n",
       "      <td>en</td>\n",
       "      <td>For ten years Fraa Erasmas, a young avout, has...</td>\n",
       "      <td>For ten years Fraa Erasmas, a young avout, ha...</td>\n",
       "      <td>anathem it is a science fiction novel by ameri...</td>\n",
       "    </tr>\n",
       "    <tr>\n",
       "      <th>315</th>\n",
       "      <td>315</td>\n",
       "      <td>Cloud Atlas</td>\n",
       "      <td>It is a work combining metafiction, historical...</td>\n",
       "      <td>['David Mitchell']</td>\n",
       "      <td>Vintage Canada</td>\n",
       "      <td>2010-07-16</td>\n",
       "      <td>528.0</td>\n",
       "      <td>['Fiction']</td>\n",
       "      <td>4.0</td>\n",
       "      <td>508.0</td>\n",
       "      <td>en</td>\n",
       "      <td>By the New York Times bestselling author of Th...</td>\n",
       "      <td>By the New York Times bestselling author of Th...</td>\n",
       "      <td>cloud atlas it is a work combining metafiction...</td>\n",
       "    </tr>\n",
       "    <tr>\n",
       "      <th>316</th>\n",
       "      <td>316</td>\n",
       "      <td>Watchmen</td>\n",
       "      <td>It is an American comic book maxiseries by Ala...</td>\n",
       "      <td>['Alan Moore', 'Dave Gibbons', 'John Higgins']</td>\n",
       "      <td>Dc Comics</td>\n",
       "      <td>1987</td>\n",
       "      <td>413.0</td>\n",
       "      <td>['Comics &amp; Graphic Novels']</td>\n",
       "      <td>4.0</td>\n",
       "      <td>3898.0</td>\n",
       "      <td>en</td>\n",
       "      <td>As former members of a disbanded group of supe...</td>\n",
       "      <td>\"Following two generations of masked superhero...</td>\n",
       "      <td>watchmen it is an american comic book maxiseri...</td>\n",
       "    </tr>\n",
       "    <tr>\n",
       "      <th>317</th>\n",
       "      <td>317</td>\n",
       "      <td>Matterhorn</td>\n",
       "      <td>An incredible publishing story written over th...</td>\n",
       "      <td>['Karl Marlantes']</td>\n",
       "      <td>Grove/Atlantic, Inc.</td>\n",
       "      <td>2010-04-01</td>\n",
       "      <td>592.0</td>\n",
       "      <td>['Fiction']</td>\n",
       "      <td>4.5</td>\n",
       "      <td>93.0</td>\n",
       "      <td>en</td>\n",
       "      <td>Intense, powerful, and compelling, Matterhorn ...</td>\n",
       "      <td>Intense, powerful, and compelling, Matterhorn ...</td>\n",
       "      <td>matterhorn an incredible publishing story writ...</td>\n",
       "    </tr>\n",
       "    <tr>\n",
       "      <th>318</th>\n",
       "      <td>318</td>\n",
       "      <td>The Ascent of Money</td>\n",
       "      <td>It takes us on a historical adventure through ...</td>\n",
       "      <td>['Niall Ferguson']</td>\n",
       "      <td>Penguin</td>\n",
       "      <td>2008-11-13</td>\n",
       "      <td>496.0</td>\n",
       "      <td>['History']</td>\n",
       "      <td>4.5</td>\n",
       "      <td>5.0</td>\n",
       "      <td>en</td>\n",
       "      <td>The 10th anniversary edition, with new chapter...</td>\n",
       "      <td>The 10th anniversary edition, with new chapter...</td>\n",
       "      <td>the ascent of money it takes us on a historica...</td>\n",
       "    </tr>\n",
       "  </tbody>\n",
       "</table>\n",
       "<p>319 rows × 14 columns</p>\n",
       "</div>"
      ],
      "text/plain": [
       "     book_id                            book_name  \\\n",
       "0          0  Charles Laughton: A Difficult Actor   \n",
       "1          1                   Gone with the Wind   \n",
       "2          2                             Hayvadan   \n",
       "3          3               The London Jungle Book   \n",
       "4          4           The Private Life of Plants   \n",
       "..       ...                                  ...   \n",
       "314      314                              Anathem   \n",
       "315      315                          Cloud Atlas   \n",
       "316      316                             Watchmen   \n",
       "317      317                           Matterhorn   \n",
       "318      318                  The Ascent of Money   \n",
       "\n",
       "                      book_description_from_chalchitra  \\\n",
       "0    This is the fullest biography yet on the actor...   \n",
       "1             A historical novel by Margaret Mitchell.   \n",
       "2    It is based on Kathasaritsagara and Thomas Man...   \n",
       "3                  A visual travelogue by Bhajju Shyam   \n",
       "4    This book reveals hidden events and phenomena ...   \n",
       "..                                                 ...   \n",
       "314  It is a science fiction novel by American writ...   \n",
       "315  It is a work combining metafiction, historical...   \n",
       "316  It is an American comic book maxiseries by Ala...   \n",
       "317  An incredible publishing story written over th...   \n",
       "318  It takes us on a historical adventure through ...   \n",
       "\n",
       "                                               authors  \\\n",
       "0                                     ['Simon Callow']   \n",
       "1                                ['Margaret Mitchell']   \n",
       "2                                    ['Girish Karnad']   \n",
       "3    ['Bhajju Shyam', 'Sirish Rao', 'Gita Wolf-Samp...   \n",
       "4                               ['David Attenborough']   \n",
       "..                                                 ...   \n",
       "314                                ['Neal Stephenson']   \n",
       "315                                 ['David Mitchell']   \n",
       "316     ['Alan Moore', 'Dave Gibbons', 'John Higgins']   \n",
       "317                                 ['Karl Marlantes']   \n",
       "318                                 ['Niall Ferguson']   \n",
       "\n",
       "                  publisher publishedDate  pageCount  \\\n",
       "0       Fromm International          1997      318.0   \n",
       "1              Random House    2020-01-02     1072.0   \n",
       "2    Radhakrishna Prakashan    2021-07-29      132.0   \n",
       "3           Tara Publishing          2004       48.0   \n",
       "4                   Unknown          1995      320.0   \n",
       "..                      ...           ...        ...   \n",
       "314          Harper Collins    2009-08-25     1008.0   \n",
       "315          Vintage Canada    2010-07-16      528.0   \n",
       "316               Dc Comics          1987      413.0   \n",
       "317    Grove/Atlantic, Inc.    2010-04-01      592.0   \n",
       "318                 Penguin    2008-11-13      496.0   \n",
       "\n",
       "                        categories  averageRating  ratingsCount language  \\\n",
       "0    ['Biography & Autobiography']            4.0           0.0       en   \n",
       "1                      ['Fiction']            4.5           5.0       en   \n",
       "2                          Unknown            4.0           0.0       hi   \n",
       "3                          ['Art']            5.0           1.0       en   \n",
       "4                       ['Botany']            4.0           3.0       en   \n",
       "..                             ...            ...           ...      ...   \n",
       "314                    ['Fiction']            4.0         175.0       en   \n",
       "315                    ['Fiction']            4.0         508.0       en   \n",
       "316    ['Comics & Graphic Novels']            4.0        3898.0       en   \n",
       "317                    ['Fiction']            4.5          93.0       en   \n",
       "318                    ['History']            4.5           5.0       en   \n",
       "\n",
       "                                           description  \\\n",
       "0                                                        \n",
       "1    'My dear, I don't give a damn.' Margaret Mitch...   \n",
       "2                                                        \n",
       "3    Bhajju Shyam, of the Gond tribe of central Ind...   \n",
       "4    Without plants, there would be no food, no ani...   \n",
       "..                                                 ...   \n",
       "314  For ten years Fraa Erasmas, a young avout, has...   \n",
       "315  By the New York Times bestselling author of Th...   \n",
       "316  As former members of a disbanded group of supe...   \n",
       "317  Intense, powerful, and compelling, Matterhorn ...   \n",
       "318  The 10th anniversary edition, with new chapter...   \n",
       "\n",
       "                                              synopsis  \\\n",
       "0                                                        \n",
       "1    'My dear, I don't give a damn.'\\n\\nMargaret Mi...   \n",
       "2                                                        \n",
       "3    “A beautiful book. I would like to give it to ...   \n",
       "4    Without plants, there would be no food, no ani...   \n",
       "..                                                 ...   \n",
       "314   For ten years Fraa Erasmas, a young avout, ha...   \n",
       "315  By the New York Times bestselling author of Th...   \n",
       "316  \"Following two generations of masked superhero...   \n",
       "317  Intense, powerful, and compelling, Matterhorn ...   \n",
       "318  The 10th anniversary edition, with new chapter...   \n",
       "\n",
       "                                      content_features  \n",
       "0    charles laughton: a difficult actor this is th...  \n",
       "1    gone with the wind a historical novel by marga...  \n",
       "2    hayvadan it is based on kathasaritsagara and t...  \n",
       "3    the london jungle book a visual travelogue by ...  \n",
       "4    the private life of plants this book reveals h...  \n",
       "..                                                 ...  \n",
       "314  anathem it is a science fiction novel by ameri...  \n",
       "315  cloud atlas it is a work combining metafiction...  \n",
       "316  watchmen it is an american comic book maxiseri...  \n",
       "317  matterhorn an incredible publishing story writ...  \n",
       "318  the ascent of money it takes us on a historica...  \n",
       "\n",
       "[319 rows x 14 columns]"
      ]
     },
     "execution_count": 21,
     "metadata": {},
     "output_type": "execute_result"
    }
   ],
   "source": [
    "books_df"
   ]
  },
  {
   "cell_type": "markdown",
   "id": "c0268251",
   "metadata": {
    "papermill": {
     "duration": 0.019254,
     "end_time": "2025-05-21T06:18:13.008599",
     "exception": false,
     "start_time": "2025-05-21T06:18:12.989345",
     "status": "completed"
    },
    "tags": []
   },
   "source": [
    "#### Add Implicit Rating"
   ]
  },
  {
   "cell_type": "code",
   "execution_count": 22,
   "id": "ec1d059a",
   "metadata": {
    "execution": {
     "iopub.execute_input": "2025-05-21T06:18:13.048929Z",
     "iopub.status.busy": "2025-05-21T06:18:13.048576Z",
     "iopub.status.idle": "2025-05-21T06:18:13.059525Z",
     "shell.execute_reply": "2025-05-21T06:18:13.058530Z"
    },
    "papermill": {
     "duration": 0.033223,
     "end_time": "2025-05-21T06:18:13.061099",
     "exception": false,
     "start_time": "2025-05-21T06:18:13.027876",
     "status": "completed"
    },
    "tags": []
   },
   "outputs": [
    {
     "data": {
      "text/html": [
       "<div>\n",
       "<style scoped>\n",
       "    .dataframe tbody tr th:only-of-type {\n",
       "        vertical-align: middle;\n",
       "    }\n",
       "\n",
       "    .dataframe tbody tr th {\n",
       "        vertical-align: top;\n",
       "    }\n",
       "\n",
       "    .dataframe thead th {\n",
       "        text-align: right;\n",
       "    }\n",
       "</style>\n",
       "<table border=\"1\" class=\"dataframe\">\n",
       "  <thead>\n",
       "    <tr style=\"text-align: right;\">\n",
       "      <th></th>\n",
       "      <th>book_id</th>\n",
       "      <th>guest_id</th>\n",
       "      <th>rating</th>\n",
       "    </tr>\n",
       "  </thead>\n",
       "  <tbody>\n",
       "    <tr>\n",
       "      <th>0</th>\n",
       "      <td>0</td>\n",
       "      <td>0</td>\n",
       "      <td>1</td>\n",
       "    </tr>\n",
       "    <tr>\n",
       "      <th>1</th>\n",
       "      <td>1</td>\n",
       "      <td>0</td>\n",
       "      <td>1</td>\n",
       "    </tr>\n",
       "    <tr>\n",
       "      <th>2</th>\n",
       "      <td>2</td>\n",
       "      <td>0</td>\n",
       "      <td>1</td>\n",
       "    </tr>\n",
       "    <tr>\n",
       "      <th>3</th>\n",
       "      <td>3</td>\n",
       "      <td>0</td>\n",
       "      <td>1</td>\n",
       "    </tr>\n",
       "    <tr>\n",
       "      <th>4</th>\n",
       "      <td>4</td>\n",
       "      <td>0</td>\n",
       "      <td>1</td>\n",
       "    </tr>\n",
       "    <tr>\n",
       "      <th>...</th>\n",
       "      <td>...</td>\n",
       "      <td>...</td>\n",
       "      <td>...</td>\n",
       "    </tr>\n",
       "    <tr>\n",
       "      <th>330</th>\n",
       "      <td>91</td>\n",
       "      <td>27</td>\n",
       "      <td>1</td>\n",
       "    </tr>\n",
       "    <tr>\n",
       "      <th>331</th>\n",
       "      <td>315</td>\n",
       "      <td>27</td>\n",
       "      <td>1</td>\n",
       "    </tr>\n",
       "    <tr>\n",
       "      <th>332</th>\n",
       "      <td>316</td>\n",
       "      <td>27</td>\n",
       "      <td>1</td>\n",
       "    </tr>\n",
       "    <tr>\n",
       "      <th>333</th>\n",
       "      <td>317</td>\n",
       "      <td>27</td>\n",
       "      <td>1</td>\n",
       "    </tr>\n",
       "    <tr>\n",
       "      <th>334</th>\n",
       "      <td>318</td>\n",
       "      <td>27</td>\n",
       "      <td>1</td>\n",
       "    </tr>\n",
       "  </tbody>\n",
       "</table>\n",
       "<p>335 rows × 3 columns</p>\n",
       "</div>"
      ],
      "text/plain": [
       "     book_id  guest_id  rating\n",
       "0          0         0       1\n",
       "1          1         0       1\n",
       "2          2         0       1\n",
       "3          3         0       1\n",
       "4          4         0       1\n",
       "..       ...       ...     ...\n",
       "330       91        27       1\n",
       "331      315        27       1\n",
       "332      316        27       1\n",
       "333      317        27       1\n",
       "334      318        27       1\n",
       "\n",
       "[335 rows x 3 columns]"
      ]
     },
     "execution_count": 22,
     "metadata": {},
     "output_type": "execute_result"
    }
   ],
   "source": [
    "if not recommendations_df.empty:\n",
    "    recommendations_df['rating'] = 1\n",
    "\n",
    "recommendations_df"
   ]
  },
  {
   "cell_type": "markdown",
   "id": "de595009",
   "metadata": {
    "papermill": {
     "duration": 0.019077,
     "end_time": "2025-05-21T06:18:13.100970",
     "exception": false,
     "start_time": "2025-05-21T06:18:13.081893",
     "status": "completed"
    },
    "tags": []
   },
   "source": [
    "## Modelling"
   ]
  },
  {
   "cell_type": "markdown",
   "id": "ac30d4dc",
   "metadata": {
    "papermill": {
     "duration": 0.018536,
     "end_time": "2025-05-21T06:18:13.138420",
     "exception": false,
     "start_time": "2025-05-21T06:18:13.119884",
     "status": "completed"
    },
    "tags": []
   },
   "source": [
    "### Content-Based Filtering"
   ]
  },
  {
   "cell_type": "markdown",
   "id": "31cc6983",
   "metadata": {
    "papermill": {
     "duration": 0.019081,
     "end_time": "2025-05-21T06:18:13.176675",
     "exception": false,
     "start_time": "2025-05-21T06:18:13.157594",
     "status": "completed"
    },
    "tags": []
   },
   "source": [
    "#### TF-IDF"
   ]
  },
  {
   "cell_type": "code",
   "execution_count": 23,
   "id": "2785c254",
   "metadata": {
    "execution": {
     "iopub.execute_input": "2025-05-21T06:18:13.219006Z",
     "iopub.status.busy": "2025-05-21T06:18:13.218367Z",
     "iopub.status.idle": "2025-05-21T06:18:13.609137Z",
     "shell.execute_reply": "2025-05-21T06:18:13.607825Z"
    },
    "papermill": {
     "duration": 0.413219,
     "end_time": "2025-05-21T06:18:13.610728",
     "exception": false,
     "start_time": "2025-05-21T06:18:13.197509",
     "status": "completed"
    },
    "tags": []
   },
   "outputs": [
    {
     "name": "stdout",
     "output_type": "stream",
     "text": [
      "Membangun model Content-Based Filtering...\n"
     ]
    }
   ],
   "source": [
    "from sklearn.feature_extraction.text import TfidfVectorizer\n",
    "from sklearn.metrics.pairwise import cosine_similarity\n",
    "\n",
    "cosine_sim_books = None\n",
    "book_indices = None\n",
    "\n",
    "if not books_df.empty and 'content_features' in books_df.columns and not books_df['content_features'].dropna().empty:\n",
    "    print(\"Membangun model Content-Based Filtering...\")\n",
    "    try:\n",
    "        tfidf_vectorizer = TfidfVectorizer(stop_words='english', max_df=0.85, min_df=2)\n",
    "        tfidf_matrix = tfidf_vectorizer.fit_transform(books_df['content_features'].dropna())\n",
    "\n",
    "        if tfidf_matrix.shape[0] > 0:\n",
    "            cosine_sim_books = cosine_similarity(tfidf_matrix, tfidf_matrix)\n",
    "            books_df_for_indices = books_df.dropna(subset=['book_name', 'content_features']).reset_index(drop=True)\n",
    "            if not books_df_for_indices.empty:\n",
    "                 book_indices = pd.Series(books_df_for_indices.index, index=books_df_for_indices['book_name']).drop_duplicates()\n",
    "            else:\n",
    "                print(\"Tidak ada buku yang valid untuk membuat book_indices pada Content-Based.\")\n",
    "        else:\n",
    "            print(\"Matriks TF-IDF kosong, tidak bisa menghitung cosine similarity.\")\n",
    "            \n",
    "    except Exception as e:\n",
    "        print(f\"Error saat membangun model Content-Based: {e}\")\n",
    "else:\n",
    "    print(\"Skipping Content-Based Filtering: books_df tidak siap atau kolom 'content_features' kosong/NaN semua.\")"
   ]
  },
  {
   "cell_type": "markdown",
   "id": "98777e19",
   "metadata": {
    "papermill": {
     "duration": 0.018666,
     "end_time": "2025-05-21T06:18:13.649062",
     "exception": false,
     "start_time": "2025-05-21T06:18:13.630396",
     "status": "completed"
    },
    "tags": []
   },
   "source": [
    "#### Recommendation Method"
   ]
  },
  {
   "cell_type": "code",
   "execution_count": 24,
   "id": "97688429",
   "metadata": {
    "execution": {
     "iopub.execute_input": "2025-05-21T06:18:13.688981Z",
     "iopub.status.busy": "2025-05-21T06:18:13.687836Z",
     "iopub.status.idle": "2025-05-21T06:18:13.696857Z",
     "shell.execute_reply": "2025-05-21T06:18:13.695889Z"
    },
    "papermill": {
     "duration": 0.030441,
     "end_time": "2025-05-21T06:18:13.698433",
     "exception": false,
     "start_time": "2025-05-21T06:18:13.667992",
     "status": "completed"
    },
    "tags": []
   },
   "outputs": [],
   "source": [
    "def get_content_based_recommendations(book_title, num_recommendations=5):\n",
    "    \"\"\"Memberikan rekomendasi buku berdasarkan kemiripan konten.\"\"\"\n",
    "    if cosine_sim_books is None or book_indices is None or book_indices.empty:\n",
    "        return \"Model Content-Based belum siap atau tidak ada data.\"\n",
    "    if book_title not in book_indices:\n",
    "        # Coba cari judul yang mirip jika ada typo kecil (opsional, bisa kompleks)\n",
    "        # from difflib import get_close_matches\n",
    "        # close_matches = get_close_matches(book_title, book_indices.index)\n",
    "        # if close_matches:\n",
    "        #     return f\"Buku '{book_title}' tidak ditemukan. Mungkin maksud Anda: {close_matches[0]}?\"\n",
    "        return f\"Buku '{book_title}' tidak ditemukan dalam indeks buku.\"\n",
    "\n",
    "    idx = book_indices[book_title]\n",
    "    \n",
    "    # Pastikan idx valid untuk cosine_sim_books\n",
    "    if idx >= cosine_sim_books.shape[0]:\n",
    "        return f\"Indeks buku '{book_title}' di luar jangkauan matriks similaritas.\"\n",
    "\n",
    "    sim_scores = list(enumerate(cosine_sim_books[idx]))\n",
    "    sim_scores = sorted(sim_scores, key=lambda x: x[1], reverse=True)\n",
    "    sim_scores = sim_scores[1:num_recommendations+1]\n",
    "    book_rec_indices = [i[0] for i in sim_scores]\n",
    "\n",
    "    # Menggunakan DataFrame yang digunakan untuk membuat book_indices\n",
    "    # (books_df_for_indices dari blok training model CB)\n",
    "    # Jika book_indices dibuat dari books_df asli, maka gunakan books_df.iloc\n",
    "    # Ini ASUMSI book_indices dibuat dari books_df_for_indices yang sudah di-reset indexnya\n",
    "    if 'books_df_for_indices' in globals() and not books_df_for_indices.empty:\n",
    "         recommended_books = books_df_for_indices['book_name'].iloc[book_rec_indices]\n",
    "    elif not books_df.empty: # Fallback jika books_df_for_indices tidak terdefinisi dengan baik\n",
    "        # Ini mungkin tidak akurat jika ada dropna pada content_features\n",
    "        print(\"Peringatan: Menggunakan books_df.iloc untuk rekomendasi CB, indeks mungkin tidak sinkron jika ada NaN di content_features.\")\n",
    "        # Pastikan book_rec_indices valid untuk books_df\n",
    "        valid_rec_indices = [i for i in book_rec_indices if i < len(books_df)]\n",
    "        recommended_books = books_df['book_name'].iloc[valid_rec_indices]\n",
    "    else:\n",
    "        return \"DataFrame buku tidak tersedia untuk mengambil nama buku.\"\n",
    "\n",
    "    return recommended_books"
   ]
  },
  {
   "cell_type": "markdown",
   "id": "d76e2ddd",
   "metadata": {
    "papermill": {
     "duration": 0.018767,
     "end_time": "2025-05-21T06:18:13.736411",
     "exception": false,
     "start_time": "2025-05-21T06:18:13.717644",
     "status": "completed"
    },
    "tags": []
   },
   "source": [
    "#### Example"
   ]
  },
  {
   "cell_type": "code",
   "execution_count": 25,
   "id": "9f57a07b",
   "metadata": {
    "execution": {
     "iopub.execute_input": "2025-05-21T06:18:13.776366Z",
     "iopub.status.busy": "2025-05-21T06:18:13.776054Z",
     "iopub.status.idle": "2025-05-21T06:18:13.785251Z",
     "shell.execute_reply": "2025-05-21T06:18:13.784169Z"
    },
    "papermill": {
     "duration": 0.030772,
     "end_time": "2025-05-21T06:18:13.786659",
     "exception": false,
     "start_time": "2025-05-21T06:18:13.755887",
     "status": "completed"
    },
    "tags": []
   },
   "outputs": [
    {
     "name": "stdout",
     "output_type": "stream",
     "text": [
      "\n",
      "--- Rekomendasi Content-Based untuk 'The Complete Hitchiker Series' ---\n",
      "189    Pandeymonium: Piyush Pandey On Advertising\n",
      "195                          Bill Bernbach's Book\n",
      "194                    Hey, Whipple, Squeeze This\n",
      "Name: book_name, dtype: object\n"
     ]
    }
   ],
   "source": [
    "# Contoh penggunaan Content-Based Recommendation\n",
    "if not books_df.empty and 'book_name' in books_df.columns and len(books_df['book_name'].dropna()) > 1 and book_indices is not None and not book_indices.empty:\n",
    "    try:\n",
    "        sample_book_title_cb = book_indices.index.to_series().sample(1).iloc[0]\n",
    "        print(f\"\\n--- Rekomendasi Content-Based untuk '{sample_book_title_cb}' ---\")\n",
    "        recommendations_cb = get_content_based_recommendations(sample_book_title_cb, num_recommendations=3)\n",
    "        if isinstance(recommendations_cb, str):\n",
    "             print(recommendations_cb)\n",
    "        elif not recommendations_cb.empty:\n",
    "            print(recommendations_cb)\n",
    "        else:\n",
    "            print(\"Tidak ada rekomendasi content-based yang dapat dibuat.\")\n",
    "    except Exception as e:\n",
    "        print(f\"Error saat mengambil contoh rekomendasi Content-Based: {e}\")\n",
    "else:\n",
    "    print(\"Skipping contoh Content-Based: 'book_name' column missing, tidak cukup buku, atau model belum siap.\")\n"
   ]
  },
  {
   "cell_type": "markdown",
   "id": "e561331c",
   "metadata": {
    "papermill": {
     "duration": 0.018994,
     "end_time": "2025-05-21T06:18:13.825337",
     "exception": false,
     "start_time": "2025-05-21T06:18:13.806343",
     "status": "completed"
    },
    "tags": []
   },
   "source": [
    "### Collaborative Filtering"
   ]
  },
  {
   "cell_type": "markdown",
   "id": "3ccba676",
   "metadata": {
    "papermill": {
     "duration": 0.019136,
     "end_time": "2025-05-21T06:18:13.863630",
     "exception": false,
     "start_time": "2025-05-21T06:18:13.844494",
     "status": "completed"
    },
    "tags": []
   },
   "source": [
    "CF > Model-Based > Matrix Factorization"
   ]
  },
  {
   "cell_type": "markdown",
   "id": "12a13735",
   "metadata": {
    "papermill": {
     "duration": 0.018775,
     "end_time": "2025-05-21T06:18:13.901586",
     "exception": false,
     "start_time": "2025-05-21T06:18:13.882811",
     "status": "completed"
    },
    "tags": []
   },
   "source": [
    "#### Single Value Decomposition (SVD)"
   ]
  },
  {
   "cell_type": "code",
   "execution_count": 26,
   "id": "534fa2bc",
   "metadata": {
    "execution": {
     "iopub.execute_input": "2025-05-21T06:18:13.942378Z",
     "iopub.status.busy": "2025-05-21T06:18:13.942096Z",
     "iopub.status.idle": "2025-05-21T06:18:14.021114Z",
     "shell.execute_reply": "2025-05-21T06:18:14.020066Z"
    },
    "papermill": {
     "duration": 0.10195,
     "end_time": "2025-05-21T06:18:14.022774",
     "exception": false,
     "start_time": "2025-05-21T06:18:13.920824",
     "status": "completed"
    },
    "tags": []
   },
   "outputs": [
    {
     "name": "stdout",
     "output_type": "stream",
     "text": [
      "\n",
      "Membangun model Collaborative Filtering (SVD)...\n",
      "Model SVD berhasil dilatih.\n"
     ]
    }
   ],
   "source": [
    "from surprise import Dataset, Reader, SVD\n",
    "from surprise.model_selection import cross_validate\n",
    "\n",
    "SURPRISE_AVAILABLE = True\n",
    "algo_svd = None\n",
    "\n",
    "if SURPRISE_AVAILABLE and not recommendations_df.empty and \\\n",
    "   all(col in recommendations_df.columns for col in ['guest_id', 'book_id', 'rating']) and \\\n",
    "   len(recommendations_df) > 1: \n",
    "    print(\"\\nMembangun model Collaborative Filtering (SVD)...\")\n",
    "    try:\n",
    "        reader = Reader(rating_scale=(0, 1))\n",
    "        data_cf = Dataset.load_from_df(recommendations_df[['guest_id', 'book_id', 'rating']], reader)\n",
    "        trainset_full = data_cf.build_full_trainset()\n",
    "\n",
    "        algo_svd = SVD(n_factors=50, n_epochs=20, random_state=42, verbose=False)\n",
    "        algo_svd.fit(trainset_full)\n",
    "        print(\"Model SVD berhasil dilatih.\")\n",
    "    except Exception as e:\n",
    "        print(f\"Error saat membangun model SVD: {e}\")\n",
    "        algo_svd = None \n",
    "else:\n",
    "    if SURPRISE_AVAILABLE:\n",
    "        print(\"Skipping Collaborative Filtering: recommendations_df tidak siap, kosong, atau kurang dari 2 interaksi.\")"
   ]
  },
  {
   "cell_type": "markdown",
   "id": "cfd6fce5",
   "metadata": {
    "papermill": {
     "duration": 0.01945,
     "end_time": "2025-05-21T06:18:14.062051",
     "exception": false,
     "start_time": "2025-05-21T06:18:14.042601",
     "status": "completed"
    },
    "tags": []
   },
   "source": [
    "#### Recommendation Method"
   ]
  },
  {
   "cell_type": "code",
   "execution_count": 27,
   "id": "79046a91",
   "metadata": {
    "execution": {
     "iopub.execute_input": "2025-05-21T06:18:14.102774Z",
     "iopub.status.busy": "2025-05-21T06:18:14.102252Z",
     "iopub.status.idle": "2025-05-21T06:18:14.110927Z",
     "shell.execute_reply": "2025-05-21T06:18:14.109991Z"
    },
    "papermill": {
     "duration": 0.031143,
     "end_time": "2025-05-21T06:18:14.112477",
     "exception": false,
     "start_time": "2025-05-21T06:18:14.081334",
     "status": "completed"
    },
    "tags": []
   },
   "outputs": [],
   "source": [
    "def get_collaborative_filtering_recommendations(guest_id_input, algo, n_recs=5):\n",
    "    \"\"\"Memberikan rekomendasi buku untuk seorang tamu menggunakan model CF.\"\"\"\n",
    "    if algo is None:\n",
    "        return \"Model Collaborative Filtering belum siap.\"\n",
    "    if not 'book_id' in recommendations_df or not 'guest_id' in recommendations_df:\n",
    "        return \"Kolom 'book_id' atau 'guest_id' tidak ada di recommendations_df.\"\n",
    "\n",
    "    try:\n",
    "        # Konversi guest_id_input ke tipe data yang sama dengan di trainset (biasanya string atau int)\n",
    "        # algo.trainset.to_inner_uid(guest_id_input) # Ini akan error jika guest_id tidak ada\n",
    "        # Cek dulu apakah guest_id ada di trainset\n",
    "        try:\n",
    "            _ = algo.trainset.to_inner_uid(guest_id_input)\n",
    "        except ValueError:\n",
    "            return f\"Guest ID '{guest_id_input}' tidak ditemukan dalam training set model CF.\"\n",
    "\n",
    "        all_book_ids_in_model = [algo.trainset.to_raw_iid(inner_id) for inner_id in algo.trainset.all_items()]\n",
    "        guest_recommended_books_raw_ids = recommendations_df[recommendations_df['guest_id'] == guest_id_input]['book_id'].unique()\n",
    "\n",
    "        books_to_predict = np.setdiff1d(all_book_ids_in_model, guest_recommended_books_raw_ids)\n",
    "\n",
    "        if not books_to_predict.any():\n",
    "            return \"Tamu ini sudah merekomendasikan semua buku yang ada di model, atau tidak ada buku baru untuk direkomendasikan.\"\n",
    "\n",
    "        test_data_for_guest = [(guest_id_input, book_id, 0) for book_id in books_to_predict]\n",
    "        if not test_data_for_guest: # Jika tidak ada buku lagi untuk diprediksi setelah filtering\n",
    "            return \"Tidak ada buku lagi yang dapat diprediksi untuk tamu ini.\"\n",
    "\n",
    "        predictions = algo.test(test_data_for_guest)\n",
    "        predictions.sort(key=lambda x: x.est, reverse=True)\n",
    "\n",
    "        recommended_book_ids = [pred.iid for pred in predictions[:n_recs]]\n",
    "\n",
    "        if not books_df.empty and 'book_id' in books_df.columns and 'book_name' in books_df.columns:\n",
    "            recommended_book_names = books_df[books_df['book_id'].isin(recommended_book_ids)][['book_id', 'book_name']]\n",
    "            # Urutkan berdasarkan urutan di recommended_book_ids\n",
    "            recommended_book_names = recommended_book_names.set_index('book_id').loc[recommended_book_ids].reset_index()['book_name']\n",
    "            return recommended_book_names\n",
    "        else:\n",
    "            return pd.Series(recommended_book_ids, name=\"book_id\") # Kembalikan ID jika books_df tidak tersedia\n",
    "    except Exception as e:\n",
    "        return f\"Error saat mendapatkan rekomendasi CF: {e}\""
   ]
  },
  {
   "cell_type": "markdown",
   "id": "e1d133a9",
   "metadata": {
    "papermill": {
     "duration": 0.019554,
     "end_time": "2025-05-21T06:18:14.151160",
     "exception": false,
     "start_time": "2025-05-21T06:18:14.131606",
     "status": "completed"
    },
    "tags": []
   },
   "source": [
    "#### Example"
   ]
  },
  {
   "cell_type": "code",
   "execution_count": 28,
   "id": "c4069b31",
   "metadata": {
    "execution": {
     "iopub.execute_input": "2025-05-21T06:18:14.191981Z",
     "iopub.status.busy": "2025-05-21T06:18:14.191645Z",
     "iopub.status.idle": "2025-05-21T06:18:14.209281Z",
     "shell.execute_reply": "2025-05-21T06:18:14.208290Z"
    },
    "papermill": {
     "duration": 0.039799,
     "end_time": "2025-05-21T06:18:14.210872",
     "exception": false,
     "start_time": "2025-05-21T06:18:14.171073",
     "status": "completed"
    },
    "tags": []
   },
   "outputs": [
    {
     "name": "stdout",
     "output_type": "stream",
     "text": [
      "\n",
      "--- Rekomendasi Collaborative Filtering (SVD) untuk Guest ID '24' ---\n",
      "0    Orson Welles: The Road to Xanadu\n",
      "1                  The Scenes We Made\n",
      "2                Caesar and Cleopatra\n",
      "Name: book_name, dtype: object\n"
     ]
    }
   ],
   "source": [
    "if algo_svd is not None and not guests_df.empty and 'guest_id' in guests_df.columns and \\\n",
    "   not recommendations_df.empty and 'guest_id' in recommendations_df.columns and \\\n",
    "   len(recommendations_df['guest_id'].unique()) > 0:\n",
    "    try:\n",
    "        # Dapatkan semua inner user IDs dari trainset\n",
    "        all_inner_user_ids = list(algo_svd.trainset.all_users())\n",
    "\n",
    "        if all_inner_user_ids:\n",
    "            # Konversi inner user IDs kembali ke raw user IDs\n",
    "            available_guest_ids_in_model = [algo_svd.trainset.to_raw_uid(inner_id) for inner_id in all_inner_user_ids]\n",
    "\n",
    "            if available_guest_ids_in_model:\n",
    "                sample_guest_id_cf = np.random.choice(available_guest_ids_in_model)\n",
    "                print(f\"\\n--- Rekomendasi Collaborative Filtering (SVD) untuk Guest ID '{sample_guest_id_cf}' ---\")\n",
    "                recommendations_svd = get_collaborative_filtering_recommendations(sample_guest_id_cf, algo_svd, n_recs=3)\n",
    "                if isinstance(recommendations_svd, str):\n",
    "                    print(recommendations_svd)\n",
    "                elif recommendations_svd is not None and not recommendations_svd.empty: # Tambahkan pengecekan None\n",
    "                    print(recommendations_svd)\n",
    "                else:\n",
    "                    print(\"Tidak ada rekomendasi collaborative filtering yang dapat dibuat (kemungkinan hasil kosong atau None).\")\n",
    "            else:\n",
    "                print(\"Tidak ada guest ID mentah yang valid di model CF setelah konversi.\")\n",
    "        else:\n",
    "            print(\"Tidak ada user ID (inner) di model CF untuk dijadikan sampel.\")\n",
    "    except Exception as e:\n",
    "        print(f\"Error saat mengambil contoh rekomendasi Collaborative Filtering: {e}\")\n",
    "else:\n",
    "    print(\"Skipping contoh Collaborative Filtering: model SVD belum siap atau data tidak cukup.\")"
   ]
  },
  {
   "cell_type": "markdown",
   "id": "6ebb01df",
   "metadata": {
    "papermill": {
     "duration": 0.019092,
     "end_time": "2025-05-21T06:18:14.249092",
     "exception": false,
     "start_time": "2025-05-21T06:18:14.230000",
     "status": "completed"
    },
    "tags": []
   },
   "source": [
    "## Evaluation"
   ]
  },
  {
   "cell_type": "code",
   "execution_count": 29,
   "id": "f4669a82",
   "metadata": {
    "execution": {
     "iopub.execute_input": "2025-05-21T06:18:14.288140Z",
     "iopub.status.busy": "2025-05-21T06:18:14.287805Z",
     "iopub.status.idle": "2025-05-21T06:18:14.307954Z",
     "shell.execute_reply": "2025-05-21T06:18:14.306797Z"
    },
    "papermill": {
     "duration": 0.04145,
     "end_time": "2025-05-21T06:18:14.309433",
     "exception": false,
     "start_time": "2025-05-21T06:18:14.267983",
     "status": "completed"
    },
    "tags": []
   },
   "outputs": [
    {
     "name": "stdout",
     "output_type": "stream",
     "text": [
      "\n",
      "Hasil Cross-Validation SVD:\n",
      "Rata-rata RMSE: 0.0136\n",
      "Rata-rata MAE: 0.0053\n"
     ]
    }
   ],
   "source": [
    "if SURPRISE_AVAILABLE and algo_svd is not None and not recommendations_df.empty and \\\n",
    "   all(col in recommendations_df.columns for col in ['guest_id', 'book_id', 'rating']) and \\\n",
    "   len(recommendations_df) > 1:\n",
    "    try:\n",
    "        reader_eval = Reader(rating_scale=(0, 1))\n",
    "        data_cf_eval = Dataset.load_from_df(recommendations_df[['guest_id', 'book_id', 'rating']], reader_eval)\n",
    "        algo_svd_eval = SVD(n_factors=50, n_epochs=20, random_state=42, verbose=False)\n",
    "        cv_results = cross_validate(algo_svd_eval, data_cf_eval, measures=['RMSE', 'MAE'], cv=3, verbose=False)\n",
    "        print(\"\\nHasil Cross-Validation SVD:\")\n",
    "        print(f\"Rata-rata RMSE: {cv_results['test_rmse'].mean():.4f}\")\n",
    "        print(f\"Rata-rata MAE: {cv_results['test_mae'].mean():.4f}\")\n",
    "    except Exception as e:\n",
    "        print(f\"Error saat melakukan cross-validation: {e}\")\n",
    "else:\n",
    "    if SURPRISE_AVAILABLE:\n",
    "        print(\"Skipping Evaluasi CF: model SVD belum siap atau data tidak cukup.\")"
   ]
  }
 ],
 "metadata": {
  "kaggle": {
   "accelerator": "none",
   "dataSources": [
    {
     "datasetId": 1930141,
     "sourceId": 3176295,
     "sourceType": "datasetVersion"
    }
   ],
   "dockerImageVersionId": 31040,
   "isGpuEnabled": false,
   "isInternetEnabled": true,
   "language": "python",
   "sourceType": "notebook"
  },
  "kernelspec": {
   "display_name": "Python 3",
   "language": "python",
   "name": "python3"
  },
  "language_info": {
   "codemirror_mode": {
    "name": "ipython",
    "version": 3
   },
   "file_extension": ".py",
   "mimetype": "text/x-python",
   "name": "python",
   "nbconvert_exporter": "python",
   "pygments_lexer": "ipython3",
   "version": "3.11.11"
  },
  "papermill": {
   "default_parameters": {},
   "duration": 15.009857,
   "end_time": "2025-05-21T06:18:15.048861",
   "environment_variables": {},
   "exception": null,
   "input_path": "__notebook__.ipynb",
   "output_path": "__notebook__.ipynb",
   "parameters": {},
   "start_time": "2025-05-21T06:18:00.039004",
   "version": "2.6.0"
  }
 },
 "nbformat": 4,
 "nbformat_minor": 5
}
