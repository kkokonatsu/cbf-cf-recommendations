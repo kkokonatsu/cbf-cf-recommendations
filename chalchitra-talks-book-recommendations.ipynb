{
 "cells": [
  {
   "cell_type": "markdown",
   "id": "60ecb47b",
   "metadata": {
    "papermill": {
     "duration": 0.0058,
     "end_time": "2025-05-21T03:53:28.580599",
     "exception": false,
     "start_time": "2025-05-21T03:53:28.574799",
     "status": "completed"
    },
    "tags": []
   },
   "source": [
    "# Chalchitra Talks Book Recommendations"
   ]
  },
  {
   "cell_type": "markdown",
   "id": "b79b55e6",
   "metadata": {
    "papermill": {
     "duration": 0.004552,
     "end_time": "2025-05-21T03:53:28.590273",
     "exception": false,
     "start_time": "2025-05-21T03:53:28.585721",
     "status": "completed"
    },
    "tags": []
   },
   "source": [
    "## Library/Package Import"
   ]
  },
  {
   "cell_type": "code",
   "execution_count": 1,
   "id": "052456b0",
   "metadata": {
    "_cell_guid": "b1076dfc-b9ad-4769-8c92-a6c4dae69d19",
    "_uuid": "8f2839f25d086af736a60e9eeb907d3b93b6e0e5",
    "execution": {
     "iopub.execute_input": "2025-05-21T03:53:28.600699Z",
     "iopub.status.busy": "2025-05-21T03:53:28.600488Z",
     "iopub.status.idle": "2025-05-21T03:53:30.034097Z",
     "shell.execute_reply": "2025-05-21T03:53:30.033202Z"
    },
    "papermill": {
     "duration": 1.440244,
     "end_time": "2025-05-21T03:53:30.035397",
     "exception": false,
     "start_time": "2025-05-21T03:53:28.595153",
     "status": "completed"
    },
    "tags": []
   },
   "outputs": [
    {
     "name": "stdout",
     "output_type": "stream",
     "text": [
      "/kaggle/input/chalchitra-talks-book-recommendations/guests.csv\n",
      "/kaggle/input/chalchitra-talks-book-recommendations/books.csv\n",
      "/kaggle/input/chalchitra-talks-book-recommendations/recommendations.csv\n"
     ]
    }
   ],
   "source": [
    "import numpy as np \n",
    "import pandas as pd \n",
    "import os\n",
    "\n",
    "for dirname, _, filenames in os.walk('/kaggle/input'):\n",
    "    for filename in filenames:\n",
    "        print(os.path.join(dirname, filename))"
   ]
  },
  {
   "cell_type": "markdown",
   "id": "cd4010cd",
   "metadata": {
    "papermill": {
     "duration": 0.005117,
     "end_time": "2025-05-21T03:53:30.045982",
     "exception": false,
     "start_time": "2025-05-21T03:53:30.040865",
     "status": "completed"
    },
    "tags": []
   },
   "source": [
    "## Business Understanding"
   ]
  },
  {
   "cell_type": "markdown",
   "id": "803de53d",
   "metadata": {
    "papermill": {
     "duration": 0.004623,
     "end_time": "2025-05-21T03:53:30.055510",
     "exception": false,
     "start_time": "2025-05-21T03:53:30.050887",
     "status": "completed"
    },
    "tags": []
   },
   "source": [
    "**Tujuan**\n",
    "\n",
    "Membuat sistem yang dapat merekomendasikan buku kepada pengguna (dalam konteks ini, \"pengguna\" bisa jadi adalah tamu lain, atau audiens Chalchitra Talks yang mencari rekomendasi).\n",
    "Menyediakan dua jenis rekomendasi:\n",
    "- **Content-Based Filtering**: Merekomendasikan buku berdasarkan kemiripan konten buku (deskripsi, genre, penulis) dengan buku yang disukai atau direkomendasikan sebelumnya.\n",
    "- **Collaborative Filtering**: Merekomendasikan buku berdasarkan pola rekomendasi dari para tamu (misalnya, jika Tamu A dan Tamu B menyukai buku yang sama, buku lain yang disukai Tamu A mungkin juga disukai Tamu B).\n",
    "\n",
    "**Target Keberhasilan**\n",
    "\n",
    "Kemampuan sistem menghasilkan rekomendasi yang relevan.\n",
    "Peningkatan engagement (misalnya, jika ini platform online, jumlah klik pada buku yang direkomendasikan).\n",
    "Untuk evaluasi offline, kita bisa menggunakan metrik seperti presisi, recall, atau RMSE jika kita memodelkannya sebagai prediksi rating."
   ]
  },
  {
   "cell_type": "markdown",
   "id": "58e263c3",
   "metadata": {
    "papermill": {
     "duration": 0.004591,
     "end_time": "2025-05-21T03:53:30.065155",
     "exception": false,
     "start_time": "2025-05-21T03:53:30.060564",
     "status": "completed"
    },
    "tags": []
   },
   "source": [
    "## Data Understanding"
   ]
  },
  {
   "cell_type": "markdown",
   "id": "8c6e899f",
   "metadata": {
    "papermill": {
     "duration": 0.004555,
     "end_time": "2025-05-21T03:53:30.074409",
     "exception": false,
     "start_time": "2025-05-21T03:53:30.069854",
     "status": "completed"
    },
    "tags": []
   },
   "source": [
    "### Data Loading"
   ]
  },
  {
   "cell_type": "code",
   "execution_count": 2,
   "id": "3061a752",
   "metadata": {
    "execution": {
     "iopub.execute_input": "2025-05-21T03:53:30.084790Z",
     "iopub.status.busy": "2025-05-21T03:53:30.084471Z",
     "iopub.status.idle": "2025-05-21T03:53:30.087729Z",
     "shell.execute_reply": "2025-05-21T03:53:30.087066Z"
    },
    "papermill": {
     "duration": 0.009787,
     "end_time": "2025-05-21T03:53:30.088889",
     "exception": false,
     "start_time": "2025-05-21T03:53:30.079102",
     "status": "completed"
    },
    "tags": []
   },
   "outputs": [],
   "source": [
    "# import os\n",
    "# print(f\"Current Working Directory: {os.getcwd()}\")"
   ]
  },
  {
   "cell_type": "code",
   "execution_count": 3,
   "id": "17f9a3b9",
   "metadata": {
    "execution": {
     "iopub.execute_input": "2025-05-21T03:53:30.099380Z",
     "iopub.status.busy": "2025-05-21T03:53:30.099030Z",
     "iopub.status.idle": "2025-05-21T03:53:30.158605Z",
     "shell.execute_reply": "2025-05-21T03:53:30.157844Z"
    },
    "papermill": {
     "duration": 0.066028,
     "end_time": "2025-05-21T03:53:30.159775",
     "exception": false,
     "start_time": "2025-05-21T03:53:30.093747",
     "status": "completed"
    },
    "tags": []
   },
   "outputs": [
    {
     "name": "stdout",
     "output_type": "stream",
     "text": [
      "File berhasil dimuat!\n"
     ]
    }
   ],
   "source": [
    "try:\n",
    "    guests_df = pd.read_csv('/kaggle/input/chalchitra-talks-book-recommendations/guests.csv')\n",
    "    books_df = pd.read_csv('/kaggle/input/chalchitra-talks-book-recommendations/books.csv')\n",
    "    recommendations_df = pd.read_csv('/kaggle/input/chalchitra-talks-book-recommendations/recommendations.csv')\n",
    "    print(\"File berhasil dimuat!\")\n",
    "except FileNotFoundError as e:\n",
    "    print(f\"Error: File tidak ditemukan. {e}\")\n",
    "    print(\"Periksa kembali nama dataset di Kaggle dan pastikan path sudah benar.\")\n",
    "    print(\"Path yang diharapkan: /kaggle/input/NAMA-DATASET-ANDA-DI-KAGGLE/nama_file.csv\")"
   ]
  },
  {
   "cell_type": "markdown",
   "id": "bf57974b",
   "metadata": {
    "papermill": {
     "duration": 0.004634,
     "end_time": "2025-05-21T03:53:30.169501",
     "exception": false,
     "start_time": "2025-05-21T03:53:30.164867",
     "status": "completed"
    },
    "tags": []
   },
   "source": [
    "### Data Inspection"
   ]
  },
  {
   "cell_type": "markdown",
   "id": "0e4d9295",
   "metadata": {
    "papermill": {
     "duration": 0.004509,
     "end_time": "2025-05-21T03:53:30.178737",
     "exception": false,
     "start_time": "2025-05-21T03:53:30.174228",
     "status": "completed"
    },
    "tags": []
   },
   "source": [
    "#### Guest Data"
   ]
  },
  {
   "cell_type": "code",
   "execution_count": 4,
   "id": "0df6e4a9",
   "metadata": {
    "execution": {
     "iopub.execute_input": "2025-05-21T03:53:30.189566Z",
     "iopub.status.busy": "2025-05-21T03:53:30.189337Z",
     "iopub.status.idle": "2025-05-21T03:53:30.231419Z",
     "shell.execute_reply": "2025-05-21T03:53:30.230684Z"
    },
    "papermill": {
     "duration": 0.049035,
     "end_time": "2025-05-21T03:53:30.232836",
     "exception": false,
     "start_time": "2025-05-21T03:53:30.183801",
     "status": "completed"
    },
    "tags": []
   },
   "outputs": [
    {
     "name": "stdout",
     "output_type": "stream",
     "text": [
      "   guest_id         guest_name guest_profession_or_org  \\\n",
      "0         0  Ratna Pathak Shah                   Actor   \n",
      "1         1        Peter Gould               Filmmaker   \n",
      "2         2      Ashish Shakya                Comedian   \n",
      "3         3    Gulshan Devaiah                   Actor   \n",
      "4         4      Nikhil Taneja                   Yuvaa   \n",
      "\n",
      "                                          guest_info  \\\n",
      "0  Ratna Pathak Shah is an actress and director b...   \n",
      "1  Peter Gould is an American television writer, ...   \n",
      "2  Ashish is an Indian comedian, writer, actor, p...   \n",
      "3  Gulshan Devaiah is an Indian actor who appears...   \n",
      "4  Nikhil Taneja is a Mumbai-based entrepreneur, ...   \n",
      "\n",
      "                                    guest_page_url  \n",
      "0  https://www.chalchitratalks.com/ratnapathakshah  \n",
      "1       https://www.chalchitratalks.com/petergould  \n",
      "2     https://www.chalchitratalks.com/ashishshakya  \n",
      "3   https://www.chalchitratalks.com/gulshandevaiah  \n",
      "4     https://www.chalchitratalks.com/nikhiltaneja  \n",
      "\n",
      "Info:\n",
      "<class 'pandas.core.frame.DataFrame'>\n",
      "RangeIndex: 28 entries, 0 to 27\n",
      "Data columns (total 5 columns):\n",
      " #   Column                   Non-Null Count  Dtype \n",
      "---  ------                   --------------  ----- \n",
      " 0   guest_id                 28 non-null     int64 \n",
      " 1   guest_name               28 non-null     object\n",
      " 2   guest_profession_or_org  28 non-null     object\n",
      " 3   guest_info               28 non-null     object\n",
      " 4   guest_page_url           28 non-null     object\n",
      "dtypes: int64(1), object(4)\n",
      "memory usage: 1.2+ KB\n",
      "\n",
      "Descriptive Statistics:\n",
      "         guest_id         guest_name guest_profession_or_org  \\\n",
      "count   28.000000                 28                      28   \n",
      "unique        NaN                 28                       9   \n",
      "top           NaN  Ratna Pathak Shah                   Actor   \n",
      "freq          NaN                  1                       6   \n",
      "mean    13.500000                NaN                     NaN   \n",
      "std      8.225975                NaN                     NaN   \n",
      "min      0.000000                NaN                     NaN   \n",
      "25%      6.750000                NaN                     NaN   \n",
      "50%     13.500000                NaN                     NaN   \n",
      "75%     20.250000                NaN                     NaN   \n",
      "max     27.000000                NaN                     NaN   \n",
      "\n",
      "                                               guest_info  \\\n",
      "count                                                  28   \n",
      "unique                                                 28   \n",
      "top     Ratna Pathak Shah is an actress and director b...   \n",
      "freq                                                    1   \n",
      "mean                                                  NaN   \n",
      "std                                                   NaN   \n",
      "min                                                   NaN   \n",
      "25%                                                   NaN   \n",
      "50%                                                   NaN   \n",
      "75%                                                   NaN   \n",
      "max                                                   NaN   \n",
      "\n",
      "                                         guest_page_url  \n",
      "count                                                28  \n",
      "unique                                               28  \n",
      "top     https://www.chalchitratalks.com/ratnapathakshah  \n",
      "freq                                                  1  \n",
      "mean                                                NaN  \n",
      "std                                                 NaN  \n",
      "min                                                 NaN  \n",
      "25%                                                 NaN  \n",
      "50%                                                 NaN  \n",
      "75%                                                 NaN  \n",
      "max                                                 NaN  \n",
      "\n",
      "Unique Values:\n",
      "guest_id                   28\n",
      "guest_name                 28\n",
      "guest_profession_or_org     9\n",
      "guest_info                 28\n",
      "guest_page_url             28\n",
      "dtype: int64\n",
      "\\Missing values:\n",
      "guest_id                   0\n",
      "guest_name                 0\n",
      "guest_profession_or_org    0\n",
      "guest_info                 0\n",
      "guest_page_url             0\n",
      "dtype: int64\n"
     ]
    },
    {
     "name": "stderr",
     "output_type": "stream",
     "text": [
      "/usr/local/lib/python3.11/dist-packages/pandas/io/formats/format.py:1458: RuntimeWarning: invalid value encountered in greater\n",
      "  has_large_values = (abs_vals > 1e6).any()\n",
      "/usr/local/lib/python3.11/dist-packages/pandas/io/formats/format.py:1459: RuntimeWarning: invalid value encountered in less\n",
      "  has_small_values = ((abs_vals < 10 ** (-self.digits)) & (abs_vals > 0)).any()\n",
      "/usr/local/lib/python3.11/dist-packages/pandas/io/formats/format.py:1459: RuntimeWarning: invalid value encountered in greater\n",
      "  has_small_values = ((abs_vals < 10 ** (-self.digits)) & (abs_vals > 0)).any()\n"
     ]
    }
   ],
   "source": [
    "if not guests_df.empty:\n",
    "    print(guests_df.head())\n",
    "    print(\"\\nInfo:\")\n",
    "    guests_df.info()\n",
    "    print(\"\\nDescriptive Statistics:\")\n",
    "    print(guests_df.describe(include='all'))\n",
    "    print(\"\\nUnique Values:\")\n",
    "    print(guests_df.nunique())\n",
    "    print(\"\\Missing values:\")\n",
    "    print(guests_df.isnull().sum())\n",
    "else:\n",
    "    print(\"guests_df kosong atau tidak dapat dimuat.\")"
   ]
  },
  {
   "cell_type": "markdown",
   "id": "f782f410",
   "metadata": {
    "papermill": {
     "duration": 0.00477,
     "end_time": "2025-05-21T03:53:30.242799",
     "exception": false,
     "start_time": "2025-05-21T03:53:30.238029",
     "status": "completed"
    },
    "tags": []
   },
   "source": [
    "#### Books Data"
   ]
  },
  {
   "cell_type": "code",
   "execution_count": 5,
   "id": "c20a224a",
   "metadata": {
    "execution": {
     "iopub.execute_input": "2025-05-21T03:53:30.253391Z",
     "iopub.status.busy": "2025-05-21T03:53:30.253175Z",
     "iopub.status.idle": "2025-05-21T03:53:30.287000Z",
     "shell.execute_reply": "2025-05-21T03:53:30.285317Z"
    },
    "papermill": {
     "duration": 0.040482,
     "end_time": "2025-05-21T03:53:30.288196",
     "exception": false,
     "start_time": "2025-05-21T03:53:30.247714",
     "status": "completed"
    },
    "tags": []
   },
   "outputs": [
    {
     "name": "stdout",
     "output_type": "stream",
     "text": [
      "   book_id                            book_name  \\\n",
      "0        0  Charles Laughton: A Difficult Actor   \n",
      "1        1                   Gone with the Wind   \n",
      "2        2                             Hayvadan   \n",
      "3        3               The London Jungle Book   \n",
      "4        4           The Private Life of Plants   \n",
      "\n",
      "                    book_description_from_chalchitra  \\\n",
      "0  This is the fullest biography yet on the actor...   \n",
      "1           A historical novel by Margaret Mitchell.   \n",
      "2  It is based on Kathasaritsagara and Thomas Man...   \n",
      "3                A visual travelogue by Bhajju Shyam   \n",
      "4  This book reveals hidden events and phenomena ...   \n",
      "\n",
      "                                             authors               publisher  \\\n",
      "0                                   ['Simon Callow']     Fromm International   \n",
      "1                              ['Margaret Mitchell']            Random House   \n",
      "2                                  ['Girish Karnad']  Radhakrishna Prakashan   \n",
      "3  ['Bhajju Shyam', 'Sirish Rao', 'Gita Wolf-Samp...         Tara Publishing   \n",
      "4                             ['David Attenborough']                     NaN   \n",
      "\n",
      "  publishedDate  pageCount                     categories  averageRating  \\\n",
      "0          1997      318.0  ['Biography & Autobiography']            NaN   \n",
      "1    2020-01-02     1072.0                    ['Fiction']            4.5   \n",
      "2    2021-07-29      132.0                            NaN            NaN   \n",
      "3          2004       48.0                        ['Art']            5.0   \n",
      "4          1995      320.0                     ['Botany']            4.0   \n",
      "\n",
      "   ratingsCount language                                        description  \\\n",
      "0           NaN       en                                                NaN   \n",
      "1           5.0       en  'My dear, I don't give a damn.' Margaret Mitch...   \n",
      "2           NaN       hi                                                NaN   \n",
      "3           1.0       en  Bhajju Shyam, of the Gond tribe of central Ind...   \n",
      "4           3.0       en  Without plants, there would be no food, no ani...   \n",
      "\n",
      "                                            synopsis  \n",
      "0                                                NaN  \n",
      "1  'My dear, I don't give a damn.'\\n\\nMargaret Mi...  \n",
      "2                                                NaN  \n",
      "3  “A beautiful book. I would like to give it to ...  \n",
      "4  Without plants, there would be no food, no ani...  \n",
      "\n",
      "Info:\n",
      "<class 'pandas.core.frame.DataFrame'>\n",
      "RangeIndex: 319 entries, 0 to 318\n",
      "Data columns (total 13 columns):\n",
      " #   Column                            Non-Null Count  Dtype  \n",
      "---  ------                            --------------  -----  \n",
      " 0   book_id                           319 non-null    int64  \n",
      " 1   book_name                         319 non-null    object \n",
      " 2   book_description_from_chalchitra  319 non-null    object \n",
      " 3   authors                           308 non-null    object \n",
      " 4   publisher                         278 non-null    object \n",
      " 5   publishedDate                     311 non-null    object \n",
      " 6   pageCount                         290 non-null    float64\n",
      " 7   categories                        294 non-null    object \n",
      " 8   averageRating                     212 non-null    float64\n",
      " 9   ratingsCount                      212 non-null    float64\n",
      " 10  language                          313 non-null    object \n",
      " 11  description                       281 non-null    object \n",
      " 12  synopsis                          287 non-null    object \n",
      "dtypes: float64(3), int64(1), object(9)\n",
      "memory usage: 32.5+ KB\n",
      "\n",
      "Deskripsi Statistik:\n",
      "           book_id            book_name book_description_from_chalchitra  \\\n",
      "count   319.000000                  319                              319   \n",
      "unique         NaN                  319                              306   \n",
      "top            NaN  The Ascent of Money                                ​   \n",
      "freq           NaN                    1                               12   \n",
      "mean    159.000000                  NaN                              NaN   \n",
      "std      92.231593                  NaN                              NaN   \n",
      "min       0.000000                  NaN                              NaN   \n",
      "25%      79.500000                  NaN                              NaN   \n",
      "50%     159.000000                  NaN                              NaN   \n",
      "75%     238.500000                  NaN                              NaN   \n",
      "max     318.000000                  NaN                              NaN   \n",
      "\n",
      "                authors publisher publishedDate    pageCount   categories  \\\n",
      "count               308       278           311   290.000000          294   \n",
      "unique              267       159           251          NaN           73   \n",
      "top     ['Neil Gaiman']   Penguin          2017          NaN  ['Fiction']   \n",
      "freq                  5        23             6          NaN          101   \n",
      "mean                NaN       NaN           NaN   349.417241          NaN   \n",
      "std                 NaN       NaN           NaN   205.388808          NaN   \n",
      "min                 NaN       NaN           NaN    24.000000          NaN   \n",
      "25%                 NaN       NaN           NaN   220.250000          NaN   \n",
      "50%                 NaN       NaN           NaN   320.000000          NaN   \n",
      "75%                 NaN       NaN           NaN   432.000000          NaN   \n",
      "max                 NaN       NaN           NaN  1368.000000          NaN   \n",
      "\n",
      "        averageRating  ratingsCount language  \\\n",
      "count      212.000000    212.000000      313   \n",
      "unique            NaN           NaN        3   \n",
      "top               NaN           NaN       en   \n",
      "freq              NaN           NaN      309   \n",
      "mean         3.849057    353.820755      NaN   \n",
      "std          0.705999    885.116136      NaN   \n",
      "min          1.000000      1.000000      NaN   \n",
      "25%          3.500000      4.000000      NaN   \n",
      "50%          4.000000     22.500000      NaN   \n",
      "75%          4.000000    116.000000      NaN   \n",
      "max          5.000000   3972.000000      NaN   \n",
      "\n",
      "                                              description  \\\n",
      "count                                                 281   \n",
      "unique                                                273   \n",
      "top     The birth of Jesus has been well chronicled, a...   \n",
      "freq                                                    2   \n",
      "mean                                                  NaN   \n",
      "std                                                   NaN   \n",
      "min                                                   NaN   \n",
      "25%                                                   NaN   \n",
      "50%                                                   NaN   \n",
      "75%                                                   NaN   \n",
      "max                                                   NaN   \n",
      "\n",
      "                                                 synopsis  \n",
      "count                                                 287  \n",
      "unique                                                276  \n",
      "top     You will be able to read this book on the web ...  \n",
      "freq                                                    5  \n",
      "mean                                                  NaN  \n",
      "std                                                   NaN  \n",
      "min                                                   NaN  \n",
      "25%                                                   NaN  \n",
      "50%                                                   NaN  \n",
      "75%                                                   NaN  \n",
      "max                                                   NaN  \n",
      "\n",
      "Jumlah nilai unik per kolom:\n",
      "book_id                             319\n",
      "book_name                           319\n",
      "book_description_from_chalchitra    306\n",
      "authors                             267\n",
      "publisher                           159\n",
      "publishedDate                       251\n",
      "pageCount                           135\n",
      "categories                           73\n",
      "averageRating                         8\n",
      "ratingsCount                        108\n",
      "language                              3\n",
      "description                         273\n",
      "synopsis                            276\n",
      "dtype: int64\n",
      "\n",
      "Nilai yang hilang (missing values):\n",
      "book_id                               0\n",
      "book_name                             0\n",
      "book_description_from_chalchitra      0\n",
      "authors                              11\n",
      "publisher                            41\n",
      "publishedDate                         8\n",
      "pageCount                            29\n",
      "categories                           25\n",
      "averageRating                       107\n",
      "ratingsCount                        107\n",
      "language                              6\n",
      "description                          38\n",
      "synopsis                             32\n",
      "dtype: int64\n"
     ]
    },
    {
     "name": "stderr",
     "output_type": "stream",
     "text": [
      "/usr/local/lib/python3.11/dist-packages/pandas/io/formats/format.py:1458: RuntimeWarning: invalid value encountered in greater\n",
      "  has_large_values = (abs_vals > 1e6).any()\n",
      "/usr/local/lib/python3.11/dist-packages/pandas/io/formats/format.py:1459: RuntimeWarning: invalid value encountered in less\n",
      "  has_small_values = ((abs_vals < 10 ** (-self.digits)) & (abs_vals > 0)).any()\n",
      "/usr/local/lib/python3.11/dist-packages/pandas/io/formats/format.py:1459: RuntimeWarning: invalid value encountered in greater\n",
      "  has_small_values = ((abs_vals < 10 ** (-self.digits)) & (abs_vals > 0)).any()\n",
      "/usr/local/lib/python3.11/dist-packages/pandas/io/formats/format.py:1458: RuntimeWarning: invalid value encountered in greater\n",
      "  has_large_values = (abs_vals > 1e6).any()\n",
      "/usr/local/lib/python3.11/dist-packages/pandas/io/formats/format.py:1459: RuntimeWarning: invalid value encountered in less\n",
      "  has_small_values = ((abs_vals < 10 ** (-self.digits)) & (abs_vals > 0)).any()\n",
      "/usr/local/lib/python3.11/dist-packages/pandas/io/formats/format.py:1459: RuntimeWarning: invalid value encountered in greater\n",
      "  has_small_values = ((abs_vals < 10 ** (-self.digits)) & (abs_vals > 0)).any()\n"
     ]
    }
   ],
   "source": [
    "if not books_df.empty:\n",
    "    print(books_df.head())\n",
    "    print(\"\\nInfo:\")\n",
    "    books_df.info()\n",
    "    print(\"\\nDeskripsi Statistik:\")\n",
    "    print(books_df.describe(include='all'))\n",
    "    print(\"\\nJumlah nilai unik per kolom:\")\n",
    "    print(books_df.nunique())\n",
    "    print(\"\\nNilai yang hilang (missing values):\")\n",
    "    print(books_df.isnull().sum())\n",
    "else:\n",
    "    print(\"books_df kosong atau tidak dapat dimuat.\")"
   ]
  },
  {
   "cell_type": "markdown",
   "id": "e12d055e",
   "metadata": {
    "papermill": {
     "duration": 0.005219,
     "end_time": "2025-05-21T03:53:30.299394",
     "exception": false,
     "start_time": "2025-05-21T03:53:30.294175",
     "status": "completed"
    },
    "tags": []
   },
   "source": [
    "#### Guest-Books Data"
   ]
  },
  {
   "cell_type": "code",
   "execution_count": 6,
   "id": "21198da1",
   "metadata": {
    "execution": {
     "iopub.execute_input": "2025-05-21T03:53:30.310783Z",
     "iopub.status.busy": "2025-05-21T03:53:30.310599Z",
     "iopub.status.idle": "2025-05-21T03:53:30.319985Z",
     "shell.execute_reply": "2025-05-21T03:53:30.319287Z"
    },
    "papermill": {
     "duration": 0.016375,
     "end_time": "2025-05-21T03:53:30.321060",
     "exception": false,
     "start_time": "2025-05-21T03:53:30.304685",
     "status": "completed"
    },
    "tags": []
   },
   "outputs": [
    {
     "name": "stdout",
     "output_type": "stream",
     "text": [
      "   book_id  guest_id\n",
      "0        0         0\n",
      "1        1         0\n",
      "2        2         0\n",
      "3        3         0\n",
      "4        4         0\n",
      "\n",
      "Info:\n",
      "<class 'pandas.core.frame.DataFrame'>\n",
      "RangeIndex: 335 entries, 0 to 334\n",
      "Data columns (total 2 columns):\n",
      " #   Column    Non-Null Count  Dtype\n",
      "---  ------    --------------  -----\n",
      " 0   book_id   335 non-null    int64\n",
      " 1   guest_id  335 non-null    int64\n",
      "dtypes: int64(2)\n",
      "memory usage: 5.4 KB\n",
      "\n",
      "Jumlah rekomendasi unik:\n",
      "335\n",
      "\n",
      "Jumlah tamu unik yang memberi rekomendasi:\n",
      "28\n",
      "\n",
      "Jumlah buku unik yang direkomendasikan:\n",
      "319\n",
      "\n",
      "Nilai yang hilang (missing values):\n",
      "book_id     0\n",
      "guest_id    0\n",
      "dtype: int64\n"
     ]
    }
   ],
   "source": [
    "if not recommendations_df.empty:\n",
    "    print(recommendations_df.head())\n",
    "    print(\"\\nInfo:\")\n",
    "    recommendations_df.info()\n",
    "    print(\"\\nJumlah rekomendasi unik:\")\n",
    "    print(len(recommendations_df))\n",
    "    print(\"\\nJumlah tamu unik yang memberi rekomendasi:\")\n",
    "    print(recommendations_df['guest_id'].nunique())\n",
    "    print(\"\\nJumlah buku unik yang direkomendasikan:\")\n",
    "    print(recommendations_df['book_id'].nunique())\n",
    "    print(\"\\nNilai yang hilang (missing values):\")\n",
    "    print(recommendations_df.isnull().sum())\n",
    "else:\n",
    "    print(\"recommendations_df kosong atau tidak dapat dimuat.\")"
   ]
  },
  {
   "cell_type": "code",
   "execution_count": 7,
   "id": "613ab7fe",
   "metadata": {
    "execution": {
     "iopub.execute_input": "2025-05-21T03:53:30.333041Z",
     "iopub.status.busy": "2025-05-21T03:53:30.332871Z",
     "iopub.status.idle": "2025-05-21T03:53:30.339191Z",
     "shell.execute_reply": "2025-05-21T03:53:30.338471Z"
    },
    "papermill": {
     "duration": 0.013349,
     "end_time": "2025-05-21T03:53:30.340190",
     "exception": false,
     "start_time": "2025-05-21T03:53:30.326841",
     "status": "completed"
    },
    "tags": []
   },
   "outputs": [
    {
     "name": "stdout",
     "output_type": "stream",
     "text": [
      "\n",
      "Distribusi jumlah rekomendasi per tamu:\n",
      "count    28.000000\n",
      "mean     11.964286\n",
      "std       8.582852\n",
      "min       2.000000\n",
      "25%       6.000000\n",
      "50%       8.500000\n",
      "75%      15.250000\n",
      "max      32.000000\n",
      "dtype: float64\n"
     ]
    }
   ],
   "source": [
    "if not recommendations_df.empty:\n",
    "    recommendations_per_guest = recommendations_df.groupby('guest_id').size()\n",
    "    print(\"\\nDistribusi jumlah rekomendasi per tamu:\")\n",
    "    print(recommendations_per_guest.describe())"
   ]
  },
  {
   "cell_type": "code",
   "execution_count": 8,
   "id": "25622c13",
   "metadata": {
    "execution": {
     "iopub.execute_input": "2025-05-21T03:53:30.351972Z",
     "iopub.status.busy": "2025-05-21T03:53:30.351782Z",
     "iopub.status.idle": "2025-05-21T03:53:30.356708Z",
     "shell.execute_reply": "2025-05-21T03:53:30.355925Z"
    },
    "papermill": {
     "duration": 0.011902,
     "end_time": "2025-05-21T03:53:30.357816",
     "exception": false,
     "start_time": "2025-05-21T03:53:30.345914",
     "status": "completed"
    },
    "tags": []
   },
   "outputs": [
    {
     "name": "stdout",
     "output_type": "stream",
     "text": [
      "\n",
      "Contoh kategori buku (perlu parsing jika formatnya kompleks):\n",
      "categories\n",
      "['Fiction']                      101\n",
      "['Biography & Autobiography']     24\n",
      "['Business & Economics']          22\n",
      "['History']                       12\n",
      "['Juvenile Fiction']              10\n",
      "['Comics & Graphic Novels']        8\n",
      "['Humor']                          8\n",
      "['Science']                        8\n",
      "['Performing Arts']                5\n",
      "['Young Adult Fiction']            5\n",
      "Name: count, dtype: int64\n"
     ]
    }
   ],
   "source": [
    "if not books_df.empty and 'categories' in books_df.columns:\n",
    "    print(\"\\nContoh kategori buku (perlu parsing jika formatnya kompleks):\")\n",
    "    print(books_df['categories'].value_counts().head(10))"
   ]
  },
  {
   "cell_type": "markdown",
   "id": "3ca19474",
   "metadata": {
    "papermill": {
     "duration": 0.005482,
     "end_time": "2025-05-21T03:53:30.368700",
     "exception": false,
     "start_time": "2025-05-21T03:53:30.363218",
     "status": "completed"
    },
    "tags": []
   },
   "source": [
    "## Data Preparation"
   ]
  },
  {
   "cell_type": "markdown",
   "id": "3eec2159",
   "metadata": {
    "papermill": {
     "duration": 0.005294,
     "end_time": "2025-05-21T03:53:30.379468",
     "exception": false,
     "start_time": "2025-05-21T03:53:30.374174",
     "status": "completed"
    },
    "tags": []
   },
   "source": [
    "## Missing Values"
   ]
  },
  {
   "cell_type": "code",
   "execution_count": 9,
   "id": "191d153f",
   "metadata": {
    "execution": {
     "iopub.execute_input": "2025-05-21T03:53:30.391385Z",
     "iopub.status.busy": "2025-05-21T03:53:30.390837Z",
     "iopub.status.idle": "2025-05-21T03:53:30.401930Z",
     "shell.execute_reply": "2025-05-21T03:53:30.401353Z"
    },
    "papermill": {
     "duration": 0.018101,
     "end_time": "2025-05-21T03:53:30.402985",
     "exception": false,
     "start_time": "2025-05-21T03:53:30.384884",
     "status": "completed"
    },
    "tags": []
   },
   "outputs": [
    {
     "name": "stdout",
     "output_type": "stream",
     "text": [
      "Fillna applied using for missing values.\n"
     ]
    }
   ],
   "source": [
    "if not books_df.empty:\n",
    "    books_df['book_description_from_chalchitra'] = books_df['book_description_from_chalchitra'].fillna('')\n",
    "    # For other text columns in books_df (assuming they exist based on previous context)\n",
    "    books_df['description'] = books_df['description'].fillna('')\n",
    "    books_df['synopsis'] = books_df['synopsis'].fillna('')\n",
    "    books_df['categories'] = books_df['categories'].fillna('Unknown')\n",
    "    books_df['authors'] = books_df['authors'].fillna('Unknown')\n",
    "    books_df['publisher'] = books_df['publisher'].fillna('Unknown')\n",
    "\n",
    "    if 'averageRating' in books_df.columns:\n",
    "        median_avg_rating = books_df['averageRating'].median() # Calculate median once\n",
    "        books_df['averageRating'] = books_df['averageRating'].fillna(median_avg_rating)\n",
    "    if 'ratingsCount' in books_df.columns:\n",
    "        books_df['ratingsCount'] = books_df['ratingsCount'].fillna(0) # Atau median\n",
    "    if 'pageCount' in books_df.columns:\n",
    "        median_page_count = books_df['pageCount'].median() # Calculate median once\n",
    "        books_df['pageCount'] = books_df['pageCount'].fillna(median_page_count)\n",
    "\n",
    "if not guests_df.empty:\n",
    "    guests_df['guest_profession_or_org'] = guests_df['guest_profession_or_org'].fillna('Unknown')\n",
    "    guests_df['guest_info'] = guests_df['guest_info'].fillna('')\n",
    "\n",
    "if not recommendations_df.empty:\n",
    "    if recommendations_df.isnull().values.any():\n",
    "        print(\"Menghapus baris dengan NaN di recommendations_df...\")\n",
    "        recommendations_df.dropna(inplace=True)\n",
    "        \n",
    "print(\"Fillna applied using for missing values.\")"
   ]
  },
  {
   "cell_type": "markdown",
   "id": "022655b7",
   "metadata": {
    "papermill": {
     "duration": 0.005383,
     "end_time": "2025-05-21T03:53:30.413969",
     "exception": false,
     "start_time": "2025-05-21T03:53:30.408586",
     "status": "completed"
    },
    "tags": []
   },
   "source": [
    "#### Feature Engineering"
   ]
  },
  {
   "cell_type": "code",
   "execution_count": 10,
   "id": "cc430f16",
   "metadata": {
    "execution": {
     "iopub.execute_input": "2025-05-21T03:53:30.425627Z",
     "iopub.status.busy": "2025-05-21T03:53:30.425391Z",
     "iopub.status.idle": "2025-05-21T03:53:30.484845Z",
     "shell.execute_reply": "2025-05-21T03:53:30.484115Z"
    },
    "papermill": {
     "duration": 0.066603,
     "end_time": "2025-05-21T03:53:30.485958",
     "exception": false,
     "start_time": "2025-05-21T03:53:30.419355",
     "status": "completed"
    },
    "tags": []
   },
   "outputs": [
    {
     "name": "stdout",
     "output_type": "stream",
     "text": [
      "\n",
      "Contoh content_features setelah perbaikan:\n",
      "                             book_name  \\\n",
      "0  Charles Laughton: A Difficult Actor   \n",
      "1                   Gone with the Wind   \n",
      "2                             Hayvadan   \n",
      "3               The London Jungle Book   \n",
      "4           The Private Life of Plants   \n",
      "\n",
      "                                    content_features  \n",
      "0  charles laughton: a difficult actor this is th...  \n",
      "1  gone with the wind a historical novel by marga...  \n",
      "2  hayvadan it is based on kathasaritsagara and t...  \n",
      "3  the london jungle book a visual travelogue by ...  \n",
      "4  the private life of plants this book reveals h...  \n"
     ]
    }
   ],
   "source": [
    "if not books_df.empty:\n",
    "    cols_for_content = {\n",
    "        'book_name': 'text',\n",
    "        'book_description_from_chalchitra': 'text',\n",
    "        'authors': 'list_like_text', \n",
    "        'categories': 'list_like_text',\n",
    "        'description': 'text',\n",
    "        'synopsis': 'text',\n",
    "        'publisher': 'text', \n",
    "        'language': 'text'  \n",
    "    }\n",
    "\n",
    "    books_df['content_features'] = ''\n",
    "\n",
    "    for col, col_type in cols_for_content.items():\n",
    "        if col in books_df.columns:\n",
    "            # Isi NaN dengan string kosong untuk kolom teks atau 'Unknown' untuk kategori jika perlu\n",
    "            # Untuk kolom yang akan diproses, pastikan semuanya string dulu\n",
    "            series_to_process = books_df[col].fillna('').astype(str)\n",
    "\n",
    "            if col_type == 'list_like_text':\n",
    "                # Membersihkan karakter list dan tanda kutip dari string\n",
    "                # Ini adalah asumsi umum, mungkin perlu disesuaikan jika format list berbeda\n",
    "                # Contoh: \"['Author A', 'Author B']\" -> \"Author A Author B\"\n",
    "                # Contoh: \"['Fiction']\" -> \"Fiction\"\n",
    "                processed_series = series_to_process.str.replace(r\"[\\[\\]',]\", '', regex=True)\n",
    "                # Hapus spasi berlebih yang mungkin muncul setelah replace\n",
    "                processed_series = processed_series.str.replace(r'\\s+', ' ', regex=True).str.strip()\n",
    "                books_df['content_features'] += processed_series + ' '\n",
    "            else: # col_type == 'text'\n",
    "                books_df['content_features'] += series_to_process + ' '\n",
    "        else:\n",
    "            print(f\"Peringatan: Kolom '{col}' tidak ditemukan di books_df untuk feature engineering.\")\n",
    "\n",
    "    # Hapus spasi berlebih di awal/akhir dan ubah ke lowercase\n",
    "    books_df['content_features'] = books_df['content_features'].str.strip().str.lower()\n",
    "    # Hapus spasi ganda yang mungkin terbentuk\n",
    "    books_df['content_features'] = books_df['content_features'].str.replace(r'\\s+', ' ', regex=True)\n",
    "\n",
    "    print(\"\\nContoh content_features setelah perbaikan:\")\n",
    "    if 'content_features' in books_df.columns and not books_df.empty:\n",
    "        print(books_df[['book_name', 'content_features']].head())\n",
    "    else:\n",
    "        print(\"Kolom 'content_features' tidak dapat dibuat atau books_df kosong.\")"
   ]
  },
  {
   "cell_type": "code",
   "execution_count": 11,
   "id": "616590b0",
   "metadata": {
    "execution": {
     "iopub.execute_input": "2025-05-21T03:53:30.498318Z",
     "iopub.status.busy": "2025-05-21T03:53:30.497803Z",
     "iopub.status.idle": "2025-05-21T03:53:30.519697Z",
     "shell.execute_reply": "2025-05-21T03:53:30.518989Z"
    },
    "papermill": {
     "duration": 0.028996,
     "end_time": "2025-05-21T03:53:30.520816",
     "exception": false,
     "start_time": "2025-05-21T03:53:30.491820",
     "status": "completed"
    },
    "tags": []
   },
   "outputs": [
    {
     "data": {
      "text/html": [
       "<div>\n",
       "<style scoped>\n",
       "    .dataframe tbody tr th:only-of-type {\n",
       "        vertical-align: middle;\n",
       "    }\n",
       "\n",
       "    .dataframe tbody tr th {\n",
       "        vertical-align: top;\n",
       "    }\n",
       "\n",
       "    .dataframe thead th {\n",
       "        text-align: right;\n",
       "    }\n",
       "</style>\n",
       "<table border=\"1\" class=\"dataframe\">\n",
       "  <thead>\n",
       "    <tr style=\"text-align: right;\">\n",
       "      <th></th>\n",
       "      <th>book_id</th>\n",
       "      <th>book_name</th>\n",
       "      <th>book_description_from_chalchitra</th>\n",
       "      <th>authors</th>\n",
       "      <th>publisher</th>\n",
       "      <th>publishedDate</th>\n",
       "      <th>pageCount</th>\n",
       "      <th>categories</th>\n",
       "      <th>averageRating</th>\n",
       "      <th>ratingsCount</th>\n",
       "      <th>language</th>\n",
       "      <th>description</th>\n",
       "      <th>synopsis</th>\n",
       "      <th>content_features</th>\n",
       "    </tr>\n",
       "  </thead>\n",
       "  <tbody>\n",
       "    <tr>\n",
       "      <th>0</th>\n",
       "      <td>0</td>\n",
       "      <td>Charles Laughton: A Difficult Actor</td>\n",
       "      <td>This is the fullest biography yet on the actor...</td>\n",
       "      <td>['Simon Callow']</td>\n",
       "      <td>Fromm International</td>\n",
       "      <td>1997</td>\n",
       "      <td>318.0</td>\n",
       "      <td>['Biography &amp; Autobiography']</td>\n",
       "      <td>4.0</td>\n",
       "      <td>0.0</td>\n",
       "      <td>en</td>\n",
       "      <td></td>\n",
       "      <td></td>\n",
       "      <td>charles laughton: a difficult actor this is th...</td>\n",
       "    </tr>\n",
       "    <tr>\n",
       "      <th>1</th>\n",
       "      <td>1</td>\n",
       "      <td>Gone with the Wind</td>\n",
       "      <td>A historical novel by Margaret Mitchell.</td>\n",
       "      <td>['Margaret Mitchell']</td>\n",
       "      <td>Random House</td>\n",
       "      <td>2020-01-02</td>\n",
       "      <td>1072.0</td>\n",
       "      <td>['Fiction']</td>\n",
       "      <td>4.5</td>\n",
       "      <td>5.0</td>\n",
       "      <td>en</td>\n",
       "      <td>'My dear, I don't give a damn.' Margaret Mitch...</td>\n",
       "      <td>'My dear, I don't give a damn.'\\n\\nMargaret Mi...</td>\n",
       "      <td>gone with the wind a historical novel by marga...</td>\n",
       "    </tr>\n",
       "    <tr>\n",
       "      <th>2</th>\n",
       "      <td>2</td>\n",
       "      <td>Hayvadan</td>\n",
       "      <td>It is based on Kathasaritsagara and Thomas Man...</td>\n",
       "      <td>['Girish Karnad']</td>\n",
       "      <td>Radhakrishna Prakashan</td>\n",
       "      <td>2021-07-29</td>\n",
       "      <td>132.0</td>\n",
       "      <td>Unknown</td>\n",
       "      <td>4.0</td>\n",
       "      <td>0.0</td>\n",
       "      <td>hi</td>\n",
       "      <td></td>\n",
       "      <td></td>\n",
       "      <td>hayvadan it is based on kathasaritsagara and t...</td>\n",
       "    </tr>\n",
       "    <tr>\n",
       "      <th>3</th>\n",
       "      <td>3</td>\n",
       "      <td>The London Jungle Book</td>\n",
       "      <td>A visual travelogue by Bhajju Shyam</td>\n",
       "      <td>['Bhajju Shyam', 'Sirish Rao', 'Gita Wolf-Samp...</td>\n",
       "      <td>Tara Publishing</td>\n",
       "      <td>2004</td>\n",
       "      <td>48.0</td>\n",
       "      <td>['Art']</td>\n",
       "      <td>5.0</td>\n",
       "      <td>1.0</td>\n",
       "      <td>en</td>\n",
       "      <td>Bhajju Shyam, of the Gond tribe of central Ind...</td>\n",
       "      <td>“A beautiful book. I would like to give it to ...</td>\n",
       "      <td>the london jungle book a visual travelogue by ...</td>\n",
       "    </tr>\n",
       "    <tr>\n",
       "      <th>4</th>\n",
       "      <td>4</td>\n",
       "      <td>The Private Life of Plants</td>\n",
       "      <td>This book reveals hidden events and phenomena ...</td>\n",
       "      <td>['David Attenborough']</td>\n",
       "      <td>Unknown</td>\n",
       "      <td>1995</td>\n",
       "      <td>320.0</td>\n",
       "      <td>['Botany']</td>\n",
       "      <td>4.0</td>\n",
       "      <td>3.0</td>\n",
       "      <td>en</td>\n",
       "      <td>Without plants, there would be no food, no ani...</td>\n",
       "      <td>Without plants, there would be no food, no ani...</td>\n",
       "      <td>the private life of plants this book reveals h...</td>\n",
       "    </tr>\n",
       "    <tr>\n",
       "      <th>...</th>\n",
       "      <td>...</td>\n",
       "      <td>...</td>\n",
       "      <td>...</td>\n",
       "      <td>...</td>\n",
       "      <td>...</td>\n",
       "      <td>...</td>\n",
       "      <td>...</td>\n",
       "      <td>...</td>\n",
       "      <td>...</td>\n",
       "      <td>...</td>\n",
       "      <td>...</td>\n",
       "      <td>...</td>\n",
       "      <td>...</td>\n",
       "      <td>...</td>\n",
       "    </tr>\n",
       "    <tr>\n",
       "      <th>314</th>\n",
       "      <td>314</td>\n",
       "      <td>Anathem</td>\n",
       "      <td>It is a science fiction novel by American writ...</td>\n",
       "      <td>['Neal Stephenson']</td>\n",
       "      <td>Harper Collins</td>\n",
       "      <td>2009-08-25</td>\n",
       "      <td>1008.0</td>\n",
       "      <td>['Fiction']</td>\n",
       "      <td>4.0</td>\n",
       "      <td>175.0</td>\n",
       "      <td>en</td>\n",
       "      <td>For ten years Fraa Erasmas, a young avout, has...</td>\n",
       "      <td>For ten years Fraa Erasmas, a young avout, ha...</td>\n",
       "      <td>anathem it is a science fiction novel by ameri...</td>\n",
       "    </tr>\n",
       "    <tr>\n",
       "      <th>315</th>\n",
       "      <td>315</td>\n",
       "      <td>Cloud Atlas</td>\n",
       "      <td>It is a work combining metafiction, historical...</td>\n",
       "      <td>['David Mitchell']</td>\n",
       "      <td>Vintage Canada</td>\n",
       "      <td>2010-07-16</td>\n",
       "      <td>528.0</td>\n",
       "      <td>['Fiction']</td>\n",
       "      <td>4.0</td>\n",
       "      <td>508.0</td>\n",
       "      <td>en</td>\n",
       "      <td>By the New York Times bestselling author of Th...</td>\n",
       "      <td>By the New York Times bestselling author of Th...</td>\n",
       "      <td>cloud atlas it is a work combining metafiction...</td>\n",
       "    </tr>\n",
       "    <tr>\n",
       "      <th>316</th>\n",
       "      <td>316</td>\n",
       "      <td>Watchmen</td>\n",
       "      <td>It is an American comic book maxiseries by Ala...</td>\n",
       "      <td>['Alan Moore', 'Dave Gibbons', 'John Higgins']</td>\n",
       "      <td>Dc Comics</td>\n",
       "      <td>1987</td>\n",
       "      <td>413.0</td>\n",
       "      <td>['Comics &amp; Graphic Novels']</td>\n",
       "      <td>4.0</td>\n",
       "      <td>3898.0</td>\n",
       "      <td>en</td>\n",
       "      <td>As former members of a disbanded group of supe...</td>\n",
       "      <td>\"Following two generations of masked superhero...</td>\n",
       "      <td>watchmen it is an american comic book maxiseri...</td>\n",
       "    </tr>\n",
       "    <tr>\n",
       "      <th>317</th>\n",
       "      <td>317</td>\n",
       "      <td>Matterhorn</td>\n",
       "      <td>An incredible publishing story written over th...</td>\n",
       "      <td>['Karl Marlantes']</td>\n",
       "      <td>Grove/Atlantic, Inc.</td>\n",
       "      <td>2010-04-01</td>\n",
       "      <td>592.0</td>\n",
       "      <td>['Fiction']</td>\n",
       "      <td>4.5</td>\n",
       "      <td>93.0</td>\n",
       "      <td>en</td>\n",
       "      <td>Intense, powerful, and compelling, Matterhorn ...</td>\n",
       "      <td>Intense, powerful, and compelling, Matterhorn ...</td>\n",
       "      <td>matterhorn an incredible publishing story writ...</td>\n",
       "    </tr>\n",
       "    <tr>\n",
       "      <th>318</th>\n",
       "      <td>318</td>\n",
       "      <td>The Ascent of Money</td>\n",
       "      <td>It takes us on a historical adventure through ...</td>\n",
       "      <td>['Niall Ferguson']</td>\n",
       "      <td>Penguin</td>\n",
       "      <td>2008-11-13</td>\n",
       "      <td>496.0</td>\n",
       "      <td>['History']</td>\n",
       "      <td>4.5</td>\n",
       "      <td>5.0</td>\n",
       "      <td>en</td>\n",
       "      <td>The 10th anniversary edition, with new chapter...</td>\n",
       "      <td>The 10th anniversary edition, with new chapter...</td>\n",
       "      <td>the ascent of money it takes us on a historica...</td>\n",
       "    </tr>\n",
       "  </tbody>\n",
       "</table>\n",
       "<p>319 rows × 14 columns</p>\n",
       "</div>"
      ],
      "text/plain": [
       "     book_id                            book_name  \\\n",
       "0          0  Charles Laughton: A Difficult Actor   \n",
       "1          1                   Gone with the Wind   \n",
       "2          2                             Hayvadan   \n",
       "3          3               The London Jungle Book   \n",
       "4          4           The Private Life of Plants   \n",
       "..       ...                                  ...   \n",
       "314      314                              Anathem   \n",
       "315      315                          Cloud Atlas   \n",
       "316      316                             Watchmen   \n",
       "317      317                           Matterhorn   \n",
       "318      318                  The Ascent of Money   \n",
       "\n",
       "                      book_description_from_chalchitra  \\\n",
       "0    This is the fullest biography yet on the actor...   \n",
       "1             A historical novel by Margaret Mitchell.   \n",
       "2    It is based on Kathasaritsagara and Thomas Man...   \n",
       "3                  A visual travelogue by Bhajju Shyam   \n",
       "4    This book reveals hidden events and phenomena ...   \n",
       "..                                                 ...   \n",
       "314  It is a science fiction novel by American writ...   \n",
       "315  It is a work combining metafiction, historical...   \n",
       "316  It is an American comic book maxiseries by Ala...   \n",
       "317  An incredible publishing story written over th...   \n",
       "318  It takes us on a historical adventure through ...   \n",
       "\n",
       "                                               authors  \\\n",
       "0                                     ['Simon Callow']   \n",
       "1                                ['Margaret Mitchell']   \n",
       "2                                    ['Girish Karnad']   \n",
       "3    ['Bhajju Shyam', 'Sirish Rao', 'Gita Wolf-Samp...   \n",
       "4                               ['David Attenborough']   \n",
       "..                                                 ...   \n",
       "314                                ['Neal Stephenson']   \n",
       "315                                 ['David Mitchell']   \n",
       "316     ['Alan Moore', 'Dave Gibbons', 'John Higgins']   \n",
       "317                                 ['Karl Marlantes']   \n",
       "318                                 ['Niall Ferguson']   \n",
       "\n",
       "                  publisher publishedDate  pageCount  \\\n",
       "0       Fromm International          1997      318.0   \n",
       "1              Random House    2020-01-02     1072.0   \n",
       "2    Radhakrishna Prakashan    2021-07-29      132.0   \n",
       "3           Tara Publishing          2004       48.0   \n",
       "4                   Unknown          1995      320.0   \n",
       "..                      ...           ...        ...   \n",
       "314          Harper Collins    2009-08-25     1008.0   \n",
       "315          Vintage Canada    2010-07-16      528.0   \n",
       "316               Dc Comics          1987      413.0   \n",
       "317    Grove/Atlantic, Inc.    2010-04-01      592.0   \n",
       "318                 Penguin    2008-11-13      496.0   \n",
       "\n",
       "                        categories  averageRating  ratingsCount language  \\\n",
       "0    ['Biography & Autobiography']            4.0           0.0       en   \n",
       "1                      ['Fiction']            4.5           5.0       en   \n",
       "2                          Unknown            4.0           0.0       hi   \n",
       "3                          ['Art']            5.0           1.0       en   \n",
       "4                       ['Botany']            4.0           3.0       en   \n",
       "..                             ...            ...           ...      ...   \n",
       "314                    ['Fiction']            4.0         175.0       en   \n",
       "315                    ['Fiction']            4.0         508.0       en   \n",
       "316    ['Comics & Graphic Novels']            4.0        3898.0       en   \n",
       "317                    ['Fiction']            4.5          93.0       en   \n",
       "318                    ['History']            4.5           5.0       en   \n",
       "\n",
       "                                           description  \\\n",
       "0                                                        \n",
       "1    'My dear, I don't give a damn.' Margaret Mitch...   \n",
       "2                                                        \n",
       "3    Bhajju Shyam, of the Gond tribe of central Ind...   \n",
       "4    Without plants, there would be no food, no ani...   \n",
       "..                                                 ...   \n",
       "314  For ten years Fraa Erasmas, a young avout, has...   \n",
       "315  By the New York Times bestselling author of Th...   \n",
       "316  As former members of a disbanded group of supe...   \n",
       "317  Intense, powerful, and compelling, Matterhorn ...   \n",
       "318  The 10th anniversary edition, with new chapter...   \n",
       "\n",
       "                                              synopsis  \\\n",
       "0                                                        \n",
       "1    'My dear, I don't give a damn.'\\n\\nMargaret Mi...   \n",
       "2                                                        \n",
       "3    “A beautiful book. I would like to give it to ...   \n",
       "4    Without plants, there would be no food, no ani...   \n",
       "..                                                 ...   \n",
       "314   For ten years Fraa Erasmas, a young avout, ha...   \n",
       "315  By the New York Times bestselling author of Th...   \n",
       "316  \"Following two generations of masked superhero...   \n",
       "317  Intense, powerful, and compelling, Matterhorn ...   \n",
       "318  The 10th anniversary edition, with new chapter...   \n",
       "\n",
       "                                      content_features  \n",
       "0    charles laughton: a difficult actor this is th...  \n",
       "1    gone with the wind a historical novel by marga...  \n",
       "2    hayvadan it is based on kathasaritsagara and t...  \n",
       "3    the london jungle book a visual travelogue by ...  \n",
       "4    the private life of plants this book reveals h...  \n",
       "..                                                 ...  \n",
       "314  anathem it is a science fiction novel by ameri...  \n",
       "315  cloud atlas it is a work combining metafiction...  \n",
       "316  watchmen it is an american comic book maxiseri...  \n",
       "317  matterhorn an incredible publishing story writ...  \n",
       "318  the ascent of money it takes us on a historica...  \n",
       "\n",
       "[319 rows x 14 columns]"
      ]
     },
     "execution_count": 11,
     "metadata": {},
     "output_type": "execute_result"
    }
   ],
   "source": [
    "books_df"
   ]
  },
  {
   "cell_type": "markdown",
   "id": "a785ef80",
   "metadata": {
    "papermill": {
     "duration": 0.005818,
     "end_time": "2025-05-21T03:53:30.533014",
     "exception": false,
     "start_time": "2025-05-21T03:53:30.527196",
     "status": "completed"
    },
    "tags": []
   },
   "source": [
    "#### Add Implicit Rating"
   ]
  },
  {
   "cell_type": "code",
   "execution_count": 12,
   "id": "ae43a19e",
   "metadata": {
    "execution": {
     "iopub.execute_input": "2025-05-21T03:53:30.545712Z",
     "iopub.status.busy": "2025-05-21T03:53:30.545510Z",
     "iopub.status.idle": "2025-05-21T03:53:30.553461Z",
     "shell.execute_reply": "2025-05-21T03:53:30.552774Z"
    },
    "papermill": {
     "duration": 0.015613,
     "end_time": "2025-05-21T03:53:30.554586",
     "exception": false,
     "start_time": "2025-05-21T03:53:30.538973",
     "status": "completed"
    },
    "tags": []
   },
   "outputs": [
    {
     "data": {
      "text/html": [
       "<div>\n",
       "<style scoped>\n",
       "    .dataframe tbody tr th:only-of-type {\n",
       "        vertical-align: middle;\n",
       "    }\n",
       "\n",
       "    .dataframe tbody tr th {\n",
       "        vertical-align: top;\n",
       "    }\n",
       "\n",
       "    .dataframe thead th {\n",
       "        text-align: right;\n",
       "    }\n",
       "</style>\n",
       "<table border=\"1\" class=\"dataframe\">\n",
       "  <thead>\n",
       "    <tr style=\"text-align: right;\">\n",
       "      <th></th>\n",
       "      <th>book_id</th>\n",
       "      <th>guest_id</th>\n",
       "      <th>rating</th>\n",
       "    </tr>\n",
       "  </thead>\n",
       "  <tbody>\n",
       "    <tr>\n",
       "      <th>0</th>\n",
       "      <td>0</td>\n",
       "      <td>0</td>\n",
       "      <td>1</td>\n",
       "    </tr>\n",
       "    <tr>\n",
       "      <th>1</th>\n",
       "      <td>1</td>\n",
       "      <td>0</td>\n",
       "      <td>1</td>\n",
       "    </tr>\n",
       "    <tr>\n",
       "      <th>2</th>\n",
       "      <td>2</td>\n",
       "      <td>0</td>\n",
       "      <td>1</td>\n",
       "    </tr>\n",
       "    <tr>\n",
       "      <th>3</th>\n",
       "      <td>3</td>\n",
       "      <td>0</td>\n",
       "      <td>1</td>\n",
       "    </tr>\n",
       "    <tr>\n",
       "      <th>4</th>\n",
       "      <td>4</td>\n",
       "      <td>0</td>\n",
       "      <td>1</td>\n",
       "    </tr>\n",
       "    <tr>\n",
       "      <th>...</th>\n",
       "      <td>...</td>\n",
       "      <td>...</td>\n",
       "      <td>...</td>\n",
       "    </tr>\n",
       "    <tr>\n",
       "      <th>330</th>\n",
       "      <td>91</td>\n",
       "      <td>27</td>\n",
       "      <td>1</td>\n",
       "    </tr>\n",
       "    <tr>\n",
       "      <th>331</th>\n",
       "      <td>315</td>\n",
       "      <td>27</td>\n",
       "      <td>1</td>\n",
       "    </tr>\n",
       "    <tr>\n",
       "      <th>332</th>\n",
       "      <td>316</td>\n",
       "      <td>27</td>\n",
       "      <td>1</td>\n",
       "    </tr>\n",
       "    <tr>\n",
       "      <th>333</th>\n",
       "      <td>317</td>\n",
       "      <td>27</td>\n",
       "      <td>1</td>\n",
       "    </tr>\n",
       "    <tr>\n",
       "      <th>334</th>\n",
       "      <td>318</td>\n",
       "      <td>27</td>\n",
       "      <td>1</td>\n",
       "    </tr>\n",
       "  </tbody>\n",
       "</table>\n",
       "<p>335 rows × 3 columns</p>\n",
       "</div>"
      ],
      "text/plain": [
       "     book_id  guest_id  rating\n",
       "0          0         0       1\n",
       "1          1         0       1\n",
       "2          2         0       1\n",
       "3          3         0       1\n",
       "4          4         0       1\n",
       "..       ...       ...     ...\n",
       "330       91        27       1\n",
       "331      315        27       1\n",
       "332      316        27       1\n",
       "333      317        27       1\n",
       "334      318        27       1\n",
       "\n",
       "[335 rows x 3 columns]"
      ]
     },
     "execution_count": 12,
     "metadata": {},
     "output_type": "execute_result"
    }
   ],
   "source": [
    "if not recommendations_df.empty:\n",
    "    recommendations_df['rating'] = 1\n",
    "\n",
    "recommendations_df"
   ]
  },
  {
   "cell_type": "markdown",
   "id": "887c0604",
   "metadata": {
    "papermill": {
     "duration": 0.005983,
     "end_time": "2025-05-21T03:53:30.566703",
     "exception": false,
     "start_time": "2025-05-21T03:53:30.560720",
     "status": "completed"
    },
    "tags": []
   },
   "source": [
    "## Modelling"
   ]
  },
  {
   "cell_type": "markdown",
   "id": "d9fb6847",
   "metadata": {
    "papermill": {
     "duration": 0.005754,
     "end_time": "2025-05-21T03:53:30.578399",
     "exception": false,
     "start_time": "2025-05-21T03:53:30.572645",
     "status": "completed"
    },
    "tags": []
   },
   "source": [
    "### Content-Based Filtering"
   ]
  },
  {
   "cell_type": "markdown",
   "id": "4c6fdbb5",
   "metadata": {
    "papermill": {
     "duration": 0.005801,
     "end_time": "2025-05-21T03:53:30.590130",
     "exception": false,
     "start_time": "2025-05-21T03:53:30.584329",
     "status": "completed"
    },
    "tags": []
   },
   "source": [
    "#### TF-IDF"
   ]
  },
  {
   "cell_type": "code",
   "execution_count": 13,
   "id": "47c66787",
   "metadata": {
    "execution": {
     "iopub.execute_input": "2025-05-21T03:53:30.645714Z",
     "iopub.status.busy": "2025-05-21T03:53:30.645020Z",
     "iopub.status.idle": "2025-05-21T03:53:32.102859Z",
     "shell.execute_reply": "2025-05-21T03:53:32.101892Z"
    },
    "papermill": {
     "duration": 1.466069,
     "end_time": "2025-05-21T03:53:32.104264",
     "exception": false,
     "start_time": "2025-05-21T03:53:30.638195",
     "status": "completed"
    },
    "tags": []
   },
   "outputs": [
    {
     "name": "stdout",
     "output_type": "stream",
     "text": [
      "Membangun model Content-Based Filtering...\n"
     ]
    }
   ],
   "source": [
    "from sklearn.feature_extraction.text import TfidfVectorizer\n",
    "from sklearn.metrics.pairwise import cosine_similarity\n",
    "\n",
    "cosine_sim_books = None\n",
    "book_indices = None\n",
    "\n",
    "if not books_df.empty and 'content_features' in books_df.columns and not books_df['content_features'].dropna().empty:\n",
    "    print(\"Membangun model Content-Based Filtering...\")\n",
    "    try:\n",
    "        tfidf_vectorizer = TfidfVectorizer(stop_words='english', max_df=0.85, min_df=2)\n",
    "        tfidf_matrix = tfidf_vectorizer.fit_transform(books_df['content_features'].dropna())\n",
    "\n",
    "        if tfidf_matrix.shape[0] > 0:\n",
    "            cosine_sim_books = cosine_similarity(tfidf_matrix, tfidf_matrix)\n",
    "            books_df_for_indices = books_df.dropna(subset=['book_name', 'content_features']).reset_index(drop=True)\n",
    "            if not books_df_for_indices.empty:\n",
    "                 book_indices = pd.Series(books_df_for_indices.index, index=books_df_for_indices['book_name']).drop_duplicates()\n",
    "            else:\n",
    "                print(\"Tidak ada buku yang valid untuk membuat book_indices pada Content-Based.\")\n",
    "        else:\n",
    "            print(\"Matriks TF-IDF kosong, tidak bisa menghitung cosine similarity.\")\n",
    "            \n",
    "    except Exception as e:\n",
    "        print(f\"Error saat membangun model Content-Based: {e}\")\n",
    "else:\n",
    "    print(\"Skipping Content-Based Filtering: books_df tidak siap atau kolom 'content_features' kosong/NaN semua.\")"
   ]
  },
  {
   "cell_type": "markdown",
   "id": "cb070e9c",
   "metadata": {
    "papermill": {
     "duration": 0.007163,
     "end_time": "2025-05-21T03:53:32.118395",
     "exception": false,
     "start_time": "2025-05-21T03:53:32.111232",
     "status": "completed"
    },
    "tags": []
   },
   "source": [
    "#### Recommendation Method"
   ]
  },
  {
   "cell_type": "code",
   "execution_count": 14,
   "id": "f407cc32",
   "metadata": {
    "execution": {
     "iopub.execute_input": "2025-05-21T03:53:32.131972Z",
     "iopub.status.busy": "2025-05-21T03:53:32.131680Z",
     "iopub.status.idle": "2025-05-21T03:53:32.138094Z",
     "shell.execute_reply": "2025-05-21T03:53:32.137462Z"
    },
    "papermill": {
     "duration": 0.014302,
     "end_time": "2025-05-21T03:53:32.139239",
     "exception": false,
     "start_time": "2025-05-21T03:53:32.124937",
     "status": "completed"
    },
    "tags": []
   },
   "outputs": [],
   "source": [
    "def get_content_based_recommendations(book_title, num_recommendations=5):\n",
    "    \"\"\"Memberikan rekomendasi buku berdasarkan kemiripan konten.\"\"\"\n",
    "    if cosine_sim_books is None or book_indices is None or book_indices.empty:\n",
    "        return \"Model Content-Based belum siap atau tidak ada data.\"\n",
    "    if book_title not in book_indices:\n",
    "        # Coba cari judul yang mirip jika ada typo kecil (opsional, bisa kompleks)\n",
    "        # from difflib import get_close_matches\n",
    "        # close_matches = get_close_matches(book_title, book_indices.index)\n",
    "        # if close_matches:\n",
    "        #     return f\"Buku '{book_title}' tidak ditemukan. Mungkin maksud Anda: {close_matches[0]}?\"\n",
    "        return f\"Buku '{book_title}' tidak ditemukan dalam indeks buku.\"\n",
    "\n",
    "    idx = book_indices[book_title]\n",
    "    \n",
    "    # Pastikan idx valid untuk cosine_sim_books\n",
    "    if idx >= cosine_sim_books.shape[0]:\n",
    "        return f\"Indeks buku '{book_title}' di luar jangkauan matriks similaritas.\"\n",
    "\n",
    "    sim_scores = list(enumerate(cosine_sim_books[idx]))\n",
    "    sim_scores = sorted(sim_scores, key=lambda x: x[1], reverse=True)\n",
    "    sim_scores = sim_scores[1:num_recommendations+1]\n",
    "    book_rec_indices = [i[0] for i in sim_scores]\n",
    "\n",
    "    # Menggunakan DataFrame yang digunakan untuk membuat book_indices\n",
    "    # (books_df_for_indices dari blok training model CB)\n",
    "    # Jika book_indices dibuat dari books_df asli, maka gunakan books_df.iloc\n",
    "    # Ini ASUMSI book_indices dibuat dari books_df_for_indices yang sudah di-reset indexnya\n",
    "    if 'books_df_for_indices' in globals() and not books_df_for_indices.empty:\n",
    "         recommended_books = books_df_for_indices['book_name'].iloc[book_rec_indices]\n",
    "    elif not books_df.empty: # Fallback jika books_df_for_indices tidak terdefinisi dengan baik\n",
    "        # Ini mungkin tidak akurat jika ada dropna pada content_features\n",
    "        print(\"Peringatan: Menggunakan books_df.iloc untuk rekomendasi CB, indeks mungkin tidak sinkron jika ada NaN di content_features.\")\n",
    "        # Pastikan book_rec_indices valid untuk books_df\n",
    "        valid_rec_indices = [i for i in book_rec_indices if i < len(books_df)]\n",
    "        recommended_books = books_df['book_name'].iloc[valid_rec_indices]\n",
    "    else:\n",
    "        return \"DataFrame buku tidak tersedia untuk mengambil nama buku.\"\n",
    "\n",
    "    return recommended_books"
   ]
  },
  {
   "cell_type": "markdown",
   "id": "76b50702",
   "metadata": {
    "papermill": {
     "duration": 0.006091,
     "end_time": "2025-05-21T03:53:32.151572",
     "exception": false,
     "start_time": "2025-05-21T03:53:32.145481",
     "status": "completed"
    },
    "tags": []
   },
   "source": [
    "#### Example"
   ]
  },
  {
   "cell_type": "code",
   "execution_count": 15,
   "id": "1aa65533",
   "metadata": {
    "execution": {
     "iopub.execute_input": "2025-05-21T03:53:32.164863Z",
     "iopub.status.busy": "2025-05-21T03:53:32.164587Z",
     "iopub.status.idle": "2025-05-21T03:53:32.173650Z",
     "shell.execute_reply": "2025-05-21T03:53:32.172812Z"
    },
    "papermill": {
     "duration": 0.017026,
     "end_time": "2025-05-21T03:53:32.174761",
     "exception": false,
     "start_time": "2025-05-21T03:53:32.157735",
     "status": "completed"
    },
    "tags": []
   },
   "outputs": [
    {
     "name": "stdout",
     "output_type": "stream",
     "text": [
      "\n",
      "--- Rekomendasi Content-Based untuk 'The Godfather' ---\n",
      "312         2001 Series\n",
      "112    American Kingpin\n",
      "16          Bleak House\n",
      "Name: book_name, dtype: object\n"
     ]
    }
   ],
   "source": [
    "# Contoh penggunaan Content-Based Recommendation\n",
    "if not books_df.empty and 'book_name' in books_df.columns and len(books_df['book_name'].dropna()) > 1 and book_indices is not None and not book_indices.empty:\n",
    "    try:\n",
    "        sample_book_title_cb = book_indices.index.to_series().sample(1).iloc[0]\n",
    "        print(f\"\\n--- Rekomendasi Content-Based untuk '{sample_book_title_cb}' ---\")\n",
    "        recommendations_cb = get_content_based_recommendations(sample_book_title_cb, num_recommendations=3)\n",
    "        if isinstance(recommendations_cb, str):\n",
    "             print(recommendations_cb)\n",
    "        elif not recommendations_cb.empty:\n",
    "            print(recommendations_cb)\n",
    "        else:\n",
    "            print(\"Tidak ada rekomendasi content-based yang dapat dibuat.\")\n",
    "    except Exception as e:\n",
    "        print(f\"Error saat mengambil contoh rekomendasi Content-Based: {e}\")\n",
    "else:\n",
    "    print(\"Skipping contoh Content-Based: 'book_name' column missing, tidak cukup buku, atau model belum siap.\")\n"
   ]
  },
  {
   "cell_type": "markdown",
   "id": "1cbb9867",
   "metadata": {
    "papermill": {
     "duration": 0.006244,
     "end_time": "2025-05-21T03:53:32.187223",
     "exception": false,
     "start_time": "2025-05-21T03:53:32.180979",
     "status": "completed"
    },
    "tags": []
   },
   "source": [
    "### Collaborative Filtering"
   ]
  },
  {
   "cell_type": "markdown",
   "id": "b752eccf",
   "metadata": {
    "papermill": {
     "duration": 0.006162,
     "end_time": "2025-05-21T03:53:32.199550",
     "exception": false,
     "start_time": "2025-05-21T03:53:32.193388",
     "status": "completed"
    },
    "tags": []
   },
   "source": [
    "CF > Model-Based > Matrix Factorization"
   ]
  },
  {
   "cell_type": "markdown",
   "id": "60fdf2ea",
   "metadata": {
    "papermill": {
     "duration": 0.008973,
     "end_time": "2025-05-21T03:53:32.214622",
     "exception": false,
     "start_time": "2025-05-21T03:53:32.205649",
     "status": "completed"
    },
    "tags": []
   },
   "source": [
    "#### Single Value Decomposition (SVD)"
   ]
  },
  {
   "cell_type": "code",
   "execution_count": 16,
   "id": "6cdc081c",
   "metadata": {
    "execution": {
     "iopub.execute_input": "2025-05-21T03:53:32.236893Z",
     "iopub.status.busy": "2025-05-21T03:53:32.236269Z",
     "iopub.status.idle": "2025-05-21T03:53:32.298602Z",
     "shell.execute_reply": "2025-05-21T03:53:32.297815Z"
    },
    "papermill": {
     "duration": 0.075949,
     "end_time": "2025-05-21T03:53:32.299660",
     "exception": false,
     "start_time": "2025-05-21T03:53:32.223711",
     "status": "completed"
    },
    "tags": []
   },
   "outputs": [
    {
     "name": "stdout",
     "output_type": "stream",
     "text": [
      "\n",
      "Membangun model Collaborative Filtering (SVD)...\n",
      "Model SVD berhasil dilatih.\n"
     ]
    }
   ],
   "source": [
    "from surprise import Dataset, Reader, SVD\n",
    "from surprise.model_selection import cross_validate\n",
    "\n",
    "SURPRISE_AVAILABLE = True\n",
    "algo_svd = None\n",
    "\n",
    "if SURPRISE_AVAILABLE and not recommendations_df.empty and \\\n",
    "   all(col in recommendations_df.columns for col in ['guest_id', 'book_id', 'rating']) and \\\n",
    "   len(recommendations_df) > 1: \n",
    "    print(\"\\nMembangun model Collaborative Filtering (SVD)...\")\n",
    "    try:\n",
    "        reader = Reader(rating_scale=(0, 1))\n",
    "        data_cf = Dataset.load_from_df(recommendations_df[['guest_id', 'book_id', 'rating']], reader)\n",
    "        trainset_full = data_cf.build_full_trainset()\n",
    "\n",
    "        algo_svd = SVD(n_factors=50, n_epochs=20, random_state=42, verbose=False)\n",
    "        algo_svd.fit(trainset_full)\n",
    "        print(\"Model SVD berhasil dilatih.\")\n",
    "    except Exception as e:\n",
    "        print(f\"Error saat membangun model SVD: {e}\")\n",
    "        algo_svd = None \n",
    "else:\n",
    "    if SURPRISE_AVAILABLE:\n",
    "        print(\"Skipping Collaborative Filtering: recommendations_df tidak siap, kosong, atau kurang dari 2 interaksi.\")"
   ]
  },
  {
   "cell_type": "markdown",
   "id": "71b7b782",
   "metadata": {
    "papermill": {
     "duration": 0.006098,
     "end_time": "2025-05-21T03:53:32.312179",
     "exception": false,
     "start_time": "2025-05-21T03:53:32.306081",
     "status": "completed"
    },
    "tags": []
   },
   "source": [
    "#### Recommendation Method"
   ]
  },
  {
   "cell_type": "code",
   "execution_count": 17,
   "id": "bdb87b11",
   "metadata": {
    "execution": {
     "iopub.execute_input": "2025-05-21T03:53:32.325403Z",
     "iopub.status.busy": "2025-05-21T03:53:32.325122Z",
     "iopub.status.idle": "2025-05-21T03:53:32.331569Z",
     "shell.execute_reply": "2025-05-21T03:53:32.330992Z"
    },
    "papermill": {
     "duration": 0.014447,
     "end_time": "2025-05-21T03:53:32.332646",
     "exception": false,
     "start_time": "2025-05-21T03:53:32.318199",
     "status": "completed"
    },
    "tags": []
   },
   "outputs": [],
   "source": [
    "def get_collaborative_filtering_recommendations(guest_id_input, algo, n_recs=5):\n",
    "    \"\"\"Memberikan rekomendasi buku untuk seorang tamu menggunakan model CF.\"\"\"\n",
    "    if algo is None:\n",
    "        return \"Model Collaborative Filtering belum siap.\"\n",
    "    if not 'book_id' in recommendations_df or not 'guest_id' in recommendations_df:\n",
    "        return \"Kolom 'book_id' atau 'guest_id' tidak ada di recommendations_df.\"\n",
    "\n",
    "    try:\n",
    "        # Konversi guest_id_input ke tipe data yang sama dengan di trainset (biasanya string atau int)\n",
    "        # algo.trainset.to_inner_uid(guest_id_input) # Ini akan error jika guest_id tidak ada\n",
    "        # Cek dulu apakah guest_id ada di trainset\n",
    "        try:\n",
    "            _ = algo.trainset.to_inner_uid(guest_id_input)\n",
    "        except ValueError:\n",
    "            return f\"Guest ID '{guest_id_input}' tidak ditemukan dalam training set model CF.\"\n",
    "\n",
    "        all_book_ids_in_model = [algo.trainset.to_raw_iid(inner_id) for inner_id in algo.trainset.all_items()]\n",
    "        guest_recommended_books_raw_ids = recommendations_df[recommendations_df['guest_id'] == guest_id_input]['book_id'].unique()\n",
    "\n",
    "        books_to_predict = np.setdiff1d(all_book_ids_in_model, guest_recommended_books_raw_ids)\n",
    "\n",
    "        if not books_to_predict.any():\n",
    "            return \"Tamu ini sudah merekomendasikan semua buku yang ada di model, atau tidak ada buku baru untuk direkomendasikan.\"\n",
    "\n",
    "        test_data_for_guest = [(guest_id_input, book_id, 0) for book_id in books_to_predict]\n",
    "        if not test_data_for_guest: # Jika tidak ada buku lagi untuk diprediksi setelah filtering\n",
    "            return \"Tidak ada buku lagi yang dapat diprediksi untuk tamu ini.\"\n",
    "\n",
    "        predictions = algo.test(test_data_for_guest)\n",
    "        predictions.sort(key=lambda x: x.est, reverse=True)\n",
    "\n",
    "        recommended_book_ids = [pred.iid for pred in predictions[:n_recs]]\n",
    "\n",
    "        if not books_df.empty and 'book_id' in books_df.columns and 'book_name' in books_df.columns:\n",
    "            recommended_book_names = books_df[books_df['book_id'].isin(recommended_book_ids)][['book_id', 'book_name']]\n",
    "            # Urutkan berdasarkan urutan di recommended_book_ids\n",
    "            recommended_book_names = recommended_book_names.set_index('book_id').loc[recommended_book_ids].reset_index()['book_name']\n",
    "            return recommended_book_names\n",
    "        else:\n",
    "            return pd.Series(recommended_book_ids, name=\"book_id\") # Kembalikan ID jika books_df tidak tersedia\n",
    "    except Exception as e:\n",
    "        return f\"Error saat mendapatkan rekomendasi CF: {e}\""
   ]
  },
  {
   "cell_type": "markdown",
   "id": "44b2a95d",
   "metadata": {
    "papermill": {
     "duration": 0.006042,
     "end_time": "2025-05-21T03:53:32.344893",
     "exception": false,
     "start_time": "2025-05-21T03:53:32.338851",
     "status": "completed"
    },
    "tags": []
   },
   "source": [
    "#### Example"
   ]
  },
  {
   "cell_type": "code",
   "execution_count": 18,
   "id": "860c8bea",
   "metadata": {
    "execution": {
     "iopub.execute_input": "2025-05-21T03:53:32.357848Z",
     "iopub.status.busy": "2025-05-21T03:53:32.357648Z",
     "iopub.status.idle": "2025-05-21T03:53:32.372772Z",
     "shell.execute_reply": "2025-05-21T03:53:32.372111Z"
    },
    "papermill": {
     "duration": 0.022823,
     "end_time": "2025-05-21T03:53:32.373781",
     "exception": false,
     "start_time": "2025-05-21T03:53:32.350958",
     "status": "completed"
    },
    "tags": []
   },
   "outputs": [
    {
     "name": "stdout",
     "output_type": "stream",
     "text": [
      "\n",
      "--- Rekomendasi Collaborative Filtering (SVD) untuk Guest ID '17' ---\n",
      "0    Charles Laughton: A Difficult Actor\n",
      "1                     Gone with the Wind\n",
      "2             The Private Life of Plants\n",
      "Name: book_name, dtype: object\n"
     ]
    }
   ],
   "source": [
    "if algo_svd is not None and not guests_df.empty and 'guest_id' in guests_df.columns and \\\n",
    "   not recommendations_df.empty and 'guest_id' in recommendations_df.columns and \\\n",
    "   len(recommendations_df['guest_id'].unique()) > 0:\n",
    "    try:\n",
    "        # Dapatkan semua inner user IDs dari trainset\n",
    "        all_inner_user_ids = list(algo_svd.trainset.all_users())\n",
    "\n",
    "        if all_inner_user_ids:\n",
    "            # Konversi inner user IDs kembali ke raw user IDs\n",
    "            available_guest_ids_in_model = [algo_svd.trainset.to_raw_uid(inner_id) for inner_id in all_inner_user_ids]\n",
    "\n",
    "            if available_guest_ids_in_model:\n",
    "                sample_guest_id_cf = np.random.choice(available_guest_ids_in_model)\n",
    "                print(f\"\\n--- Rekomendasi Collaborative Filtering (SVD) untuk Guest ID '{sample_guest_id_cf}' ---\")\n",
    "                recommendations_svd = get_collaborative_filtering_recommendations(sample_guest_id_cf, algo_svd, n_recs=3)\n",
    "                if isinstance(recommendations_svd, str):\n",
    "                    print(recommendations_svd)\n",
    "                elif recommendations_svd is not None and not recommendations_svd.empty: # Tambahkan pengecekan None\n",
    "                    print(recommendations_svd)\n",
    "                else:\n",
    "                    print(\"Tidak ada rekomendasi collaborative filtering yang dapat dibuat (kemungkinan hasil kosong atau None).\")\n",
    "            else:\n",
    "                print(\"Tidak ada guest ID mentah yang valid di model CF setelah konversi.\")\n",
    "        else:\n",
    "            print(\"Tidak ada user ID (inner) di model CF untuk dijadikan sampel.\")\n",
    "    except Exception as e:\n",
    "        print(f\"Error saat mengambil contoh rekomendasi Collaborative Filtering: {e}\")\n",
    "else:\n",
    "    print(\"Skipping contoh Collaborative Filtering: model SVD belum siap atau data tidak cukup.\")"
   ]
  },
  {
   "cell_type": "markdown",
   "id": "3e1ec496",
   "metadata": {
    "papermill": {
     "duration": 0.006105,
     "end_time": "2025-05-21T03:53:32.386129",
     "exception": false,
     "start_time": "2025-05-21T03:53:32.380024",
     "status": "completed"
    },
    "tags": []
   },
   "source": [
    "## Evaluation"
   ]
  },
  {
   "cell_type": "code",
   "execution_count": 19,
   "id": "c361866c",
   "metadata": {
    "execution": {
     "iopub.execute_input": "2025-05-21T03:53:32.399362Z",
     "iopub.status.busy": "2025-05-21T03:53:32.398965Z",
     "iopub.status.idle": "2025-05-21T03:53:32.412962Z",
     "shell.execute_reply": "2025-05-21T03:53:32.412329Z"
    },
    "papermill": {
     "duration": 0.021709,
     "end_time": "2025-05-21T03:53:32.413923",
     "exception": false,
     "start_time": "2025-05-21T03:53:32.392214",
     "status": "completed"
    },
    "tags": []
   },
   "outputs": [
    {
     "name": "stdout",
     "output_type": "stream",
     "text": [
      "\n",
      "Hasil Cross-Validation SVD:\n",
      "Rata-rata RMSE: 0.0126\n",
      "Rata-rata MAE: 0.0056\n"
     ]
    }
   ],
   "source": [
    "if SURPRISE_AVAILABLE and algo_svd is not None and not recommendations_df.empty and \\\n",
    "   all(col in recommendations_df.columns for col in ['guest_id', 'book_id', 'rating']) and \\\n",
    "   len(recommendations_df) > 1:\n",
    "    try:\n",
    "        reader_eval = Reader(rating_scale=(0, 1))\n",
    "        data_cf_eval = Dataset.load_from_df(recommendations_df[['guest_id', 'book_id', 'rating']], reader_eval)\n",
    "        algo_svd_eval = SVD(n_factors=50, n_epochs=20, random_state=42, verbose=False)\n",
    "        cv_results = cross_validate(algo_svd_eval, data_cf_eval, measures=['RMSE', 'MAE'], cv=3, verbose=False)\n",
    "        print(\"\\nHasil Cross-Validation SVD:\")\n",
    "        print(f\"Rata-rata RMSE: {cv_results['test_rmse'].mean():.4f}\")\n",
    "        print(f\"Rata-rata MAE: {cv_results['test_mae'].mean():.4f}\")\n",
    "    except Exception as e:\n",
    "        print(f\"Error saat melakukan cross-validation: {e}\")\n",
    "else:\n",
    "    if SURPRISE_AVAILABLE:\n",
    "        print(\"Skipping Evaluasi CF: model SVD belum siap atau data tidak cukup.\")"
   ]
  }
 ],
 "metadata": {
  "kaggle": {
   "accelerator": "none",
   "dataSources": [
    {
     "datasetId": 1930141,
     "sourceId": 3176295,
     "sourceType": "datasetVersion"
    }
   ],
   "dockerImageVersionId": 31040,
   "isGpuEnabled": false,
   "isInternetEnabled": true,
   "language": "python",
   "sourceType": "notebook"
  },
  "kernelspec": {
   "display_name": "Python 3",
   "language": "python",
   "name": "python3"
  },
  "language_info": {
   "codemirror_mode": {
    "name": "ipython",
    "version": 3
   },
   "file_extension": ".py",
   "mimetype": "text/x-python",
   "name": "python",
   "nbconvert_exporter": "python",
   "pygments_lexer": "ipython3",
   "version": "3.11.11"
  },
  "papermill": {
   "default_parameters": {},
   "duration": 8.326036,
   "end_time": "2025-05-21T03:53:32.836297",
   "environment_variables": {},
   "exception": null,
   "input_path": "__notebook__.ipynb",
   "output_path": "__notebook__.ipynb",
   "parameters": {},
   "start_time": "2025-05-21T03:53:24.510261",
   "version": "2.6.0"
  }
 },
 "nbformat": 4,
 "nbformat_minor": 5
}
